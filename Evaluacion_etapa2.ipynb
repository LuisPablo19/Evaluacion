{
  "nbformat": 4,
  "nbformat_minor": 0,
  "metadata": {
    "colab": {
      "provenance": [],
      "authorship_tag": "ABX9TyM1CrdibDX62PycmhBdvCfE",
      "include_colab_link": true
    },
    "kernelspec": {
      "name": "python3",
      "display_name": "Python 3"
    },
    "language_info": {
      "name": "python"
    }
  },
  "cells": [
    {
      "cell_type": "markdown",
      "metadata": {
        "id": "view-in-github",
        "colab_type": "text"
      },
      "source": [
        "<a href=\"https://colab.research.google.com/github/LuisPablo19/Evaluacion/blob/main/Evaluacion_etapa2.ipynb\" target=\"_parent\"><img src=\"https://colab.research.google.com/assets/colab-badge.svg\" alt=\"Open In Colab\"/></a>"
      ]
    },
    {
      "cell_type": "markdown",
      "source": [
        "#**Actividad 5 (Evaluación)**\n",
        "##Luis Pablo Padilla Barbosa\n",
        "##A00572040"
      ],
      "metadata": {
        "id": "EnJqQH5ixmYb"
      }
    },
    {
      "cell_type": "code",
      "source": [
        "import pandas as pd\n",
        "import numpy as np\n",
        "import matplotlib.pyplot as plt\n",
        "import seaborn as sns\n",
        "from google.colab import files "
      ],
      "metadata": {
        "id": "cT06cqMOyC6o"
      },
      "execution_count": 92,
      "outputs": []
    },
    {
      "cell_type": "code",
      "execution_count": 93,
      "metadata": {
        "id": "kiGXEty6xgFA",
        "colab": {
          "base_uri": "https://localhost:8080/"
        },
        "outputId": "8a6f57d8-bacb-474f-c6cd-0578813365b0"
      },
      "outputs": [
        {
          "output_type": "stream",
          "name": "stderr",
          "text": [
            "<ipython-input-93-fff14926e304>:2: DtypeWarning: Columns (1,15) have mixed types. Specify dtype option on import or set low_memory=False.\n",
            "  Mexico = pd.read_csv(\"DF_Mexico (Limpio).csv\", index_col = 'Unnamed: 0')\n",
            "<ipython-input-93-fff14926e304>:3: DtypeWarning: Columns (0,1) have mixed types. Specify dtype option on import or set low_memory=False.\n",
            "  Espana = pd.read_csv(\"Girona_España (Limpio).csv\", encoding = \"unicode_escape\", index_col = 'Unnamed: 0')\n"
          ]
        }
      ],
      "source": [
        "EUA = pd.read_csv(\"California_EUA (Limpio).csv\", encoding = \"unicode_escape\", index_col = 'Unnamed: 0')\n",
        "Mexico = pd.read_csv(\"DF_Mexico (Limpio).csv\", index_col = 'Unnamed: 0')\n",
        "Espana = pd.read_csv(\"Girona_España (Limpio).csv\", encoding = \"unicode_escape\", index_col = 'Unnamed: 0')"
      ]
    },
    {
      "cell_type": "markdown",
      "source": [
        "##**Estados Unidos**"
      ],
      "metadata": {
        "id": "J42yqMYaGp5y"
      }
    },
    {
      "cell_type": "code",
      "source": [
        "df = EUA"
      ],
      "metadata": {
        "id": "DJ95Z3c1H6C0"
      },
      "execution_count": 94,
      "outputs": []
    },
    {
      "cell_type": "code",
      "source": [
        "df.info()"
      ],
      "metadata": {
        "id": "_zCsvz7pIPJd",
        "colab": {
          "base_uri": "https://localhost:8080/"
        },
        "outputId": "209623a4-9127-4bf5-faa8-e6bcd015b63d"
      },
      "execution_count": 95,
      "outputs": [
        {
          "output_type": "stream",
          "name": "stdout",
          "text": [
            "<class 'pandas.core.frame.DataFrame'>\n",
            "Int64Index: 6936 entries, 0 to 6935\n",
            "Data columns (total 72 columns):\n",
            " #   Column                                        Non-Null Count  Dtype  \n",
            "---  ------                                        --------------  -----  \n",
            " 0   Ã¯Â»Â¿id                                      6936 non-null   float64\n",
            " 1   listing_url                                   6936 non-null   object \n",
            " 2   last_scraped                                  6936 non-null   object \n",
            " 3   source                                        6936 non-null   object \n",
            " 4   name                                          6936 non-null   object \n",
            " 5   description                                   6936 non-null   object \n",
            " 6   neighborhood_overview                         6936 non-null   object \n",
            " 7   picture_url                                   6936 non-null   object \n",
            " 8   host_url                                      6936 non-null   object \n",
            " 9   host_name                                     6936 non-null   object \n",
            " 10  host_since                                    6936 non-null   object \n",
            " 11  host_location                                 6936 non-null   object \n",
            " 12  host_about                                    6936 non-null   object \n",
            " 13  host_response_time                            6936 non-null   object \n",
            " 14  host_response_rate                            6936 non-null   int64  \n",
            " 15  host_acceptance_rate                          6936 non-null   int64  \n",
            " 16  host_is_superhost                             6936 non-null   object \n",
            " 17  host_thumbnail_url                            6936 non-null   object \n",
            " 18  host_picture_url                              6936 non-null   object \n",
            " 19  host_neighbourhood                            6936 non-null   object \n",
            " 20  host_verifications                            6936 non-null   object \n",
            " 21  host_has_profile_pic                          6936 non-null   object \n",
            " 22  host_identity_verified                        6936 non-null   object \n",
            " 23  neighbourhood                                 6936 non-null   object \n",
            " 24  neighbourhood_cleansed                        6936 non-null   object \n",
            " 25  property_type                                 6936 non-null   object \n",
            " 26  room_type                                     6936 non-null   object \n",
            " 27  bathrooms_text                                6936 non-null   object \n",
            " 28  amenities                                     6936 non-null   object \n",
            " 29  price                                         6936 non-null   float64\n",
            " 30  has_availability                              6936 non-null   object \n",
            " 31  calendar_last_scraped                         6936 non-null   object \n",
            " 32  first_review                                  6936 non-null   object \n",
            " 33  last_review                                   6936 non-null   object \n",
            " 34  license                                       6936 non-null   object \n",
            " 35  instant_bookable                              6936 non-null   object \n",
            " 36  scrape_id                                     6936 non-null   float64\n",
            " 37  host_id                                       6936 non-null   float64\n",
            " 38  host_listings_count                           6936 non-null   float64\n",
            " 39  host_total_listings_count                     6936 non-null   float64\n",
            " 40  latitude                                      6936 non-null   float64\n",
            " 41  longitude                                     6936 non-null   float64\n",
            " 42  accommodates                                  6936 non-null   int64  \n",
            " 43  bedrooms                                      6936 non-null   float64\n",
            " 44  beds                                          6936 non-null   float64\n",
            " 45  minimum_nights                                6936 non-null   float64\n",
            " 46  maximum_nights                                6936 non-null   float64\n",
            " 47  minimum_minimum_nights                        6936 non-null   float64\n",
            " 48  maximum_minimum_nights                        6936 non-null   float64\n",
            " 49  minimum_maximum_nights                        6936 non-null   float64\n",
            " 50  maximum_maximum_nights                        6936 non-null   float64\n",
            " 51  minimum_nights_avg_ntm                        6936 non-null   float64\n",
            " 52  maximum_nights_avg_ntm                        6936 non-null   float64\n",
            " 53  availability_30                               6936 non-null   int64  \n",
            " 54  availability_60                               6936 non-null   int64  \n",
            " 55  availability_90                               6936 non-null   int64  \n",
            " 56  availability_365                              6936 non-null   int64  \n",
            " 57  number_of_reviews                             6936 non-null   float64\n",
            " 58  number_of_reviews_ltm                         6936 non-null   float64\n",
            " 59  number_of_reviews_l30d                        6936 non-null   float64\n",
            " 60  review_scores_rating                          6936 non-null   float64\n",
            " 61  review_scores_accuracy                        6936 non-null   float64\n",
            " 62  review_scores_cleanliness                     6936 non-null   float64\n",
            " 63  review_scores_checkin                         6936 non-null   float64\n",
            " 64  review_scores_communication                   6936 non-null   float64\n",
            " 65  review_scores_location                        6936 non-null   float64\n",
            " 66  review_scores_value                           6936 non-null   float64\n",
            " 67  calculated_host_listings_count                6936 non-null   float64\n",
            " 68  calculated_host_listings_count_entire_homes   6936 non-null   float64\n",
            " 69  calculated_host_listings_count_private_rooms  6936 non-null   float64\n",
            " 70  calculated_host_listings_count_shared_rooms   6936 non-null   int64  \n",
            " 71  reviews_per_month                             6936 non-null   float64\n",
            "dtypes: float64(32), int64(8), object(32)\n",
            "memory usage: 3.9+ MB\n"
          ]
        }
      ]
    },
    {
      "cell_type": "code",
      "source": [
        "#host_acceptance_rate>50%\n",
        "filtro1=df[df[\"host_acceptance_rate\"] > 50]\n",
        "filtro1.to_csv(\"filtro1_EUA.csv\")\n",
        "files.download(\"filtro1_EUA.csv\")"
      ],
      "metadata": {
        "colab": {
          "base_uri": "https://localhost:8080/",
          "height": 0
        },
        "id": "hy4JMvXsGtLq",
        "outputId": "93cdfc60-bc15-4f97-95f4-71e6df39a797"
      },
      "execution_count": 96,
      "outputs": [
        {
          "output_type": "display_data",
          "data": {
            "text/plain": [
              "<IPython.core.display.Javascript object>"
            ],
            "application/javascript": [
              "\n",
              "    async function download(id, filename, size) {\n",
              "      if (!google.colab.kernel.accessAllowed) {\n",
              "        return;\n",
              "      }\n",
              "      const div = document.createElement('div');\n",
              "      const label = document.createElement('label');\n",
              "      label.textContent = `Downloading \"${filename}\": `;\n",
              "      div.appendChild(label);\n",
              "      const progress = document.createElement('progress');\n",
              "      progress.max = size;\n",
              "      div.appendChild(progress);\n",
              "      document.body.appendChild(div);\n",
              "\n",
              "      const buffers = [];\n",
              "      let downloaded = 0;\n",
              "\n",
              "      const channel = await google.colab.kernel.comms.open(id);\n",
              "      // Send a message to notify the kernel that we're ready.\n",
              "      channel.send({})\n",
              "\n",
              "      for await (const message of channel.messages) {\n",
              "        // Send a message to notify the kernel that we're ready.\n",
              "        channel.send({})\n",
              "        if (message.buffers) {\n",
              "          for (const buffer of message.buffers) {\n",
              "            buffers.push(buffer);\n",
              "            downloaded += buffer.byteLength;\n",
              "            progress.value = downloaded;\n",
              "          }\n",
              "        }\n",
              "      }\n",
              "      const blob = new Blob(buffers, {type: 'application/binary'});\n",
              "      const a = document.createElement('a');\n",
              "      a.href = window.URL.createObjectURL(blob);\n",
              "      a.download = filename;\n",
              "      div.appendChild(a);\n",
              "      a.click();\n",
              "      div.remove();\n",
              "    }\n",
              "  "
            ]
          },
          "metadata": {}
        },
        {
          "output_type": "display_data",
          "data": {
            "text/plain": [
              "<IPython.core.display.Javascript object>"
            ],
            "application/javascript": [
              "download(\"download_766aeced-d759-434f-86c0-1ea919f4c710\", \"filtro1_EUA.csv\", 20865701)"
            ]
          },
          "metadata": {}
        }
      ]
    },
    {
      "cell_type": "code",
      "source": [
        "#Sólo los registros con categoría \"superhost\"\n",
        "filtro2=df[df[\"host_is_superhost\"] == 't']\n",
        "filtro2.to_csv(\"filtro2_EUA.csv\")\n",
        "files.download(\"filtro2_EUA.csv\")"
      ],
      "metadata": {
        "id": "EGnjwLqMHXeK",
        "colab": {
          "base_uri": "https://localhost:8080/",
          "height": 0
        },
        "outputId": "e68d2985-fe9a-4d89-e94e-b0bda0adaa25"
      },
      "execution_count": 97,
      "outputs": [
        {
          "output_type": "display_data",
          "data": {
            "text/plain": [
              "<IPython.core.display.Javascript object>"
            ],
            "application/javascript": [
              "\n",
              "    async function download(id, filename, size) {\n",
              "      if (!google.colab.kernel.accessAllowed) {\n",
              "        return;\n",
              "      }\n",
              "      const div = document.createElement('div');\n",
              "      const label = document.createElement('label');\n",
              "      label.textContent = `Downloading \"${filename}\": `;\n",
              "      div.appendChild(label);\n",
              "      const progress = document.createElement('progress');\n",
              "      progress.max = size;\n",
              "      div.appendChild(progress);\n",
              "      document.body.appendChild(div);\n",
              "\n",
              "      const buffers = [];\n",
              "      let downloaded = 0;\n",
              "\n",
              "      const channel = await google.colab.kernel.comms.open(id);\n",
              "      // Send a message to notify the kernel that we're ready.\n",
              "      channel.send({})\n",
              "\n",
              "      for await (const message of channel.messages) {\n",
              "        // Send a message to notify the kernel that we're ready.\n",
              "        channel.send({})\n",
              "        if (message.buffers) {\n",
              "          for (const buffer of message.buffers) {\n",
              "            buffers.push(buffer);\n",
              "            downloaded += buffer.byteLength;\n",
              "            progress.value = downloaded;\n",
              "          }\n",
              "        }\n",
              "      }\n",
              "      const blob = new Blob(buffers, {type: 'application/binary'});\n",
              "      const a = document.createElement('a');\n",
              "      a.href = window.URL.createObjectURL(blob);\n",
              "      a.download = filename;\n",
              "      div.appendChild(a);\n",
              "      a.click();\n",
              "      div.remove();\n",
              "    }\n",
              "  "
            ]
          },
          "metadata": {}
        },
        {
          "output_type": "display_data",
          "data": {
            "text/plain": [
              "<IPython.core.display.Javascript object>"
            ],
            "application/javascript": [
              "download(\"download_6917f39b-11ca-47f4-b4d9-d5be734688f2\", \"filtro2_EUA.csv\", 9806540)"
            ]
          },
          "metadata": {}
        }
      ]
    },
    {
      "cell_type": "code",
      "source": [
        "#Los registros que no hallan verificado identidad \" not identity_verified\"\n",
        "filtro3=df[df[\"host_identity_verified\"] == 'f']\n",
        "filtro3.to_csv(\"filtro3_EUA.csv\")\n",
        "files.download(\"filtro3_EUA.csv\")"
      ],
      "metadata": {
        "id": "YrNiVQydHanM",
        "colab": {
          "base_uri": "https://localhost:8080/",
          "height": 0
        },
        "outputId": "6a3ff0b5-6385-4a67-d5a1-4f0c5bb3f885"
      },
      "execution_count": 98,
      "outputs": [
        {
          "output_type": "display_data",
          "data": {
            "text/plain": [
              "<IPython.core.display.Javascript object>"
            ],
            "application/javascript": [
              "\n",
              "    async function download(id, filename, size) {\n",
              "      if (!google.colab.kernel.accessAllowed) {\n",
              "        return;\n",
              "      }\n",
              "      const div = document.createElement('div');\n",
              "      const label = document.createElement('label');\n",
              "      label.textContent = `Downloading \"${filename}\": `;\n",
              "      div.appendChild(label);\n",
              "      const progress = document.createElement('progress');\n",
              "      progress.max = size;\n",
              "      div.appendChild(progress);\n",
              "      document.body.appendChild(div);\n",
              "\n",
              "      const buffers = [];\n",
              "      let downloaded = 0;\n",
              "\n",
              "      const channel = await google.colab.kernel.comms.open(id);\n",
              "      // Send a message to notify the kernel that we're ready.\n",
              "      channel.send({})\n",
              "\n",
              "      for await (const message of channel.messages) {\n",
              "        // Send a message to notify the kernel that we're ready.\n",
              "        channel.send({})\n",
              "        if (message.buffers) {\n",
              "          for (const buffer of message.buffers) {\n",
              "            buffers.push(buffer);\n",
              "            downloaded += buffer.byteLength;\n",
              "            progress.value = downloaded;\n",
              "          }\n",
              "        }\n",
              "      }\n",
              "      const blob = new Blob(buffers, {type: 'application/binary'});\n",
              "      const a = document.createElement('a');\n",
              "      a.href = window.URL.createObjectURL(blob);\n",
              "      a.download = filename;\n",
              "      div.appendChild(a);\n",
              "      a.click();\n",
              "      div.remove();\n",
              "    }\n",
              "  "
            ]
          },
          "metadata": {}
        },
        {
          "output_type": "display_data",
          "data": {
            "text/plain": [
              "<IPython.core.display.Javascript object>"
            ],
            "application/javascript": [
              "download(\"download_35b85128-f341-414a-beb5-f2300b4ef1d5\", \"filtro3_EUA.csv\", 2544834)"
            ]
          },
          "metadata": {}
        }
      ]
    },
    {
      "cell_type": "code",
      "source": [
        "#Los registro cuyo property_type = \"Private room\" y \"Hotel room\"\n",
        "filtro4=df[(df[\"property_type\"] == 'Private room') | (df[\"property_type\"] == 'Hotel room')]\n",
        "filtro4.to_csv(\"filtro4_EUA.csv\")\n",
        "files.download(\"filtro4_EUA.csv\")"
      ],
      "metadata": {
        "id": "bX41B4s-Hcfh",
        "colab": {
          "base_uri": "https://localhost:8080/",
          "height": 0
        },
        "outputId": "e164a6a0-7e0a-424f-8f84-adb88ddcdd4d"
      },
      "execution_count": 99,
      "outputs": [
        {
          "output_type": "display_data",
          "data": {
            "text/plain": [
              "<IPython.core.display.Javascript object>"
            ],
            "application/javascript": [
              "\n",
              "    async function download(id, filename, size) {\n",
              "      if (!google.colab.kernel.accessAllowed) {\n",
              "        return;\n",
              "      }\n",
              "      const div = document.createElement('div');\n",
              "      const label = document.createElement('label');\n",
              "      label.textContent = `Downloading \"${filename}\": `;\n",
              "      div.appendChild(label);\n",
              "      const progress = document.createElement('progress');\n",
              "      progress.max = size;\n",
              "      div.appendChild(progress);\n",
              "      document.body.appendChild(div);\n",
              "\n",
              "      const buffers = [];\n",
              "      let downloaded = 0;\n",
              "\n",
              "      const channel = await google.colab.kernel.comms.open(id);\n",
              "      // Send a message to notify the kernel that we're ready.\n",
              "      channel.send({})\n",
              "\n",
              "      for await (const message of channel.messages) {\n",
              "        // Send a message to notify the kernel that we're ready.\n",
              "        channel.send({})\n",
              "        if (message.buffers) {\n",
              "          for (const buffer of message.buffers) {\n",
              "            buffers.push(buffer);\n",
              "            downloaded += buffer.byteLength;\n",
              "            progress.value = downloaded;\n",
              "          }\n",
              "        }\n",
              "      }\n",
              "      const blob = new Blob(buffers, {type: 'application/binary'});\n",
              "      const a = document.createElement('a');\n",
              "      a.href = window.URL.createObjectURL(blob);\n",
              "      a.download = filename;\n",
              "      div.appendChild(a);\n",
              "      a.click();\n",
              "      div.remove();\n",
              "    }\n",
              "  "
            ]
          },
          "metadata": {}
        },
        {
          "output_type": "display_data",
          "data": {
            "text/plain": [
              "<IPython.core.display.Javascript object>"
            ],
            "application/javascript": [
              "download(\"download_3256d0fb-72cf-40a2-b35b-0737cbc2390b\", \"filtro4_EUA.csv\", 10809)"
            ]
          },
          "metadata": {}
        }
      ]
    },
    {
      "cell_type": "code",
      "source": [
        "#Los registros que cuenten con bathroom > 1\n",
        "filtro5=df[(df[\"bathrooms_text\"] != '1 bath') \n",
        "& (df[\"bathrooms_text\"] != '1 private bath') \n",
        "& (df[\"bathrooms_text\"] != '1 shared bath') \n",
        "& (df[\"bathrooms_text\"] != '0 baths')]\n",
        "filtro5.to_csv(\"filtro5_EUA.csv\")\n",
        "files.download(\"filtro5_EUA.csv\")"
      ],
      "metadata": {
        "id": "T1WX1Au2He1j",
        "colab": {
          "base_uri": "https://localhost:8080/",
          "height": 0
        },
        "outputId": "98b7515f-5b81-41f0-e841-f610c4c63c69"
      },
      "execution_count": 100,
      "outputs": [
        {
          "output_type": "display_data",
          "data": {
            "text/plain": [
              "<IPython.core.display.Javascript object>"
            ],
            "application/javascript": [
              "\n",
              "    async function download(id, filename, size) {\n",
              "      if (!google.colab.kernel.accessAllowed) {\n",
              "        return;\n",
              "      }\n",
              "      const div = document.createElement('div');\n",
              "      const label = document.createElement('label');\n",
              "      label.textContent = `Downloading \"${filename}\": `;\n",
              "      div.appendChild(label);\n",
              "      const progress = document.createElement('progress');\n",
              "      progress.max = size;\n",
              "      div.appendChild(progress);\n",
              "      document.body.appendChild(div);\n",
              "\n",
              "      const buffers = [];\n",
              "      let downloaded = 0;\n",
              "\n",
              "      const channel = await google.colab.kernel.comms.open(id);\n",
              "      // Send a message to notify the kernel that we're ready.\n",
              "      channel.send({})\n",
              "\n",
              "      for await (const message of channel.messages) {\n",
              "        // Send a message to notify the kernel that we're ready.\n",
              "        channel.send({})\n",
              "        if (message.buffers) {\n",
              "          for (const buffer of message.buffers) {\n",
              "            buffers.push(buffer);\n",
              "            downloaded += buffer.byteLength;\n",
              "            progress.value = downloaded;\n",
              "          }\n",
              "        }\n",
              "      }\n",
              "      const blob = new Blob(buffers, {type: 'application/binary'});\n",
              "      const a = document.createElement('a');\n",
              "      a.href = window.URL.createObjectURL(blob);\n",
              "      a.download = filename;\n",
              "      div.appendChild(a);\n",
              "      a.click();\n",
              "      div.remove();\n",
              "    }\n",
              "  "
            ]
          },
          "metadata": {}
        },
        {
          "output_type": "display_data",
          "data": {
            "text/plain": [
              "<IPython.core.display.Javascript object>"
            ],
            "application/javascript": [
              "download(\"download_09a89c9d-f5f4-4257-9e43-ac545024550c\", \"filtro5_EUA.csv\", 6442745)"
            ]
          },
          "metadata": {}
        }
      ]
    },
    {
      "cell_type": "code",
      "source": [
        "#Los registros cuyo precio sea mayor de $10,000 y que sean de tipo \"Entire home\"\n",
        "filtro6=df[(df[\"price\"] > 10000) & (df[\"room_type\"] == 'Entire home/apt')]\n",
        "filtro6.to_csv(\"filtro6_EUA.csv\")\n",
        "files.download(\"filtro6_EUA.csv\")"
      ],
      "metadata": {
        "colab": {
          "base_uri": "https://localhost:8080/",
          "height": 0
        },
        "id": "B143CSeRHgo6",
        "outputId": "147e6f37-fa85-427a-ce53-5db8b1ff6341"
      },
      "execution_count": 101,
      "outputs": [
        {
          "output_type": "display_data",
          "data": {
            "text/plain": [
              "<IPython.core.display.Javascript object>"
            ],
            "application/javascript": [
              "\n",
              "    async function download(id, filename, size) {\n",
              "      if (!google.colab.kernel.accessAllowed) {\n",
              "        return;\n",
              "      }\n",
              "      const div = document.createElement('div');\n",
              "      const label = document.createElement('label');\n",
              "      label.textContent = `Downloading \"${filename}\": `;\n",
              "      div.appendChild(label);\n",
              "      const progress = document.createElement('progress');\n",
              "      progress.max = size;\n",
              "      div.appendChild(progress);\n",
              "      document.body.appendChild(div);\n",
              "\n",
              "      const buffers = [];\n",
              "      let downloaded = 0;\n",
              "\n",
              "      const channel = await google.colab.kernel.comms.open(id);\n",
              "      // Send a message to notify the kernel that we're ready.\n",
              "      channel.send({})\n",
              "\n",
              "      for await (const message of channel.messages) {\n",
              "        // Send a message to notify the kernel that we're ready.\n",
              "        channel.send({})\n",
              "        if (message.buffers) {\n",
              "          for (const buffer of message.buffers) {\n",
              "            buffers.push(buffer);\n",
              "            downloaded += buffer.byteLength;\n",
              "            progress.value = downloaded;\n",
              "          }\n",
              "        }\n",
              "      }\n",
              "      const blob = new Blob(buffers, {type: 'application/binary'});\n",
              "      const a = document.createElement('a');\n",
              "      a.href = window.URL.createObjectURL(blob);\n",
              "      a.download = filename;\n",
              "      div.appendChild(a);\n",
              "      a.click();\n",
              "      div.remove();\n",
              "    }\n",
              "  "
            ]
          },
          "metadata": {}
        },
        {
          "output_type": "display_data",
          "data": {
            "text/plain": [
              "<IPython.core.display.Javascript object>"
            ],
            "application/javascript": [
              "download(\"download_6d784dc3-302b-4f91-8a1e-96b731a98af3\", \"filtro6_EUA.csv\", 7957)"
            ]
          },
          "metadata": {}
        }
      ]
    },
    {
      "cell_type": "code",
      "source": [
        "#Los registros cuyo review_scores_cleanliness>4.5\n",
        "filtro7 = df[df['review_scores_cleanliness']>4.5]\n",
        "filtro7.to_csv(\"filtro7_EUA.csv\")\n",
        "files.download(\"filtro7_EUA.csv\")"
      ],
      "metadata": {
        "id": "-KMZOlzuHicD",
        "colab": {
          "base_uri": "https://localhost:8080/",
          "height": 0
        },
        "outputId": "268976a7-8979-480f-a20c-b73e9492895e"
      },
      "execution_count": 102,
      "outputs": [
        {
          "output_type": "display_data",
          "data": {
            "text/plain": [
              "<IPython.core.display.Javascript object>"
            ],
            "application/javascript": [
              "\n",
              "    async function download(id, filename, size) {\n",
              "      if (!google.colab.kernel.accessAllowed) {\n",
              "        return;\n",
              "      }\n",
              "      const div = document.createElement('div');\n",
              "      const label = document.createElement('label');\n",
              "      label.textContent = `Downloading \"${filename}\": `;\n",
              "      div.appendChild(label);\n",
              "      const progress = document.createElement('progress');\n",
              "      progress.max = size;\n",
              "      div.appendChild(progress);\n",
              "      document.body.appendChild(div);\n",
              "\n",
              "      const buffers = [];\n",
              "      let downloaded = 0;\n",
              "\n",
              "      const channel = await google.colab.kernel.comms.open(id);\n",
              "      // Send a message to notify the kernel that we're ready.\n",
              "      channel.send({})\n",
              "\n",
              "      for await (const message of channel.messages) {\n",
              "        // Send a message to notify the kernel that we're ready.\n",
              "        channel.send({})\n",
              "        if (message.buffers) {\n",
              "          for (const buffer of message.buffers) {\n",
              "            buffers.push(buffer);\n",
              "            downloaded += buffer.byteLength;\n",
              "            progress.value = downloaded;\n",
              "          }\n",
              "        }\n",
              "      }\n",
              "      const blob = new Blob(buffers, {type: 'application/binary'});\n",
              "      const a = document.createElement('a');\n",
              "      a.href = window.URL.createObjectURL(blob);\n",
              "      a.download = filename;\n",
              "      div.appendChild(a);\n",
              "      a.click();\n",
              "      div.remove();\n",
              "    }\n",
              "  "
            ]
          },
          "metadata": {}
        },
        {
          "output_type": "display_data",
          "data": {
            "text/plain": [
              "<IPython.core.display.Javascript object>"
            ],
            "application/javascript": [
              "download(\"download_1d05def5-940d-4634-b7e5-c829edb4f483\", \"filtro7_EUA.csv\", 21807322)"
            ]
          },
          "metadata": {}
        }
      ]
    },
    {
      "cell_type": "code",
      "source": [
        "#Los registros cuyo review _scores_value > 4.9\n",
        "filtro8 = df[df['review_scores_value']>4.9]\n",
        "filtro8.to_csv(\"filtro8_EUA.csv\")\n",
        "files.download(\"filtro8_EUA.csv\")"
      ],
      "metadata": {
        "id": "AggpEMgoHj5z",
        "colab": {
          "base_uri": "https://localhost:8080/",
          "height": 0
        },
        "outputId": "17612ca8-908e-4a18-a2dc-52285192bb7c"
      },
      "execution_count": 103,
      "outputs": [
        {
          "output_type": "display_data",
          "data": {
            "text/plain": [
              "<IPython.core.display.Javascript object>"
            ],
            "application/javascript": [
              "\n",
              "    async function download(id, filename, size) {\n",
              "      if (!google.colab.kernel.accessAllowed) {\n",
              "        return;\n",
              "      }\n",
              "      const div = document.createElement('div');\n",
              "      const label = document.createElement('label');\n",
              "      label.textContent = `Downloading \"${filename}\": `;\n",
              "      div.appendChild(label);\n",
              "      const progress = document.createElement('progress');\n",
              "      progress.max = size;\n",
              "      div.appendChild(progress);\n",
              "      document.body.appendChild(div);\n",
              "\n",
              "      const buffers = [];\n",
              "      let downloaded = 0;\n",
              "\n",
              "      const channel = await google.colab.kernel.comms.open(id);\n",
              "      // Send a message to notify the kernel that we're ready.\n",
              "      channel.send({})\n",
              "\n",
              "      for await (const message of channel.messages) {\n",
              "        // Send a message to notify the kernel that we're ready.\n",
              "        channel.send({})\n",
              "        if (message.buffers) {\n",
              "          for (const buffer of message.buffers) {\n",
              "            buffers.push(buffer);\n",
              "            downloaded += buffer.byteLength;\n",
              "            progress.value = downloaded;\n",
              "          }\n",
              "        }\n",
              "      }\n",
              "      const blob = new Blob(buffers, {type: 'application/binary'});\n",
              "      const a = document.createElement('a');\n",
              "      a.href = window.URL.createObjectURL(blob);\n",
              "      a.download = filename;\n",
              "      div.appendChild(a);\n",
              "      a.click();\n",
              "      div.remove();\n",
              "    }\n",
              "  "
            ]
          },
          "metadata": {}
        },
        {
          "output_type": "display_data",
          "data": {
            "text/plain": [
              "<IPython.core.display.Javascript object>"
            ],
            "application/javascript": [
              "download(\"download_e25f44f5-649a-45a4-9437-586acfea2f9a\", \"filtro8_EUA.csv\", 4504647)"
            ]
          },
          "metadata": {}
        }
      ]
    },
    {
      "cell_type": "code",
      "source": [
        "#Los registros cuya availability_365<100\n",
        "filtro9 = df[df['availability_365']<100]\n",
        "filtro9.to_csv(\"filtro9_EUA.csv\")\n",
        "files.download(\"filtro9_EUA.csv\")"
      ],
      "metadata": {
        "id": "UDI79ClQHmTd",
        "colab": {
          "base_uri": "https://localhost:8080/",
          "height": 0
        },
        "outputId": "d6ee58e5-462a-4b4f-e3fa-7c44d023520b"
      },
      "execution_count": 104,
      "outputs": [
        {
          "output_type": "display_data",
          "data": {
            "text/plain": [
              "<IPython.core.display.Javascript object>"
            ],
            "application/javascript": [
              "\n",
              "    async function download(id, filename, size) {\n",
              "      if (!google.colab.kernel.accessAllowed) {\n",
              "        return;\n",
              "      }\n",
              "      const div = document.createElement('div');\n",
              "      const label = document.createElement('label');\n",
              "      label.textContent = `Downloading \"${filename}\": `;\n",
              "      div.appendChild(label);\n",
              "      const progress = document.createElement('progress');\n",
              "      progress.max = size;\n",
              "      div.appendChild(progress);\n",
              "      document.body.appendChild(div);\n",
              "\n",
              "      const buffers = [];\n",
              "      let downloaded = 0;\n",
              "\n",
              "      const channel = await google.colab.kernel.comms.open(id);\n",
              "      // Send a message to notify the kernel that we're ready.\n",
              "      channel.send({})\n",
              "\n",
              "      for await (const message of channel.messages) {\n",
              "        // Send a message to notify the kernel that we're ready.\n",
              "        channel.send({})\n",
              "        if (message.buffers) {\n",
              "          for (const buffer of message.buffers) {\n",
              "            buffers.push(buffer);\n",
              "            downloaded += buffer.byteLength;\n",
              "            progress.value = downloaded;\n",
              "          }\n",
              "        }\n",
              "      }\n",
              "      const blob = new Blob(buffers, {type: 'application/binary'});\n",
              "      const a = document.createElement('a');\n",
              "      a.href = window.URL.createObjectURL(blob);\n",
              "      a.download = filename;\n",
              "      div.appendChild(a);\n",
              "      a.click();\n",
              "      div.remove();\n",
              "    }\n",
              "  "
            ]
          },
          "metadata": {}
        },
        {
          "output_type": "display_data",
          "data": {
            "text/plain": [
              "<IPython.core.display.Javascript object>"
            ],
            "application/javascript": [
              "download(\"download_622b7e32-ba30-4c54-b6b1-0cc91d2dfecb\", \"filtro9_EUA.csv\", 8747442)"
            ]
          },
          "metadata": {}
        }
      ]
    },
    {
      "cell_type": "code",
      "source": [
        "#Los registros cuya host response time sea \"within an hour\"\n",
        "filtro10 = df[df['host_response_time']=='within an hour']\n",
        "filtro10.to_csv(\"filtro10_EUA.csv\")\n",
        "files.download(\"filtro10_EUA.csv\")"
      ],
      "metadata": {
        "id": "zv6TjM-HHonq",
        "colab": {
          "base_uri": "https://localhost:8080/",
          "height": 0
        },
        "outputId": "4b13e09c-9b98-4125-bba2-1fc29a58fdfe"
      },
      "execution_count": 105,
      "outputs": [
        {
          "output_type": "display_data",
          "data": {
            "text/plain": [
              "<IPython.core.display.Javascript object>"
            ],
            "application/javascript": [
              "\n",
              "    async function download(id, filename, size) {\n",
              "      if (!google.colab.kernel.accessAllowed) {\n",
              "        return;\n",
              "      }\n",
              "      const div = document.createElement('div');\n",
              "      const label = document.createElement('label');\n",
              "      label.textContent = `Downloading \"${filename}\": `;\n",
              "      div.appendChild(label);\n",
              "      const progress = document.createElement('progress');\n",
              "      progress.max = size;\n",
              "      div.appendChild(progress);\n",
              "      document.body.appendChild(div);\n",
              "\n",
              "      const buffers = [];\n",
              "      let downloaded = 0;\n",
              "\n",
              "      const channel = await google.colab.kernel.comms.open(id);\n",
              "      // Send a message to notify the kernel that we're ready.\n",
              "      channel.send({})\n",
              "\n",
              "      for await (const message of channel.messages) {\n",
              "        // Send a message to notify the kernel that we're ready.\n",
              "        channel.send({})\n",
              "        if (message.buffers) {\n",
              "          for (const buffer of message.buffers) {\n",
              "            buffers.push(buffer);\n",
              "            downloaded += buffer.byteLength;\n",
              "            progress.value = downloaded;\n",
              "          }\n",
              "        }\n",
              "      }\n",
              "      const blob = new Blob(buffers, {type: 'application/binary'});\n",
              "      const a = document.createElement('a');\n",
              "      a.href = window.URL.createObjectURL(blob);\n",
              "      a.download = filename;\n",
              "      div.appendChild(a);\n",
              "      a.click();\n",
              "      div.remove();\n",
              "    }\n",
              "  "
            ]
          },
          "metadata": {}
        },
        {
          "output_type": "display_data",
          "data": {
            "text/plain": [
              "<IPython.core.display.Javascript object>"
            ],
            "application/javascript": [
              "download(\"download_f04a31ea-9eb2-4363-84ae-bfc19a91b74c\", \"filtro10_EUA.csv\", 16132107)"
            ]
          },
          "metadata": {}
        }
      ]
    },
    {
      "cell_type": "markdown",
      "source": [
        "##**México**"
      ],
      "metadata": {
        "id": "oaBR2IBubcs_"
      }
    },
    {
      "cell_type": "code",
      "source": [
        "df = Mexico"
      ],
      "metadata": {
        "id": "Vfs17HNAbctA"
      },
      "execution_count": 106,
      "outputs": []
    },
    {
      "cell_type": "code",
      "source": [
        "df.info()"
      ],
      "metadata": {
        "colab": {
          "base_uri": "https://localhost:8080/"
        },
        "id": "5ObXFN2sbctA",
        "outputId": "c37948dc-b788-4030-a755-b6e8e87a38b3"
      },
      "execution_count": 107,
      "outputs": [
        {
          "output_type": "stream",
          "name": "stdout",
          "text": [
            "<class 'pandas.core.frame.DataFrame'>\n",
            "Float64Index: 24226 entries, 0.0 to 24223.0\n",
            "Data columns (total 71 columns):\n",
            " #   Column                                        Non-Null Count  Dtype  \n",
            "---  ------                                        --------------  -----  \n",
            " 0   id                                            24226 non-null  object \n",
            " 1   listing_url                                   24226 non-null  object \n",
            " 2   last_scraped                                  24226 non-null  object \n",
            " 3   source                                        24226 non-null  object \n",
            " 4   name                                          24226 non-null  object \n",
            " 5   description                                   24226 non-null  object \n",
            " 6   neighborhood_overview                         24226 non-null  object \n",
            " 7   picture_url                                   24226 non-null  object \n",
            " 8   host_url                                      24226 non-null  object \n",
            " 9   host_name                                     24226 non-null  object \n",
            " 10  host_since                                    24226 non-null  object \n",
            " 11  host_location                                 24226 non-null  object \n",
            " 12  host_about                                    24226 non-null  object \n",
            " 13  host_response_time                            24224 non-null  object \n",
            " 14  host_response_rate                            24224 non-null  object \n",
            " 15  host_acceptance_rate                          24226 non-null  int64  \n",
            " 16  host_is_superhost                             24224 non-null  object \n",
            " 17  host_thumbnail_url                            24224 non-null  object \n",
            " 18  host_picture_url                              24224 non-null  object \n",
            " 19  host_neighbourhood                            24224 non-null  object \n",
            " 20  host_verifications                            24224 non-null  object \n",
            " 21  host_has_profile_pic                          24224 non-null  object \n",
            " 22  host_identity_verified                        24224 non-null  object \n",
            " 23  neighbourhood                                 24224 non-null  object \n",
            " 24  neighbourhood_cleansed                        24224 non-null  object \n",
            " 25  property_type                                 24224 non-null  object \n",
            " 26  room_type                                     24224 non-null  object \n",
            " 27  bathrooms_text                                24224 non-null  object \n",
            " 28  amenities                                     24224 non-null  object \n",
            " 29  price                                         24224 non-null  float64\n",
            " 30  has_availability                              24224 non-null  object \n",
            " 31  calendar_last_scraped                         24224 non-null  object \n",
            " 32  first_review                                  24224 non-null  object \n",
            " 33  last_review                                   24224 non-null  object \n",
            " 34  instant_bookable                              24224 non-null  object \n",
            " 35  scrape_id                                     24224 non-null  float64\n",
            " 36  host_id                                       24224 non-null  float64\n",
            " 37  host_listings_count                           24224 non-null  float64\n",
            " 38  host_total_listings_count                     24224 non-null  float64\n",
            " 39  latitude                                      24224 non-null  float64\n",
            " 40  longitude                                     24224 non-null  float64\n",
            " 41  accommodates                                  24224 non-null  float64\n",
            " 42  bedrooms                                      24224 non-null  float64\n",
            " 43  beds                                          24224 non-null  float64\n",
            " 44  minimum_nights                                24224 non-null  float64\n",
            " 45  maximum_nights                                24224 non-null  float64\n",
            " 46  minimum_minimum_nights                        24224 non-null  float64\n",
            " 47  maximum_minimum_nights                        24224 non-null  float64\n",
            " 48  minimum_maximum_nights                        24224 non-null  float64\n",
            " 49  maximum_maximum_nights                        24224 non-null  float64\n",
            " 50  minimum_nights_avg_ntm                        24224 non-null  float64\n",
            " 51  maximum_nights_avg_ntm                        24224 non-null  float64\n",
            " 52  availability_30                               24224 non-null  float64\n",
            " 53  availability_60                               24224 non-null  float64\n",
            " 54  availability_90                               24224 non-null  float64\n",
            " 55  availability_365                              24224 non-null  float64\n",
            " 56  number_of_reviews                             24224 non-null  float64\n",
            " 57  number_of_reviews_ltm                         24224 non-null  float64\n",
            " 58  number_of_reviews_l30d                        24222 non-null  float64\n",
            " 59  review_scores_rating                          24222 non-null  float64\n",
            " 60  review_scores_accuracy                        24222 non-null  float64\n",
            " 61  review_scores_cleanliness                     24222 non-null  float64\n",
            " 62  review_scores_checkin                         24222 non-null  float64\n",
            " 63  review_scores_communication                   24222 non-null  float64\n",
            " 64  review_scores_location                        24222 non-null  float64\n",
            " 65  review_scores_value                           24222 non-null  float64\n",
            " 66  calculated_host_listings_count                24222 non-null  float64\n",
            " 67  calculated_host_listings_count_entire_homes   24222 non-null  float64\n",
            " 68  calculated_host_listings_count_private_rooms  24222 non-null  float64\n",
            " 69  calculated_host_listings_count_shared_rooms   24222 non-null  float64\n",
            " 70  reviews_per_month                             24222 non-null  float64\n",
            "dtypes: float64(37), int64(1), object(33)\n",
            "memory usage: 13.3+ MB\n"
          ]
        }
      ]
    },
    {
      "cell_type": "code",
      "source": [
        "#host_acceptance_rate>50%\n",
        "filtro1=df[df[\"host_acceptance_rate\"] > 50]\n",
        "filtro1.to_csv(\"filtro1_MX.csv\")\n",
        "files.download(\"filtro1_MX.csv\")"
      ],
      "metadata": {
        "colab": {
          "base_uri": "https://localhost:8080/",
          "height": 0
        },
        "id": "hgUzhywCbctA",
        "outputId": "58e11584-6c8a-45ad-8493-17974c477801"
      },
      "execution_count": 108,
      "outputs": [
        {
          "output_type": "display_data",
          "data": {
            "text/plain": [
              "<IPython.core.display.Javascript object>"
            ],
            "application/javascript": [
              "\n",
              "    async function download(id, filename, size) {\n",
              "      if (!google.colab.kernel.accessAllowed) {\n",
              "        return;\n",
              "      }\n",
              "      const div = document.createElement('div');\n",
              "      const label = document.createElement('label');\n",
              "      label.textContent = `Downloading \"${filename}\": `;\n",
              "      div.appendChild(label);\n",
              "      const progress = document.createElement('progress');\n",
              "      progress.max = size;\n",
              "      div.appendChild(progress);\n",
              "      document.body.appendChild(div);\n",
              "\n",
              "      const buffers = [];\n",
              "      let downloaded = 0;\n",
              "\n",
              "      const channel = await google.colab.kernel.comms.open(id);\n",
              "      // Send a message to notify the kernel that we're ready.\n",
              "      channel.send({})\n",
              "\n",
              "      for await (const message of channel.messages) {\n",
              "        // Send a message to notify the kernel that we're ready.\n",
              "        channel.send({})\n",
              "        if (message.buffers) {\n",
              "          for (const buffer of message.buffers) {\n",
              "            buffers.push(buffer);\n",
              "            downloaded += buffer.byteLength;\n",
              "            progress.value = downloaded;\n",
              "          }\n",
              "        }\n",
              "      }\n",
              "      const blob = new Blob(buffers, {type: 'application/binary'});\n",
              "      const a = document.createElement('a');\n",
              "      a.href = window.URL.createObjectURL(blob);\n",
              "      a.download = filename;\n",
              "      div.appendChild(a);\n",
              "      a.click();\n",
              "      div.remove();\n",
              "    }\n",
              "  "
            ]
          },
          "metadata": {}
        },
        {
          "output_type": "display_data",
          "data": {
            "text/plain": [
              "<IPython.core.display.Javascript object>"
            ],
            "application/javascript": [
              "download(\"download_e5f605ab-e2d9-4022-98ce-698509244fbb\", \"filtro1_MX.csv\", 65663122)"
            ]
          },
          "metadata": {}
        }
      ]
    },
    {
      "cell_type": "code",
      "source": [
        "#Sólo los registros con categoría \"superhost\"\n",
        "filtro2=df[df[\"host_is_superhost\"] == 't']\n",
        "filtro2.to_csv(\"filtro2_MX.csv\")\n",
        "files.download(\"filtro2_MX.csv\")"
      ],
      "metadata": {
        "colab": {
          "base_uri": "https://localhost:8080/",
          "height": 0
        },
        "id": "Arf8eV6XbctB",
        "outputId": "32b744ec-77e6-45a4-cb0a-5f7dd73209bb"
      },
      "execution_count": 109,
      "outputs": [
        {
          "output_type": "display_data",
          "data": {
            "text/plain": [
              "<IPython.core.display.Javascript object>"
            ],
            "application/javascript": [
              "\n",
              "    async function download(id, filename, size) {\n",
              "      if (!google.colab.kernel.accessAllowed) {\n",
              "        return;\n",
              "      }\n",
              "      const div = document.createElement('div');\n",
              "      const label = document.createElement('label');\n",
              "      label.textContent = `Downloading \"${filename}\": `;\n",
              "      div.appendChild(label);\n",
              "      const progress = document.createElement('progress');\n",
              "      progress.max = size;\n",
              "      div.appendChild(progress);\n",
              "      document.body.appendChild(div);\n",
              "\n",
              "      const buffers = [];\n",
              "      let downloaded = 0;\n",
              "\n",
              "      const channel = await google.colab.kernel.comms.open(id);\n",
              "      // Send a message to notify the kernel that we're ready.\n",
              "      channel.send({})\n",
              "\n",
              "      for await (const message of channel.messages) {\n",
              "        // Send a message to notify the kernel that we're ready.\n",
              "        channel.send({})\n",
              "        if (message.buffers) {\n",
              "          for (const buffer of message.buffers) {\n",
              "            buffers.push(buffer);\n",
              "            downloaded += buffer.byteLength;\n",
              "            progress.value = downloaded;\n",
              "          }\n",
              "        }\n",
              "      }\n",
              "      const blob = new Blob(buffers, {type: 'application/binary'});\n",
              "      const a = document.createElement('a');\n",
              "      a.href = window.URL.createObjectURL(blob);\n",
              "      a.download = filename;\n",
              "      div.appendChild(a);\n",
              "      a.click();\n",
              "      div.remove();\n",
              "    }\n",
              "  "
            ]
          },
          "metadata": {}
        },
        {
          "output_type": "display_data",
          "data": {
            "text/plain": [
              "<IPython.core.display.Javascript object>"
            ],
            "application/javascript": [
              "download(\"download_f3833bb4-820a-46ef-b366-a60ac5b4ee66\", \"filtro2_MX.csv\", 27546263)"
            ]
          },
          "metadata": {}
        }
      ]
    },
    {
      "cell_type": "code",
      "source": [
        "#Los registros que no hallan verificado identidad \" not identity_verified\"\n",
        "filtro3=df[df[\"host_identity_verified\"] == 'f']\n",
        "filtro3.to_csv(\"filtro3_MX.csv\")\n",
        "files.download(\"filtro3_MX.csv\")"
      ],
      "metadata": {
        "colab": {
          "base_uri": "https://localhost:8080/",
          "height": 0
        },
        "id": "5BPdfOBpbctB",
        "outputId": "28012468-f53b-4787-c672-b32555bc6539"
      },
      "execution_count": 110,
      "outputs": [
        {
          "output_type": "display_data",
          "data": {
            "text/plain": [
              "<IPython.core.display.Javascript object>"
            ],
            "application/javascript": [
              "\n",
              "    async function download(id, filename, size) {\n",
              "      if (!google.colab.kernel.accessAllowed) {\n",
              "        return;\n",
              "      }\n",
              "      const div = document.createElement('div');\n",
              "      const label = document.createElement('label');\n",
              "      label.textContent = `Downloading \"${filename}\": `;\n",
              "      div.appendChild(label);\n",
              "      const progress = document.createElement('progress');\n",
              "      progress.max = size;\n",
              "      div.appendChild(progress);\n",
              "      document.body.appendChild(div);\n",
              "\n",
              "      const buffers = [];\n",
              "      let downloaded = 0;\n",
              "\n",
              "      const channel = await google.colab.kernel.comms.open(id);\n",
              "      // Send a message to notify the kernel that we're ready.\n",
              "      channel.send({})\n",
              "\n",
              "      for await (const message of channel.messages) {\n",
              "        // Send a message to notify the kernel that we're ready.\n",
              "        channel.send({})\n",
              "        if (message.buffers) {\n",
              "          for (const buffer of message.buffers) {\n",
              "            buffers.push(buffer);\n",
              "            downloaded += buffer.byteLength;\n",
              "            progress.value = downloaded;\n",
              "          }\n",
              "        }\n",
              "      }\n",
              "      const blob = new Blob(buffers, {type: 'application/binary'});\n",
              "      const a = document.createElement('a');\n",
              "      a.href = window.URL.createObjectURL(blob);\n",
              "      a.download = filename;\n",
              "      div.appendChild(a);\n",
              "      a.click();\n",
              "      div.remove();\n",
              "    }\n",
              "  "
            ]
          },
          "metadata": {}
        },
        {
          "output_type": "display_data",
          "data": {
            "text/plain": [
              "<IPython.core.display.Javascript object>"
            ],
            "application/javascript": [
              "download(\"download_633f60f4-1bb9-42f0-966c-15ed6b43c45d\", \"filtro3_MX.csv\", 4677760)"
            ]
          },
          "metadata": {}
        }
      ]
    },
    {
      "cell_type": "code",
      "source": [
        "#Los registro cuyo property_type = \"Private room\" y \"Hotel room\"\n",
        "filtro4=df[(df[\"property_type\"] == 'Private room') | (df[\"property_type\"] == 'Hotel room')]\n",
        "filtro4.to_csv(\"filtro4_MX.csv\")\n",
        "files.download(\"filtro4_MX.csv\")"
      ],
      "metadata": {
        "colab": {
          "base_uri": "https://localhost:8080/",
          "height": 0
        },
        "id": "PxnVAFW5bctB",
        "outputId": "379e3f45-5065-4099-bd0e-8d9953615cec"
      },
      "execution_count": 111,
      "outputs": [
        {
          "output_type": "display_data",
          "data": {
            "text/plain": [
              "<IPython.core.display.Javascript object>"
            ],
            "application/javascript": [
              "\n",
              "    async function download(id, filename, size) {\n",
              "      if (!google.colab.kernel.accessAllowed) {\n",
              "        return;\n",
              "      }\n",
              "      const div = document.createElement('div');\n",
              "      const label = document.createElement('label');\n",
              "      label.textContent = `Downloading \"${filename}\": `;\n",
              "      div.appendChild(label);\n",
              "      const progress = document.createElement('progress');\n",
              "      progress.max = size;\n",
              "      div.appendChild(progress);\n",
              "      document.body.appendChild(div);\n",
              "\n",
              "      const buffers = [];\n",
              "      let downloaded = 0;\n",
              "\n",
              "      const channel = await google.colab.kernel.comms.open(id);\n",
              "      // Send a message to notify the kernel that we're ready.\n",
              "      channel.send({})\n",
              "\n",
              "      for await (const message of channel.messages) {\n",
              "        // Send a message to notify the kernel that we're ready.\n",
              "        channel.send({})\n",
              "        if (message.buffers) {\n",
              "          for (const buffer of message.buffers) {\n",
              "            buffers.push(buffer);\n",
              "            downloaded += buffer.byteLength;\n",
              "            progress.value = downloaded;\n",
              "          }\n",
              "        }\n",
              "      }\n",
              "      const blob = new Blob(buffers, {type: 'application/binary'});\n",
              "      const a = document.createElement('a');\n",
              "      a.href = window.URL.createObjectURL(blob);\n",
              "      a.download = filename;\n",
              "      div.appendChild(a);\n",
              "      a.click();\n",
              "      div.remove();\n",
              "    }\n",
              "  "
            ]
          },
          "metadata": {}
        },
        {
          "output_type": "display_data",
          "data": {
            "text/plain": [
              "<IPython.core.display.Javascript object>"
            ],
            "application/javascript": [
              "download(\"download_7fd6010a-5e3a-4cfa-b941-a4a4770314e4\", \"filtro4_MX.csv\", 126954)"
            ]
          },
          "metadata": {}
        }
      ]
    },
    {
      "cell_type": "code",
      "source": [
        "#Los registros que cuenten con bathroom > 1\n",
        "filtro5=df[(df[\"bathrooms_text\"] != '1 bath') \n",
        "& (df[\"bathrooms_text\"] != '1 private bath') \n",
        "& (df[\"bathrooms_text\"] != '1 shared bath') \n",
        "& (df[\"bathrooms_text\"] != '0 baths')]\n",
        "filtro5.to_csv(\"filtro5_MX.csv\")\n",
        "files.download(\"filtro5_MX.csv\")"
      ],
      "metadata": {
        "colab": {
          "base_uri": "https://localhost:8080/",
          "height": 0
        },
        "id": "7s05A8nJbctB",
        "outputId": "671b6fa4-0a40-45b0-ac4d-bc31e4a1cccd"
      },
      "execution_count": 112,
      "outputs": [
        {
          "output_type": "display_data",
          "data": {
            "text/plain": [
              "<IPython.core.display.Javascript object>"
            ],
            "application/javascript": [
              "\n",
              "    async function download(id, filename, size) {\n",
              "      if (!google.colab.kernel.accessAllowed) {\n",
              "        return;\n",
              "      }\n",
              "      const div = document.createElement('div');\n",
              "      const label = document.createElement('label');\n",
              "      label.textContent = `Downloading \"${filename}\": `;\n",
              "      div.appendChild(label);\n",
              "      const progress = document.createElement('progress');\n",
              "      progress.max = size;\n",
              "      div.appendChild(progress);\n",
              "      document.body.appendChild(div);\n",
              "\n",
              "      const buffers = [];\n",
              "      let downloaded = 0;\n",
              "\n",
              "      const channel = await google.colab.kernel.comms.open(id);\n",
              "      // Send a message to notify the kernel that we're ready.\n",
              "      channel.send({})\n",
              "\n",
              "      for await (const message of channel.messages) {\n",
              "        // Send a message to notify the kernel that we're ready.\n",
              "        channel.send({})\n",
              "        if (message.buffers) {\n",
              "          for (const buffer of message.buffers) {\n",
              "            buffers.push(buffer);\n",
              "            downloaded += buffer.byteLength;\n",
              "            progress.value = downloaded;\n",
              "          }\n",
              "        }\n",
              "      }\n",
              "      const blob = new Blob(buffers, {type: 'application/binary'});\n",
              "      const a = document.createElement('a');\n",
              "      a.href = window.URL.createObjectURL(blob);\n",
              "      a.download = filename;\n",
              "      div.appendChild(a);\n",
              "      a.click();\n",
              "      div.remove();\n",
              "    }\n",
              "  "
            ]
          },
          "metadata": {}
        },
        {
          "output_type": "display_data",
          "data": {
            "text/plain": [
              "<IPython.core.display.Javascript object>"
            ],
            "application/javascript": [
              "download(\"download_7ae98206-12c2-456f-8272-6b662012a06f\", \"filtro5_MX.csv\", 27084923)"
            ]
          },
          "metadata": {}
        }
      ]
    },
    {
      "cell_type": "code",
      "source": [
        "#Los registros cuyo precio sea mayor de $10,000 y que sean de tipo \"Entire home\"\n",
        "filtro6=df[(df[\"price\"] > 10000) & (df[\"room_type\"] == 'Entire home/apt')]\n",
        "filtro6.to_csv(\"filtro6_MX.csv\")\n",
        "files.download(\"filtro6_MX.csv\")"
      ],
      "metadata": {
        "colab": {
          "base_uri": "https://localhost:8080/",
          "height": 0
        },
        "id": "86zkyYUobctC",
        "outputId": "c783c880-e31b-4a67-a838-8b546c29baad"
      },
      "execution_count": 113,
      "outputs": [
        {
          "output_type": "display_data",
          "data": {
            "text/plain": [
              "<IPython.core.display.Javascript object>"
            ],
            "application/javascript": [
              "\n",
              "    async function download(id, filename, size) {\n",
              "      if (!google.colab.kernel.accessAllowed) {\n",
              "        return;\n",
              "      }\n",
              "      const div = document.createElement('div');\n",
              "      const label = document.createElement('label');\n",
              "      label.textContent = `Downloading \"${filename}\": `;\n",
              "      div.appendChild(label);\n",
              "      const progress = document.createElement('progress');\n",
              "      progress.max = size;\n",
              "      div.appendChild(progress);\n",
              "      document.body.appendChild(div);\n",
              "\n",
              "      const buffers = [];\n",
              "      let downloaded = 0;\n",
              "\n",
              "      const channel = await google.colab.kernel.comms.open(id);\n",
              "      // Send a message to notify the kernel that we're ready.\n",
              "      channel.send({})\n",
              "\n",
              "      for await (const message of channel.messages) {\n",
              "        // Send a message to notify the kernel that we're ready.\n",
              "        channel.send({})\n",
              "        if (message.buffers) {\n",
              "          for (const buffer of message.buffers) {\n",
              "            buffers.push(buffer);\n",
              "            downloaded += buffer.byteLength;\n",
              "            progress.value = downloaded;\n",
              "          }\n",
              "        }\n",
              "      }\n",
              "      const blob = new Blob(buffers, {type: 'application/binary'});\n",
              "      const a = document.createElement('a');\n",
              "      a.href = window.URL.createObjectURL(blob);\n",
              "      a.download = filename;\n",
              "      div.appendChild(a);\n",
              "      a.click();\n",
              "      div.remove();\n",
              "    }\n",
              "  "
            ]
          },
          "metadata": {}
        },
        {
          "output_type": "display_data",
          "data": {
            "text/plain": [
              "<IPython.core.display.Javascript object>"
            ],
            "application/javascript": [
              "download(\"download_e649aea4-153e-43e1-8a62-b25b01971ed2\", \"filtro6_MX.csv\", 526883)"
            ]
          },
          "metadata": {}
        }
      ]
    },
    {
      "cell_type": "code",
      "source": [
        "#Los registros cuyo review_scores_cleanliness>4.5\n",
        "filtro7 = df[df['review_scores_cleanliness']>4.5]\n",
        "filtro7.to_csv(\"filtro7_MX.csv\")\n",
        "files.download(\"filtro7_MX.csv\")"
      ],
      "metadata": {
        "colab": {
          "base_uri": "https://localhost:8080/",
          "height": 0
        },
        "id": "MO240O-TbctC",
        "outputId": "db20f168-7922-4b15-8f80-0f3b167b65a6"
      },
      "execution_count": 114,
      "outputs": [
        {
          "output_type": "display_data",
          "data": {
            "text/plain": [
              "<IPython.core.display.Javascript object>"
            ],
            "application/javascript": [
              "\n",
              "    async function download(id, filename, size) {\n",
              "      if (!google.colab.kernel.accessAllowed) {\n",
              "        return;\n",
              "      }\n",
              "      const div = document.createElement('div');\n",
              "      const label = document.createElement('label');\n",
              "      label.textContent = `Downloading \"${filename}\": `;\n",
              "      div.appendChild(label);\n",
              "      const progress = document.createElement('progress');\n",
              "      progress.max = size;\n",
              "      div.appendChild(progress);\n",
              "      document.body.appendChild(div);\n",
              "\n",
              "      const buffers = [];\n",
              "      let downloaded = 0;\n",
              "\n",
              "      const channel = await google.colab.kernel.comms.open(id);\n",
              "      // Send a message to notify the kernel that we're ready.\n",
              "      channel.send({})\n",
              "\n",
              "      for await (const message of channel.messages) {\n",
              "        // Send a message to notify the kernel that we're ready.\n",
              "        channel.send({})\n",
              "        if (message.buffers) {\n",
              "          for (const buffer of message.buffers) {\n",
              "            buffers.push(buffer);\n",
              "            downloaded += buffer.byteLength;\n",
              "            progress.value = downloaded;\n",
              "          }\n",
              "        }\n",
              "      }\n",
              "      const blob = new Blob(buffers, {type: 'application/binary'});\n",
              "      const a = document.createElement('a');\n",
              "      a.href = window.URL.createObjectURL(blob);\n",
              "      a.download = filename;\n",
              "      div.appendChild(a);\n",
              "      a.click();\n",
              "      div.remove();\n",
              "    }\n",
              "  "
            ]
          },
          "metadata": {}
        },
        {
          "output_type": "display_data",
          "data": {
            "text/plain": [
              "<IPython.core.display.Javascript object>"
            ],
            "application/javascript": [
              "download(\"download_ede0f0a3-6ea7-4059-9e4f-5d07f754d955\", \"filtro7_MX.csv\", 65810329)"
            ]
          },
          "metadata": {}
        }
      ]
    },
    {
      "cell_type": "code",
      "source": [
        "#Los registros cuyo review _scores_value > 4.9\n",
        "filtro8 = df[df['review_scores_value']>4.9]\n",
        "filtro8.to_csv(\"filtro8_MX.csv\")\n",
        "files.download(\"filtro8_MX.csv\")"
      ],
      "metadata": {
        "colab": {
          "base_uri": "https://localhost:8080/",
          "height": 0
        },
        "id": "iwplWnwwbctC",
        "outputId": "64a645c5-9f04-406d-8d13-2f60c6440809"
      },
      "execution_count": 115,
      "outputs": [
        {
          "output_type": "display_data",
          "data": {
            "text/plain": [
              "<IPython.core.display.Javascript object>"
            ],
            "application/javascript": [
              "\n",
              "    async function download(id, filename, size) {\n",
              "      if (!google.colab.kernel.accessAllowed) {\n",
              "        return;\n",
              "      }\n",
              "      const div = document.createElement('div');\n",
              "      const label = document.createElement('label');\n",
              "      label.textContent = `Downloading \"${filename}\": `;\n",
              "      div.appendChild(label);\n",
              "      const progress = document.createElement('progress');\n",
              "      progress.max = size;\n",
              "      div.appendChild(progress);\n",
              "      document.body.appendChild(div);\n",
              "\n",
              "      const buffers = [];\n",
              "      let downloaded = 0;\n",
              "\n",
              "      const channel = await google.colab.kernel.comms.open(id);\n",
              "      // Send a message to notify the kernel that we're ready.\n",
              "      channel.send({})\n",
              "\n",
              "      for await (const message of channel.messages) {\n",
              "        // Send a message to notify the kernel that we're ready.\n",
              "        channel.send({})\n",
              "        if (message.buffers) {\n",
              "          for (const buffer of message.buffers) {\n",
              "            buffers.push(buffer);\n",
              "            downloaded += buffer.byteLength;\n",
              "            progress.value = downloaded;\n",
              "          }\n",
              "        }\n",
              "      }\n",
              "      const blob = new Blob(buffers, {type: 'application/binary'});\n",
              "      const a = document.createElement('a');\n",
              "      a.href = window.URL.createObjectURL(blob);\n",
              "      a.download = filename;\n",
              "      div.appendChild(a);\n",
              "      a.click();\n",
              "      div.remove();\n",
              "    }\n",
              "  "
            ]
          },
          "metadata": {}
        },
        {
          "output_type": "display_data",
          "data": {
            "text/plain": [
              "<IPython.core.display.Javascript object>"
            ],
            "application/javascript": [
              "download(\"download_485280f9-ff92-4ff3-ad38-a25a9173d0bb\", \"filtro8_MX.csv\", 18763129)"
            ]
          },
          "metadata": {}
        }
      ]
    },
    {
      "cell_type": "code",
      "source": [
        "#Los registros cuya availability_365<100\n",
        "filtro9 = df[df['availability_365']<100]\n",
        "filtro9.to_csv(\"filtro9_MX.csv\")\n",
        "files.download(\"filtro9_MX.csv\")"
      ],
      "metadata": {
        "colab": {
          "base_uri": "https://localhost:8080/",
          "height": 0
        },
        "id": "_ovjRxnfbctC",
        "outputId": "5d11ee2e-f158-4887-fb83-036249e04e6b"
      },
      "execution_count": 116,
      "outputs": [
        {
          "output_type": "display_data",
          "data": {
            "text/plain": [
              "<IPython.core.display.Javascript object>"
            ],
            "application/javascript": [
              "\n",
              "    async function download(id, filename, size) {\n",
              "      if (!google.colab.kernel.accessAllowed) {\n",
              "        return;\n",
              "      }\n",
              "      const div = document.createElement('div');\n",
              "      const label = document.createElement('label');\n",
              "      label.textContent = `Downloading \"${filename}\": `;\n",
              "      div.appendChild(label);\n",
              "      const progress = document.createElement('progress');\n",
              "      progress.max = size;\n",
              "      div.appendChild(progress);\n",
              "      document.body.appendChild(div);\n",
              "\n",
              "      const buffers = [];\n",
              "      let downloaded = 0;\n",
              "\n",
              "      const channel = await google.colab.kernel.comms.open(id);\n",
              "      // Send a message to notify the kernel that we're ready.\n",
              "      channel.send({})\n",
              "\n",
              "      for await (const message of channel.messages) {\n",
              "        // Send a message to notify the kernel that we're ready.\n",
              "        channel.send({})\n",
              "        if (message.buffers) {\n",
              "          for (const buffer of message.buffers) {\n",
              "            buffers.push(buffer);\n",
              "            downloaded += buffer.byteLength;\n",
              "            progress.value = downloaded;\n",
              "          }\n",
              "        }\n",
              "      }\n",
              "      const blob = new Blob(buffers, {type: 'application/binary'});\n",
              "      const a = document.createElement('a');\n",
              "      a.href = window.URL.createObjectURL(blob);\n",
              "      a.download = filename;\n",
              "      div.appendChild(a);\n",
              "      a.click();\n",
              "      div.remove();\n",
              "    }\n",
              "  "
            ]
          },
          "metadata": {}
        },
        {
          "output_type": "display_data",
          "data": {
            "text/plain": [
              "<IPython.core.display.Javascript object>"
            ],
            "application/javascript": [
              "download(\"download_51ab5308-ff83-4a7f-84c4-e779c2a24ea6\", \"filtro9_MX.csv\", 14376354)"
            ]
          },
          "metadata": {}
        }
      ]
    },
    {
      "cell_type": "code",
      "source": [
        "#Los registros cuya host response time sea \"within an hour\"\n",
        "filtro10 = df[df['host_response_time']=='within an hour']\n",
        "filtro10.to_csv(\"filtro10_MX.csv\")\n",
        "files.download(\"filtro10_MX.csv\")"
      ],
      "metadata": {
        "colab": {
          "base_uri": "https://localhost:8080/",
          "height": 0
        },
        "id": "L9OqeU2VbctC",
        "outputId": "472fe339-978c-4c31-e640-fa7d56b9ffa8"
      },
      "execution_count": 117,
      "outputs": [
        {
          "output_type": "display_data",
          "data": {
            "text/plain": [
              "<IPython.core.display.Javascript object>"
            ],
            "application/javascript": [
              "\n",
              "    async function download(id, filename, size) {\n",
              "      if (!google.colab.kernel.accessAllowed) {\n",
              "        return;\n",
              "      }\n",
              "      const div = document.createElement('div');\n",
              "      const label = document.createElement('label');\n",
              "      label.textContent = `Downloading \"${filename}\": `;\n",
              "      div.appendChild(label);\n",
              "      const progress = document.createElement('progress');\n",
              "      progress.max = size;\n",
              "      div.appendChild(progress);\n",
              "      document.body.appendChild(div);\n",
              "\n",
              "      const buffers = [];\n",
              "      let downloaded = 0;\n",
              "\n",
              "      const channel = await google.colab.kernel.comms.open(id);\n",
              "      // Send a message to notify the kernel that we're ready.\n",
              "      channel.send({})\n",
              "\n",
              "      for await (const message of channel.messages) {\n",
              "        // Send a message to notify the kernel that we're ready.\n",
              "        channel.send({})\n",
              "        if (message.buffers) {\n",
              "          for (const buffer of message.buffers) {\n",
              "            buffers.push(buffer);\n",
              "            downloaded += buffer.byteLength;\n",
              "            progress.value = downloaded;\n",
              "          }\n",
              "        }\n",
              "      }\n",
              "      const blob = new Blob(buffers, {type: 'application/binary'});\n",
              "      const a = document.createElement('a');\n",
              "      a.href = window.URL.createObjectURL(blob);\n",
              "      a.download = filename;\n",
              "      div.appendChild(a);\n",
              "      a.click();\n",
              "      div.remove();\n",
              "    }\n",
              "  "
            ]
          },
          "metadata": {}
        },
        {
          "output_type": "display_data",
          "data": {
            "text/plain": [
              "<IPython.core.display.Javascript object>"
            ],
            "application/javascript": [
              "download(\"download_831ae9f1-b79d-4c48-9c04-adb6c98b4dba\", \"filtro10_MX.csv\", 56491139)"
            ]
          },
          "metadata": {}
        }
      ]
    },
    {
      "cell_type": "markdown",
      "source": [
        "##**España**"
      ],
      "metadata": {
        "id": "WPwfzKsKj7Yj"
      }
    },
    {
      "cell_type": "code",
      "source": [
        "df = Espana"
      ],
      "metadata": {
        "id": "t8ASvs9_j7Yr"
      },
      "execution_count": 118,
      "outputs": []
    },
    {
      "cell_type": "code",
      "source": [
        "df.info()"
      ],
      "metadata": {
        "colab": {
          "base_uri": "https://localhost:8080/"
        },
        "outputId": "dcba7354-73b6-41ab-8a45-3f35eb147547",
        "id": "j76UoKnfj7Yr"
      },
      "execution_count": 119,
      "outputs": [
        {
          "output_type": "stream",
          "name": "stdout",
          "text": [
            "<class 'pandas.core.frame.DataFrame'>\n",
            "Index: 19656 entries, 0 to 19654\n",
            "Data columns (total 72 columns):\n",
            " #   Column                                        Non-Null Count  Dtype  \n",
            "---  ------                                        --------------  -----  \n",
            " 0   id                                            19656 non-null  object \n",
            " 1   listing_url                                   19656 non-null  object \n",
            " 2   last_scraped                                  19656 non-null  object \n",
            " 3   source                                        19656 non-null  object \n",
            " 4   name                                          19656 non-null  object \n",
            " 5   description                                   19656 non-null  object \n",
            " 6   neighborhood_overview                         19656 non-null  object \n",
            " 7   picture_url                                   19656 non-null  object \n",
            " 8   host_url                                      19656 non-null  object \n",
            " 9   host_name                                     19656 non-null  object \n",
            " 10  host_since                                    19656 non-null  object \n",
            " 11  host_location                                 19656 non-null  object \n",
            " 12  host_about                                    19656 non-null  object \n",
            " 13  host_response_time                            19655 non-null  object \n",
            " 14  host_response_rate                            19655 non-null  float64\n",
            " 15  host_acceptance_rate                          19655 non-null  float64\n",
            " 16  host_is_superhost                             19655 non-null  object \n",
            " 17  host_thumbnail_url                            19655 non-null  object \n",
            " 18  host_picture_url                              19655 non-null  object \n",
            " 19  host_neighbourhood                            19655 non-null  object \n",
            " 20  host_verifications                            19655 non-null  object \n",
            " 21  host_has_profile_pic                          19655 non-null  object \n",
            " 22  host_identity_verified                        19655 non-null  object \n",
            " 23  neighbourhood                                 19655 non-null  object \n",
            " 24  neighbourhood_cleansed                        19655 non-null  object \n",
            " 25  property_type                                 19655 non-null  object \n",
            " 26  room_type                                     19655 non-null  object \n",
            " 27  bathrooms_text                                19655 non-null  object \n",
            " 28  amenities                                     19655 non-null  object \n",
            " 29  price                                         19655 non-null  float64\n",
            " 30  has_availability                              19655 non-null  object \n",
            " 31  calendar_last_scraped                         19655 non-null  object \n",
            " 32  first_review                                  19655 non-null  object \n",
            " 33  last_review                                   19655 non-null  object \n",
            " 34  license                                       19655 non-null  object \n",
            " 35  instant_bookable                              19655 non-null  object \n",
            " 36  scrape_id                                     19655 non-null  float64\n",
            " 37  host_id                                       19655 non-null  float64\n",
            " 38  host_listings_count                           19655 non-null  float64\n",
            " 39  host_total_listings_count                     19655 non-null  float64\n",
            " 40  latitude                                      19655 non-null  float64\n",
            " 41  longitude                                     19655 non-null  float64\n",
            " 42  accommodates                                  19655 non-null  float64\n",
            " 43  bedrooms                                      19655 non-null  float64\n",
            " 44  beds                                          19655 non-null  float64\n",
            " 45  minimum_nights                                19655 non-null  float64\n",
            " 46  maximum_nights                                19655 non-null  float64\n",
            " 47  minimum_minimum_nights                        19655 non-null  float64\n",
            " 48  maximum_minimum_nights                        19655 non-null  float64\n",
            " 49  minimum_maximum_nights                        19655 non-null  float64\n",
            " 50  maximum_maximum_nights                        19655 non-null  float64\n",
            " 51  minimum_nights_avg_ntm                        19655 non-null  float64\n",
            " 52  maximum_nights_avg_ntm                        19655 non-null  float64\n",
            " 53  availability_30                               19655 non-null  float64\n",
            " 54  availability_60                               19655 non-null  float64\n",
            " 55  availability_90                               19655 non-null  float64\n",
            " 56  availability_365                              19655 non-null  float64\n",
            " 57  number_of_reviews                             19655 non-null  float64\n",
            " 58  number_of_reviews_ltm                         19655 non-null  float64\n",
            " 59  number_of_reviews_l30d                        19654 non-null  float64\n",
            " 60  review_scores_rating                          19654 non-null  float64\n",
            " 61  review_scores_accuracy                        19654 non-null  float64\n",
            " 62  review_scores_cleanliness                     19654 non-null  float64\n",
            " 63  review_scores_checkin                         19654 non-null  float64\n",
            " 64  review_scores_communication                   19654 non-null  float64\n",
            " 65  review_scores_location                        19654 non-null  float64\n",
            " 66  review_scores_value                           19654 non-null  float64\n",
            " 67  calculated_host_listings_count                19654 non-null  float64\n",
            " 68  calculated_host_listings_count_entire_homes   19654 non-null  float64\n",
            " 69  calculated_host_listings_count_private_rooms  19654 non-null  float64\n",
            " 70  calculated_host_listings_count_shared_rooms   19654 non-null  float64\n",
            " 71  reviews_per_month                             19654 non-null  float64\n",
            "dtypes: float64(39), object(33)\n",
            "memory usage: 10.9+ MB\n"
          ]
        }
      ]
    },
    {
      "cell_type": "code",
      "source": [
        "#host_acceptance_rate>50%\n",
        "filtro1=df[df[\"host_acceptance_rate\"] > 50]\n",
        "filtro1.to_csv(\"filtro1_ESP.csv\")\n",
        "files.download(\"filtro1_ESP.csv\")"
      ],
      "metadata": {
        "colab": {
          "base_uri": "https://localhost:8080/",
          "height": 0
        },
        "id": "XCeuCx41j7Ys",
        "outputId": "8a854018-f54c-48a2-da40-9081234df8a1"
      },
      "execution_count": 120,
      "outputs": [
        {
          "output_type": "display_data",
          "data": {
            "text/plain": [
              "<IPython.core.display.Javascript object>"
            ],
            "application/javascript": [
              "\n",
              "    async function download(id, filename, size) {\n",
              "      if (!google.colab.kernel.accessAllowed) {\n",
              "        return;\n",
              "      }\n",
              "      const div = document.createElement('div');\n",
              "      const label = document.createElement('label');\n",
              "      label.textContent = `Downloading \"${filename}\": `;\n",
              "      div.appendChild(label);\n",
              "      const progress = document.createElement('progress');\n",
              "      progress.max = size;\n",
              "      div.appendChild(progress);\n",
              "      document.body.appendChild(div);\n",
              "\n",
              "      const buffers = [];\n",
              "      let downloaded = 0;\n",
              "\n",
              "      const channel = await google.colab.kernel.comms.open(id);\n",
              "      // Send a message to notify the kernel that we're ready.\n",
              "      channel.send({})\n",
              "\n",
              "      for await (const message of channel.messages) {\n",
              "        // Send a message to notify the kernel that we're ready.\n",
              "        channel.send({})\n",
              "        if (message.buffers) {\n",
              "          for (const buffer of message.buffers) {\n",
              "            buffers.push(buffer);\n",
              "            downloaded += buffer.byteLength;\n",
              "            progress.value = downloaded;\n",
              "          }\n",
              "        }\n",
              "      }\n",
              "      const blob = new Blob(buffers, {type: 'application/binary'});\n",
              "      const a = document.createElement('a');\n",
              "      a.href = window.URL.createObjectURL(blob);\n",
              "      a.download = filename;\n",
              "      div.appendChild(a);\n",
              "      a.click();\n",
              "      div.remove();\n",
              "    }\n",
              "  "
            ]
          },
          "metadata": {}
        },
        {
          "output_type": "display_data",
          "data": {
            "text/plain": [
              "<IPython.core.display.Javascript object>"
            ],
            "application/javascript": [
              "download(\"download_303bb8b0-730f-456f-af1c-1136aa812cf3\", \"filtro1_ESP.csv\", 62908181)"
            ]
          },
          "metadata": {}
        }
      ]
    },
    {
      "cell_type": "code",
      "source": [
        "#Sólo los registros con categoría \"superhost\"\n",
        "filtro2=df[df[\"host_is_superhost\"] == 't']\n",
        "filtro2.to_csv(\"filtro2_ESP.csv\")\n",
        "files.download(\"filtro2_ESP.csv\")"
      ],
      "metadata": {
        "colab": {
          "base_uri": "https://localhost:8080/",
          "height": 0
        },
        "id": "EHGoPC43j7Ys",
        "outputId": "18c30119-cff1-46ca-e9c1-0e88301d94df"
      },
      "execution_count": 121,
      "outputs": [
        {
          "output_type": "display_data",
          "data": {
            "text/plain": [
              "<IPython.core.display.Javascript object>"
            ],
            "application/javascript": [
              "\n",
              "    async function download(id, filename, size) {\n",
              "      if (!google.colab.kernel.accessAllowed) {\n",
              "        return;\n",
              "      }\n",
              "      const div = document.createElement('div');\n",
              "      const label = document.createElement('label');\n",
              "      label.textContent = `Downloading \"${filename}\": `;\n",
              "      div.appendChild(label);\n",
              "      const progress = document.createElement('progress');\n",
              "      progress.max = size;\n",
              "      div.appendChild(progress);\n",
              "      document.body.appendChild(div);\n",
              "\n",
              "      const buffers = [];\n",
              "      let downloaded = 0;\n",
              "\n",
              "      const channel = await google.colab.kernel.comms.open(id);\n",
              "      // Send a message to notify the kernel that we're ready.\n",
              "      channel.send({})\n",
              "\n",
              "      for await (const message of channel.messages) {\n",
              "        // Send a message to notify the kernel that we're ready.\n",
              "        channel.send({})\n",
              "        if (message.buffers) {\n",
              "          for (const buffer of message.buffers) {\n",
              "            buffers.push(buffer);\n",
              "            downloaded += buffer.byteLength;\n",
              "            progress.value = downloaded;\n",
              "          }\n",
              "        }\n",
              "      }\n",
              "      const blob = new Blob(buffers, {type: 'application/binary'});\n",
              "      const a = document.createElement('a');\n",
              "      a.href = window.URL.createObjectURL(blob);\n",
              "      a.download = filename;\n",
              "      div.appendChild(a);\n",
              "      a.click();\n",
              "      div.remove();\n",
              "    }\n",
              "  "
            ]
          },
          "metadata": {}
        },
        {
          "output_type": "display_data",
          "data": {
            "text/plain": [
              "<IPython.core.display.Javascript object>"
            ],
            "application/javascript": [
              "download(\"download_c7ed24b7-64a7-4953-be3c-5d50523a4f74\", \"filtro2_ESP.csv\", 10692072)"
            ]
          },
          "metadata": {}
        }
      ]
    },
    {
      "cell_type": "code",
      "source": [
        "#Los registros que no hallan verificado identidad \" not identity_verified\"\n",
        "filtro3=df[df[\"host_identity_verified\"] == 'f']\n",
        "filtro3.to_csv(\"filtro3_ESP.csv\")\n",
        "files.download(\"filtro3_ESP.csv\")"
      ],
      "metadata": {
        "colab": {
          "base_uri": "https://localhost:8080/",
          "height": 0
        },
        "id": "zvEB5BnKj7Ys",
        "outputId": "6466d318-002c-4fee-8901-f7445396a74a"
      },
      "execution_count": 122,
      "outputs": [
        {
          "output_type": "display_data",
          "data": {
            "text/plain": [
              "<IPython.core.display.Javascript object>"
            ],
            "application/javascript": [
              "\n",
              "    async function download(id, filename, size) {\n",
              "      if (!google.colab.kernel.accessAllowed) {\n",
              "        return;\n",
              "      }\n",
              "      const div = document.createElement('div');\n",
              "      const label = document.createElement('label');\n",
              "      label.textContent = `Downloading \"${filename}\": `;\n",
              "      div.appendChild(label);\n",
              "      const progress = document.createElement('progress');\n",
              "      progress.max = size;\n",
              "      div.appendChild(progress);\n",
              "      document.body.appendChild(div);\n",
              "\n",
              "      const buffers = [];\n",
              "      let downloaded = 0;\n",
              "\n",
              "      const channel = await google.colab.kernel.comms.open(id);\n",
              "      // Send a message to notify the kernel that we're ready.\n",
              "      channel.send({})\n",
              "\n",
              "      for await (const message of channel.messages) {\n",
              "        // Send a message to notify the kernel that we're ready.\n",
              "        channel.send({})\n",
              "        if (message.buffers) {\n",
              "          for (const buffer of message.buffers) {\n",
              "            buffers.push(buffer);\n",
              "            downloaded += buffer.byteLength;\n",
              "            progress.value = downloaded;\n",
              "          }\n",
              "        }\n",
              "      }\n",
              "      const blob = new Blob(buffers, {type: 'application/binary'});\n",
              "      const a = document.createElement('a');\n",
              "      a.href = window.URL.createObjectURL(blob);\n",
              "      a.download = filename;\n",
              "      div.appendChild(a);\n",
              "      a.click();\n",
              "      div.remove();\n",
              "    }\n",
              "  "
            ]
          },
          "metadata": {}
        },
        {
          "output_type": "display_data",
          "data": {
            "text/plain": [
              "<IPython.core.display.Javascript object>"
            ],
            "application/javascript": [
              "download(\"download_84d034d9-a167-4f9d-a970-08c650c82a6b\", \"filtro3_ESP.csv\", 7137172)"
            ]
          },
          "metadata": {}
        }
      ]
    },
    {
      "cell_type": "code",
      "source": [
        "#Los registro cuyo property_type = \"Private room\" y \"Hotel room\"\n",
        "filtro4=df[(df[\"property_type\"] == 'Private room') | (df[\"property_type\"] == 'Hotel room')]\n",
        "filtro4.to_csv(\"filtro4_ESP.csv\")\n",
        "files.download(\"filtro4_ESP.csv\")"
      ],
      "metadata": {
        "colab": {
          "base_uri": "https://localhost:8080/",
          "height": 0
        },
        "outputId": "ef642ea1-8e92-4144-e3ac-0c264eeabed1",
        "id": "6An6LK44j7Ys"
      },
      "execution_count": 123,
      "outputs": [
        {
          "output_type": "display_data",
          "data": {
            "text/plain": [
              "<IPython.core.display.Javascript object>"
            ],
            "application/javascript": [
              "\n",
              "    async function download(id, filename, size) {\n",
              "      if (!google.colab.kernel.accessAllowed) {\n",
              "        return;\n",
              "      }\n",
              "      const div = document.createElement('div');\n",
              "      const label = document.createElement('label');\n",
              "      label.textContent = `Downloading \"${filename}\": `;\n",
              "      div.appendChild(label);\n",
              "      const progress = document.createElement('progress');\n",
              "      progress.max = size;\n",
              "      div.appendChild(progress);\n",
              "      document.body.appendChild(div);\n",
              "\n",
              "      const buffers = [];\n",
              "      let downloaded = 0;\n",
              "\n",
              "      const channel = await google.colab.kernel.comms.open(id);\n",
              "      // Send a message to notify the kernel that we're ready.\n",
              "      channel.send({})\n",
              "\n",
              "      for await (const message of channel.messages) {\n",
              "        // Send a message to notify the kernel that we're ready.\n",
              "        channel.send({})\n",
              "        if (message.buffers) {\n",
              "          for (const buffer of message.buffers) {\n",
              "            buffers.push(buffer);\n",
              "            downloaded += buffer.byteLength;\n",
              "            progress.value = downloaded;\n",
              "          }\n",
              "        }\n",
              "      }\n",
              "      const blob = new Blob(buffers, {type: 'application/binary'});\n",
              "      const a = document.createElement('a');\n",
              "      a.href = window.URL.createObjectURL(blob);\n",
              "      a.download = filename;\n",
              "      div.appendChild(a);\n",
              "      a.click();\n",
              "      div.remove();\n",
              "    }\n",
              "  "
            ]
          },
          "metadata": {}
        },
        {
          "output_type": "display_data",
          "data": {
            "text/plain": [
              "<IPython.core.display.Javascript object>"
            ],
            "application/javascript": [
              "download(\"download_26dc21e6-d6f3-43cb-85db-aca3e2d416b5\", \"filtro4_ESP.csv\", 20994)"
            ]
          },
          "metadata": {}
        }
      ]
    },
    {
      "cell_type": "code",
      "source": [
        "#Los registros que cuenten con bathroom > 1\n",
        "filtro5=df[(df[\"bathrooms_text\"] != '1 bath') \n",
        "& (df[\"bathrooms_text\"] != '1 private bath') \n",
        "& (df[\"bathrooms_text\"] != '1 shared bath') \n",
        "& (df[\"bathrooms_text\"] != '0 baths')]\n",
        "filtro5.to_csv(\"filtro5_ESP.csv\")\n",
        "files.download(\"filtro5_ESP.csv\")"
      ],
      "metadata": {
        "colab": {
          "base_uri": "https://localhost:8080/",
          "height": 0
        },
        "id": "XFL03VFQj7Yt",
        "outputId": "bf464bde-6030-49d7-a0d0-e1c3218be625"
      },
      "execution_count": 124,
      "outputs": [
        {
          "output_type": "display_data",
          "data": {
            "text/plain": [
              "<IPython.core.display.Javascript object>"
            ],
            "application/javascript": [
              "\n",
              "    async function download(id, filename, size) {\n",
              "      if (!google.colab.kernel.accessAllowed) {\n",
              "        return;\n",
              "      }\n",
              "      const div = document.createElement('div');\n",
              "      const label = document.createElement('label');\n",
              "      label.textContent = `Downloading \"${filename}\": `;\n",
              "      div.appendChild(label);\n",
              "      const progress = document.createElement('progress');\n",
              "      progress.max = size;\n",
              "      div.appendChild(progress);\n",
              "      document.body.appendChild(div);\n",
              "\n",
              "      const buffers = [];\n",
              "      let downloaded = 0;\n",
              "\n",
              "      const channel = await google.colab.kernel.comms.open(id);\n",
              "      // Send a message to notify the kernel that we're ready.\n",
              "      channel.send({})\n",
              "\n",
              "      for await (const message of channel.messages) {\n",
              "        // Send a message to notify the kernel that we're ready.\n",
              "        channel.send({})\n",
              "        if (message.buffers) {\n",
              "          for (const buffer of message.buffers) {\n",
              "            buffers.push(buffer);\n",
              "            downloaded += buffer.byteLength;\n",
              "            progress.value = downloaded;\n",
              "          }\n",
              "        }\n",
              "      }\n",
              "      const blob = new Blob(buffers, {type: 'application/binary'});\n",
              "      const a = document.createElement('a');\n",
              "      a.href = window.URL.createObjectURL(blob);\n",
              "      a.download = filename;\n",
              "      div.appendChild(a);\n",
              "      a.click();\n",
              "      div.remove();\n",
              "    }\n",
              "  "
            ]
          },
          "metadata": {}
        },
        {
          "output_type": "display_data",
          "data": {
            "text/plain": [
              "<IPython.core.display.Javascript object>"
            ],
            "application/javascript": [
              "download(\"download_8bae0a6b-0dd4-4c0b-9cb0-ada6634fb48a\", \"filtro5_ESP.csv\", 31778219)"
            ]
          },
          "metadata": {}
        }
      ]
    },
    {
      "cell_type": "code",
      "source": [
        "#Los registros cuyo precio sea mayor de $10,000 y que sean de tipo \"Entire home\"\n",
        "filtro6=df[(df[\"price\"] > 10000) & (df[\"room_type\"] == 'Entire home/apt')]\n",
        "filtro6.to_csv(\"filtro6_ESP.csv\")\n",
        "files.download(\"filtro6_ESP.csv\")"
      ],
      "metadata": {
        "colab": {
          "base_uri": "https://localhost:8080/",
          "height": 0
        },
        "id": "U5ebLOs4j7Yt",
        "outputId": "533c97db-b8c5-4fd8-d95b-bb364571173b"
      },
      "execution_count": 125,
      "outputs": [
        {
          "output_type": "display_data",
          "data": {
            "text/plain": [
              "<IPython.core.display.Javascript object>"
            ],
            "application/javascript": [
              "\n",
              "    async function download(id, filename, size) {\n",
              "      if (!google.colab.kernel.accessAllowed) {\n",
              "        return;\n",
              "      }\n",
              "      const div = document.createElement('div');\n",
              "      const label = document.createElement('label');\n",
              "      label.textContent = `Downloading \"${filename}\": `;\n",
              "      div.appendChild(label);\n",
              "      const progress = document.createElement('progress');\n",
              "      progress.max = size;\n",
              "      div.appendChild(progress);\n",
              "      document.body.appendChild(div);\n",
              "\n",
              "      const buffers = [];\n",
              "      let downloaded = 0;\n",
              "\n",
              "      const channel = await google.colab.kernel.comms.open(id);\n",
              "      // Send a message to notify the kernel that we're ready.\n",
              "      channel.send({})\n",
              "\n",
              "      for await (const message of channel.messages) {\n",
              "        // Send a message to notify the kernel that we're ready.\n",
              "        channel.send({})\n",
              "        if (message.buffers) {\n",
              "          for (const buffer of message.buffers) {\n",
              "            buffers.push(buffer);\n",
              "            downloaded += buffer.byteLength;\n",
              "            progress.value = downloaded;\n",
              "          }\n",
              "        }\n",
              "      }\n",
              "      const blob = new Blob(buffers, {type: 'application/binary'});\n",
              "      const a = document.createElement('a');\n",
              "      a.href = window.URL.createObjectURL(blob);\n",
              "      a.download = filename;\n",
              "      div.appendChild(a);\n",
              "      a.click();\n",
              "      div.remove();\n",
              "    }\n",
              "  "
            ]
          },
          "metadata": {}
        },
        {
          "output_type": "display_data",
          "data": {
            "text/plain": [
              "<IPython.core.display.Javascript object>"
            ],
            "application/javascript": [
              "download(\"download_1993249c-3326-46a1-bb77-7f6b28034df0\", \"filtro6_ESP.csv\", 34256)"
            ]
          },
          "metadata": {}
        }
      ]
    },
    {
      "cell_type": "code",
      "source": [
        "#Los registros cuyo review_scores_cleanliness>4.5\n",
        "filtro7 = df[df['review_scores_cleanliness']>4.5]\n",
        "filtro7.to_csv(\"filtro7_ESP.csv\")\n",
        "files.download(\"filtro7_ESP.csv\")"
      ],
      "metadata": {
        "colab": {
          "base_uri": "https://localhost:8080/",
          "height": 0
        },
        "id": "RGJLwtzGj7Yt",
        "outputId": "07a22df7-3f60-43bc-fe53-550aa023671d"
      },
      "execution_count": 126,
      "outputs": [
        {
          "output_type": "display_data",
          "data": {
            "text/plain": [
              "<IPython.core.display.Javascript object>"
            ],
            "application/javascript": [
              "\n",
              "    async function download(id, filename, size) {\n",
              "      if (!google.colab.kernel.accessAllowed) {\n",
              "        return;\n",
              "      }\n",
              "      const div = document.createElement('div');\n",
              "      const label = document.createElement('label');\n",
              "      label.textContent = `Downloading \"${filename}\": `;\n",
              "      div.appendChild(label);\n",
              "      const progress = document.createElement('progress');\n",
              "      progress.max = size;\n",
              "      div.appendChild(progress);\n",
              "      document.body.appendChild(div);\n",
              "\n",
              "      const buffers = [];\n",
              "      let downloaded = 0;\n",
              "\n",
              "      const channel = await google.colab.kernel.comms.open(id);\n",
              "      // Send a message to notify the kernel that we're ready.\n",
              "      channel.send({})\n",
              "\n",
              "      for await (const message of channel.messages) {\n",
              "        // Send a message to notify the kernel that we're ready.\n",
              "        channel.send({})\n",
              "        if (message.buffers) {\n",
              "          for (const buffer of message.buffers) {\n",
              "            buffers.push(buffer);\n",
              "            downloaded += buffer.byteLength;\n",
              "            progress.value = downloaded;\n",
              "          }\n",
              "        }\n",
              "      }\n",
              "      const blob = new Blob(buffers, {type: 'application/binary'});\n",
              "      const a = document.createElement('a');\n",
              "      a.href = window.URL.createObjectURL(blob);\n",
              "      a.download = filename;\n",
              "      div.appendChild(a);\n",
              "      a.click();\n",
              "      div.remove();\n",
              "    }\n",
              "  "
            ]
          },
          "metadata": {}
        },
        {
          "output_type": "display_data",
          "data": {
            "text/plain": [
              "<IPython.core.display.Javascript object>"
            ],
            "application/javascript": [
              "download(\"download_a11e20df-88bb-401a-8445-7e5d38866ada\", \"filtro7_ESP.csv\", 37038964)"
            ]
          },
          "metadata": {}
        }
      ]
    },
    {
      "cell_type": "code",
      "source": [
        "#Los registros cuyo review _scores_value > 4.9\n",
        "filtro8 = df[df['review_scores_value']>4.9]\n",
        "filtro8.to_csv(\"filtro8_ESP.csv\")\n",
        "files.download(\"filtro8_ESP.csv\")"
      ],
      "metadata": {
        "colab": {
          "base_uri": "https://localhost:8080/",
          "height": 0
        },
        "id": "ZWba_UBNj7Yt",
        "outputId": "3b3a1c3a-6932-4225-bbef-e262e14a96bc"
      },
      "execution_count": 127,
      "outputs": [
        {
          "output_type": "display_data",
          "data": {
            "text/plain": [
              "<IPython.core.display.Javascript object>"
            ],
            "application/javascript": [
              "\n",
              "    async function download(id, filename, size) {\n",
              "      if (!google.colab.kernel.accessAllowed) {\n",
              "        return;\n",
              "      }\n",
              "      const div = document.createElement('div');\n",
              "      const label = document.createElement('label');\n",
              "      label.textContent = `Downloading \"${filename}\": `;\n",
              "      div.appendChild(label);\n",
              "      const progress = document.createElement('progress');\n",
              "      progress.max = size;\n",
              "      div.appendChild(progress);\n",
              "      document.body.appendChild(div);\n",
              "\n",
              "      const buffers = [];\n",
              "      let downloaded = 0;\n",
              "\n",
              "      const channel = await google.colab.kernel.comms.open(id);\n",
              "      // Send a message to notify the kernel that we're ready.\n",
              "      channel.send({})\n",
              "\n",
              "      for await (const message of channel.messages) {\n",
              "        // Send a message to notify the kernel that we're ready.\n",
              "        channel.send({})\n",
              "        if (message.buffers) {\n",
              "          for (const buffer of message.buffers) {\n",
              "            buffers.push(buffer);\n",
              "            downloaded += buffer.byteLength;\n",
              "            progress.value = downloaded;\n",
              "          }\n",
              "        }\n",
              "      }\n",
              "      const blob = new Blob(buffers, {type: 'application/binary'});\n",
              "      const a = document.createElement('a');\n",
              "      a.href = window.URL.createObjectURL(blob);\n",
              "      a.download = filename;\n",
              "      div.appendChild(a);\n",
              "      a.click();\n",
              "      div.remove();\n",
              "    }\n",
              "  "
            ]
          },
          "metadata": {}
        },
        {
          "output_type": "display_data",
          "data": {
            "text/plain": [
              "<IPython.core.display.Javascript object>"
            ],
            "application/javascript": [
              "download(\"download_de6839f2-8199-48a6-be70-684fdbf9cb80\", \"filtro8_ESP.csv\", 9069628)"
            ]
          },
          "metadata": {}
        }
      ]
    },
    {
      "cell_type": "code",
      "source": [
        "#Los registros cuya availability_365<100\n",
        "filtro9 = df[df['availability_365']<100]\n",
        "filtro9.to_csv(\"filtro9_ESP.csv\")\n",
        "files.download(\"filtro9_ESP.csv\")"
      ],
      "metadata": {
        "colab": {
          "base_uri": "https://localhost:8080/",
          "height": 0
        },
        "id": "tYN7EFk5j7Yt",
        "outputId": "dfcf3bb7-d2d8-4c5b-c9ed-aef8250d2ea7"
      },
      "execution_count": 128,
      "outputs": [
        {
          "output_type": "display_data",
          "data": {
            "text/plain": [
              "<IPython.core.display.Javascript object>"
            ],
            "application/javascript": [
              "\n",
              "    async function download(id, filename, size) {\n",
              "      if (!google.colab.kernel.accessAllowed) {\n",
              "        return;\n",
              "      }\n",
              "      const div = document.createElement('div');\n",
              "      const label = document.createElement('label');\n",
              "      label.textContent = `Downloading \"${filename}\": `;\n",
              "      div.appendChild(label);\n",
              "      const progress = document.createElement('progress');\n",
              "      progress.max = size;\n",
              "      div.appendChild(progress);\n",
              "      document.body.appendChild(div);\n",
              "\n",
              "      const buffers = [];\n",
              "      let downloaded = 0;\n",
              "\n",
              "      const channel = await google.colab.kernel.comms.open(id);\n",
              "      // Send a message to notify the kernel that we're ready.\n",
              "      channel.send({})\n",
              "\n",
              "      for await (const message of channel.messages) {\n",
              "        // Send a message to notify the kernel that we're ready.\n",
              "        channel.send({})\n",
              "        if (message.buffers) {\n",
              "          for (const buffer of message.buffers) {\n",
              "            buffers.push(buffer);\n",
              "            downloaded += buffer.byteLength;\n",
              "            progress.value = downloaded;\n",
              "          }\n",
              "        }\n",
              "      }\n",
              "      const blob = new Blob(buffers, {type: 'application/binary'});\n",
              "      const a = document.createElement('a');\n",
              "      a.href = window.URL.createObjectURL(blob);\n",
              "      a.download = filename;\n",
              "      div.appendChild(a);\n",
              "      a.click();\n",
              "      div.remove();\n",
              "    }\n",
              "  "
            ]
          },
          "metadata": {}
        },
        {
          "output_type": "display_data",
          "data": {
            "text/plain": [
              "<IPython.core.display.Javascript object>"
            ],
            "application/javascript": [
              "download(\"download_ff1b3a49-5edf-4903-a193-a1e62cedda6d\", \"filtro9_ESP.csv\", 16585309)"
            ]
          },
          "metadata": {}
        }
      ]
    },
    {
      "cell_type": "code",
      "source": [
        "#Los registros cuya host response time sea \"within an hour\"\n",
        "filtro10 = df[df['host_response_time']=='within an hour']\n",
        "filtro10.to_csv(\"filtro10_ESP.csv\")\n",
        "files.download(\"filtro10_ESP.csv\")"
      ],
      "metadata": {
        "colab": {
          "base_uri": "https://localhost:8080/",
          "height": 0
        },
        "outputId": "1328ac70-3c00-47a5-cd84-2d074e39eba7",
        "id": "q2HqMl-Zj7Yv"
      },
      "execution_count": 129,
      "outputs": [
        {
          "output_type": "display_data",
          "data": {
            "text/plain": [
              "<IPython.core.display.Javascript object>"
            ],
            "application/javascript": [
              "\n",
              "    async function download(id, filename, size) {\n",
              "      if (!google.colab.kernel.accessAllowed) {\n",
              "        return;\n",
              "      }\n",
              "      const div = document.createElement('div');\n",
              "      const label = document.createElement('label');\n",
              "      label.textContent = `Downloading \"${filename}\": `;\n",
              "      div.appendChild(label);\n",
              "      const progress = document.createElement('progress');\n",
              "      progress.max = size;\n",
              "      div.appendChild(progress);\n",
              "      document.body.appendChild(div);\n",
              "\n",
              "      const buffers = [];\n",
              "      let downloaded = 0;\n",
              "\n",
              "      const channel = await google.colab.kernel.comms.open(id);\n",
              "      // Send a message to notify the kernel that we're ready.\n",
              "      channel.send({})\n",
              "\n",
              "      for await (const message of channel.messages) {\n",
              "        // Send a message to notify the kernel that we're ready.\n",
              "        channel.send({})\n",
              "        if (message.buffers) {\n",
              "          for (const buffer of message.buffers) {\n",
              "            buffers.push(buffer);\n",
              "            downloaded += buffer.byteLength;\n",
              "            progress.value = downloaded;\n",
              "          }\n",
              "        }\n",
              "      }\n",
              "      const blob = new Blob(buffers, {type: 'application/binary'});\n",
              "      const a = document.createElement('a');\n",
              "      a.href = window.URL.createObjectURL(blob);\n",
              "      a.download = filename;\n",
              "      div.appendChild(a);\n",
              "      a.click();\n",
              "      div.remove();\n",
              "    }\n",
              "  "
            ]
          },
          "metadata": {}
        },
        {
          "output_type": "display_data",
          "data": {
            "text/plain": [
              "<IPython.core.display.Javascript object>"
            ],
            "application/javascript": [
              "download(\"download_fac77a93-2bc6-4984-82fc-2e6698690404\", \"filtro10_ESP.csv\", 48003642)"
            ]
          },
          "metadata": {}
        }
      ]
    }
  ]
}