{
  "nbformat": 4,
  "nbformat_minor": 0,
  "metadata": {
    "colab": {
      "provenance": [],
      "authorship_tag": "ABX9TyP7OmX/dIF/6XDhV7oxjJM7",
      "include_colab_link": true
    },
    "kernelspec": {
      "name": "python3",
      "display_name": "Python 3"
    },
    "language_info": {
      "name": "python"
    }
  },
  "cells": [
    {
      "cell_type": "markdown",
      "metadata": {
        "id": "view-in-github",
        "colab_type": "text"
      },
      "source": [
        "<a href=\"https://colab.research.google.com/github/LuisPablo19/Evaluacion/blob/main/Evaluacion_etapa1.ipynb\" target=\"_parent\"><img src=\"https://colab.research.google.com/assets/colab-badge.svg\" alt=\"Open In Colab\"/></a>"
      ]
    },
    {
      "cell_type": "markdown",
      "source": [
        "#**Actividad 5 (Evaluación)**\n",
        "##Luis Pablo Padilla Barbosa\n",
        "##A00572040"
      ],
      "metadata": {
        "id": "EnJqQH5ixmYb"
      }
    },
    {
      "cell_type": "code",
      "source": [
        "import pandas as pd\n",
        "import numpy as np\n",
        "import matplotlib.pyplot as plt\n",
        "import seaborn as sns\n",
        "from google.colab import files "
      ],
      "metadata": {
        "id": "cT06cqMOyC6o"
      },
      "execution_count": 80,
      "outputs": []
    },
    {
      "cell_type": "code",
      "execution_count": 81,
      "metadata": {
        "id": "kiGXEty6xgFA"
      },
      "outputs": [],
      "source": [
        "EUA = pd.read_csv(\"California_EUA.csv\", encoding = \"unicode_escape\")\n",
        "Mexico = pd.read_csv(\"DF_Mexico.csv\")\n",
        "Espana = pd.read_csv(\"Girona_España.csv\", encoding = \"unicode_escape\")"
      ]
    },
    {
      "cell_type": "markdown",
      "source": [
        "##**Estados Unidos**"
      ],
      "metadata": {
        "id": "AkKRgpBfzfXf"
      }
    },
    {
      "cell_type": "markdown",
      "source": [
        "###**Exploración**\n",
        "\n",
        "En esta parte se empieza por eliminar las columnas en donde todos sus datos sean nulos, por lo que al final nos quedamos sin ninguna columna vacía. \n",
        "\n",
        "Posteriormente, se dividieron los datos en aquellos que tengan variables numéricas y aquellas que cuentan con variables categóricas. "
      ],
      "metadata": {
        "id": "sCEXjsU10AYZ"
      }
    },
    {
      "cell_type": "code",
      "source": [
        "EUA.info()"
      ],
      "metadata": {
        "colab": {
          "base_uri": "https://localhost:8080/"
        },
        "id": "sztE16oeziYj",
        "outputId": "2fa64cc8-67fb-441c-f20a-6b63f91a311d"
      },
      "execution_count": 82,
      "outputs": [
        {
          "output_type": "stream",
          "name": "stdout",
          "text": [
            "<class 'pandas.core.frame.DataFrame'>\n",
            "RangeIndex: 6936 entries, 0 to 6935\n",
            "Data columns (total 75 columns):\n",
            " #   Column                                        Non-Null Count  Dtype  \n",
            "---  ------                                        --------------  -----  \n",
            " 0   ï»¿id                                         6936 non-null   float64\n",
            " 1   listing_url                                   6936 non-null   object \n",
            " 2   scrape_id                                     6936 non-null   float64\n",
            " 3   last_scraped                                  6936 non-null   object \n",
            " 4   source                                        6936 non-null   object \n",
            " 5   name                                          6936 non-null   object \n",
            " 6   description                                   6889 non-null   object \n",
            " 7   neighborhood_overview                         4850 non-null   object \n",
            " 8   picture_url                                   6936 non-null   object \n",
            " 9   host_id                                       6936 non-null   int64  \n",
            " 10  host_url                                      6936 non-null   object \n",
            " 11  host_name                                     6936 non-null   object \n",
            " 12  host_since                                    6936 non-null   object \n",
            " 13  host_location                                 5715 non-null   object \n",
            " 14  host_about                                    4684 non-null   object \n",
            " 15  host_response_time                            5917 non-null   object \n",
            " 16  host_response_rate                            5917 non-null   object \n",
            " 17  host_acceptance_rate                          6135 non-null   object \n",
            " 18  host_is_superhost                             6927 non-null   object \n",
            " 19  host_thumbnail_url                            6936 non-null   object \n",
            " 20  host_picture_url                              6936 non-null   object \n",
            " 21  host_neighbourhood                            6635 non-null   object \n",
            " 22  host_listings_count                           6936 non-null   int64  \n",
            " 23  host_total_listings_count                     6936 non-null   int64  \n",
            " 24  host_verifications                            6936 non-null   object \n",
            " 25  host_has_profile_pic                          6936 non-null   object \n",
            " 26  host_identity_verified                        6936 non-null   object \n",
            " 27  neighbourhood                                 4850 non-null   object \n",
            " 28  neighbourhood_cleansed                        6936 non-null   object \n",
            " 29  neighbourhood_group_cleansed                  0 non-null      float64\n",
            " 30  latitude                                      6936 non-null   float64\n",
            " 31  longitude                                     6936 non-null   float64\n",
            " 32  property_type                                 6936 non-null   object \n",
            " 33  room_type                                     6936 non-null   object \n",
            " 34  accommodates                                  6936 non-null   int64  \n",
            " 35  bathrooms                                     0 non-null      float64\n",
            " 36  bathrooms_text                                6922 non-null   object \n",
            " 37  bedrooms                                      5991 non-null   float64\n",
            " 38  beds                                          6816 non-null   float64\n",
            " 39  amenities                                     6936 non-null   object \n",
            " 40  price                                         6936 non-null   object \n",
            " 41  minimum_nights                                6936 non-null   int64  \n",
            " 42  maximum_nights                                6936 non-null   int64  \n",
            " 43  minimum_minimum_nights                        6934 non-null   float64\n",
            " 44  maximum_minimum_nights                        6934 non-null   float64\n",
            " 45  minimum_maximum_nights                        6934 non-null   float64\n",
            " 46  maximum_maximum_nights                        6934 non-null   float64\n",
            " 47  minimum_nights_avg_ntm                        6934 non-null   float64\n",
            " 48  maximum_nights_avg_ntm                        6934 non-null   float64\n",
            " 49  calendar_updated                              0 non-null      float64\n",
            " 50  has_availability                              6936 non-null   object \n",
            " 51  availability_30                               6936 non-null   int64  \n",
            " 52  availability_60                               6936 non-null   int64  \n",
            " 53  availability_90                               6936 non-null   int64  \n",
            " 54  availability_365                              6936 non-null   int64  \n",
            " 55  calendar_last_scraped                         6936 non-null   object \n",
            " 56  number_of_reviews                             6936 non-null   int64  \n",
            " 57  number_of_reviews_ltm                         6936 non-null   int64  \n",
            " 58  number_of_reviews_l30d                        6936 non-null   int64  \n",
            " 59  first_review                                  5611 non-null   object \n",
            " 60  last_review                                   5611 non-null   object \n",
            " 61  review_scores_rating                          5611 non-null   float64\n",
            " 62  review_scores_accuracy                        5590 non-null   float64\n",
            " 63  review_scores_cleanliness                     5590 non-null   float64\n",
            " 64  review_scores_checkin                         5589 non-null   float64\n",
            " 65  review_scores_communication                   5590 non-null   float64\n",
            " 66  review_scores_location                        5589 non-null   float64\n",
            " 67  review_scores_value                           5589 non-null   float64\n",
            " 68  license                                       4178 non-null   object \n",
            " 69  instant_bookable                              6936 non-null   object \n",
            " 70  calculated_host_listings_count                6936 non-null   int64  \n",
            " 71  calculated_host_listings_count_entire_homes   6936 non-null   int64  \n",
            " 72  calculated_host_listings_count_private_rooms  6936 non-null   int64  \n",
            " 73  calculated_host_listings_count_shared_rooms   6936 non-null   int64  \n",
            " 74  reviews_per_month                             5611 non-null   float64\n",
            "dtypes: float64(23), int64(17), object(35)\n",
            "memory usage: 4.0+ MB\n"
          ]
        }
      ]
    },
    {
      "cell_type": "code",
      "source": [
        "EUA = EUA.dropna(axis = 1, how='all')\n",
        "EUA.info()"
      ],
      "metadata": {
        "colab": {
          "base_uri": "https://localhost:8080/"
        },
        "id": "Ckwh8PFU0S69",
        "outputId": "7df158e5-58a5-4dbe-f98c-a351c17d59ec"
      },
      "execution_count": 83,
      "outputs": [
        {
          "output_type": "stream",
          "name": "stdout",
          "text": [
            "<class 'pandas.core.frame.DataFrame'>\n",
            "RangeIndex: 6936 entries, 0 to 6935\n",
            "Data columns (total 72 columns):\n",
            " #   Column                                        Non-Null Count  Dtype  \n",
            "---  ------                                        --------------  -----  \n",
            " 0   ï»¿id                                         6936 non-null   float64\n",
            " 1   listing_url                                   6936 non-null   object \n",
            " 2   scrape_id                                     6936 non-null   float64\n",
            " 3   last_scraped                                  6936 non-null   object \n",
            " 4   source                                        6936 non-null   object \n",
            " 5   name                                          6936 non-null   object \n",
            " 6   description                                   6889 non-null   object \n",
            " 7   neighborhood_overview                         4850 non-null   object \n",
            " 8   picture_url                                   6936 non-null   object \n",
            " 9   host_id                                       6936 non-null   int64  \n",
            " 10  host_url                                      6936 non-null   object \n",
            " 11  host_name                                     6936 non-null   object \n",
            " 12  host_since                                    6936 non-null   object \n",
            " 13  host_location                                 5715 non-null   object \n",
            " 14  host_about                                    4684 non-null   object \n",
            " 15  host_response_time                            5917 non-null   object \n",
            " 16  host_response_rate                            5917 non-null   object \n",
            " 17  host_acceptance_rate                          6135 non-null   object \n",
            " 18  host_is_superhost                             6927 non-null   object \n",
            " 19  host_thumbnail_url                            6936 non-null   object \n",
            " 20  host_picture_url                              6936 non-null   object \n",
            " 21  host_neighbourhood                            6635 non-null   object \n",
            " 22  host_listings_count                           6936 non-null   int64  \n",
            " 23  host_total_listings_count                     6936 non-null   int64  \n",
            " 24  host_verifications                            6936 non-null   object \n",
            " 25  host_has_profile_pic                          6936 non-null   object \n",
            " 26  host_identity_verified                        6936 non-null   object \n",
            " 27  neighbourhood                                 4850 non-null   object \n",
            " 28  neighbourhood_cleansed                        6936 non-null   object \n",
            " 29  latitude                                      6936 non-null   float64\n",
            " 30  longitude                                     6936 non-null   float64\n",
            " 31  property_type                                 6936 non-null   object \n",
            " 32  room_type                                     6936 non-null   object \n",
            " 33  accommodates                                  6936 non-null   int64  \n",
            " 34  bathrooms_text                                6922 non-null   object \n",
            " 35  bedrooms                                      5991 non-null   float64\n",
            " 36  beds                                          6816 non-null   float64\n",
            " 37  amenities                                     6936 non-null   object \n",
            " 38  price                                         6936 non-null   object \n",
            " 39  minimum_nights                                6936 non-null   int64  \n",
            " 40  maximum_nights                                6936 non-null   int64  \n",
            " 41  minimum_minimum_nights                        6934 non-null   float64\n",
            " 42  maximum_minimum_nights                        6934 non-null   float64\n",
            " 43  minimum_maximum_nights                        6934 non-null   float64\n",
            " 44  maximum_maximum_nights                        6934 non-null   float64\n",
            " 45  minimum_nights_avg_ntm                        6934 non-null   float64\n",
            " 46  maximum_nights_avg_ntm                        6934 non-null   float64\n",
            " 47  has_availability                              6936 non-null   object \n",
            " 48  availability_30                               6936 non-null   int64  \n",
            " 49  availability_60                               6936 non-null   int64  \n",
            " 50  availability_90                               6936 non-null   int64  \n",
            " 51  availability_365                              6936 non-null   int64  \n",
            " 52  calendar_last_scraped                         6936 non-null   object \n",
            " 53  number_of_reviews                             6936 non-null   int64  \n",
            " 54  number_of_reviews_ltm                         6936 non-null   int64  \n",
            " 55  number_of_reviews_l30d                        6936 non-null   int64  \n",
            " 56  first_review                                  5611 non-null   object \n",
            " 57  last_review                                   5611 non-null   object \n",
            " 58  review_scores_rating                          5611 non-null   float64\n",
            " 59  review_scores_accuracy                        5590 non-null   float64\n",
            " 60  review_scores_cleanliness                     5590 non-null   float64\n",
            " 61  review_scores_checkin                         5589 non-null   float64\n",
            " 62  review_scores_communication                   5590 non-null   float64\n",
            " 63  review_scores_location                        5589 non-null   float64\n",
            " 64  review_scores_value                           5589 non-null   float64\n",
            " 65  license                                       4178 non-null   object \n",
            " 66  instant_bookable                              6936 non-null   object \n",
            " 67  calculated_host_listings_count                6936 non-null   int64  \n",
            " 68  calculated_host_listings_count_entire_homes   6936 non-null   int64  \n",
            " 69  calculated_host_listings_count_private_rooms  6936 non-null   int64  \n",
            " 70  calculated_host_listings_count_shared_rooms   6936 non-null   int64  \n",
            " 71  reviews_per_month                             5611 non-null   float64\n",
            "dtypes: float64(20), int64(17), object(35)\n",
            "memory usage: 3.8+ MB\n"
          ]
        }
      ]
    },
    {
      "cell_type": "code",
      "source": [
        "EUA.isnull().sum().sum()"
      ],
      "metadata": {
        "colab": {
          "base_uri": "https://localhost:8080/"
        },
        "id": "9HI28RA20DQ2",
        "outputId": "55f04396-6fcd-46e3-b303-f04cb428940f"
      },
      "execution_count": 84,
      "outputs": [
        {
          "output_type": "execute_result",
          "data": {
            "text/plain": [
              "28069"
            ]
          },
          "metadata": {},
          "execution_count": 84
        }
      ]
    },
    {
      "cell_type": "code",
      "source": [
        "numericas = EUA._get_numeric_data()\n",
        "categoricas = EUA.drop(numericas, axis = 1)"
      ],
      "metadata": {
        "id": "W7HrlVc_2TCN"
      },
      "execution_count": 85,
      "outputs": []
    },
    {
      "cell_type": "markdown",
      "source": [
        "###**Limpieza de datos (numéricos)**\n",
        "En este punto se aplicó la función fillna para que se completaran los datos nulos con el promedio de la fila, puesto que se consideró que de esa forma no iba a afectar en cuanto a la distribución de los datos y nos permitiría poder explorar la información mantiendo casi las mismas caraceterísticas. \n",
        "\n",
        "Posteriormente se aplicó el método de los cuartiles para poder eliminar los valores atípicos. La razón por la cual se aplicó este método es debido a que es mucho más estricto al momento de considerar cuales datos son y cuales no son outliers. "
      ],
      "metadata": {
        "id": "TBL474XF2-p0"
      }
    },
    {
      "cell_type": "code",
      "source": [
        "numericas.info()"
      ],
      "metadata": {
        "colab": {
          "base_uri": "https://localhost:8080/"
        },
        "id": "0OaRalrZ3O4p",
        "outputId": "1cb7183e-ae55-419d-dcee-910009b35f59"
      },
      "execution_count": 86,
      "outputs": [
        {
          "output_type": "stream",
          "name": "stdout",
          "text": [
            "<class 'pandas.core.frame.DataFrame'>\n",
            "RangeIndex: 6936 entries, 0 to 6935\n",
            "Data columns (total 37 columns):\n",
            " #   Column                                        Non-Null Count  Dtype  \n",
            "---  ------                                        --------------  -----  \n",
            " 0   ï»¿id                                         6936 non-null   float64\n",
            " 1   scrape_id                                     6936 non-null   float64\n",
            " 2   host_id                                       6936 non-null   int64  \n",
            " 3   host_listings_count                           6936 non-null   int64  \n",
            " 4   host_total_listings_count                     6936 non-null   int64  \n",
            " 5   latitude                                      6936 non-null   float64\n",
            " 6   longitude                                     6936 non-null   float64\n",
            " 7   accommodates                                  6936 non-null   int64  \n",
            " 8   bedrooms                                      5991 non-null   float64\n",
            " 9   beds                                          6816 non-null   float64\n",
            " 10  minimum_nights                                6936 non-null   int64  \n",
            " 11  maximum_nights                                6936 non-null   int64  \n",
            " 12  minimum_minimum_nights                        6934 non-null   float64\n",
            " 13  maximum_minimum_nights                        6934 non-null   float64\n",
            " 14  minimum_maximum_nights                        6934 non-null   float64\n",
            " 15  maximum_maximum_nights                        6934 non-null   float64\n",
            " 16  minimum_nights_avg_ntm                        6934 non-null   float64\n",
            " 17  maximum_nights_avg_ntm                        6934 non-null   float64\n",
            " 18  availability_30                               6936 non-null   int64  \n",
            " 19  availability_60                               6936 non-null   int64  \n",
            " 20  availability_90                               6936 non-null   int64  \n",
            " 21  availability_365                              6936 non-null   int64  \n",
            " 22  number_of_reviews                             6936 non-null   int64  \n",
            " 23  number_of_reviews_ltm                         6936 non-null   int64  \n",
            " 24  number_of_reviews_l30d                        6936 non-null   int64  \n",
            " 25  review_scores_rating                          5611 non-null   float64\n",
            " 26  review_scores_accuracy                        5590 non-null   float64\n",
            " 27  review_scores_cleanliness                     5590 non-null   float64\n",
            " 28  review_scores_checkin                         5589 non-null   float64\n",
            " 29  review_scores_communication                   5590 non-null   float64\n",
            " 30  review_scores_location                        5589 non-null   float64\n",
            " 31  review_scores_value                           5589 non-null   float64\n",
            " 32  calculated_host_listings_count                6936 non-null   int64  \n",
            " 33  calculated_host_listings_count_entire_homes   6936 non-null   int64  \n",
            " 34  calculated_host_listings_count_private_rooms  6936 non-null   int64  \n",
            " 35  calculated_host_listings_count_shared_rooms   6936 non-null   int64  \n",
            " 36  reviews_per_month                             5611 non-null   float64\n",
            "dtypes: float64(20), int64(17)\n",
            "memory usage: 2.0 MB\n"
          ]
        }
      ]
    },
    {
      "cell_type": "code",
      "source": [
        "data = numericas.copy()\n",
        "numericas = numericas.fillna(round(data.mean(),1))\n",
        "numericas.isnull().sum().sum()"
      ],
      "metadata": {
        "colab": {
          "base_uri": "https://localhost:8080/"
        },
        "id": "rYVGEWZb4Pcv",
        "outputId": "67f2f546-804b-4720-e0a4-a51d20d6e640"
      },
      "execution_count": 87,
      "outputs": [
        {
          "output_type": "execute_result",
          "data": {
            "text/plain": [
              "0"
            ]
          },
          "metadata": {},
          "execution_count": 87
        }
      ]
    },
    {
      "cell_type": "code",
      "source": [
        "numericas = numericas.drop([\"ï»¿id\"], axis=1)"
      ],
      "metadata": {
        "id": "4vuNYFSD6PZX"
      },
      "execution_count": 88,
      "outputs": []
    },
    {
      "cell_type": "code",
      "source": [
        "fig = plt.figure(figsize =(15, 8))\n",
        "numericas.plot(kind='box', vert=False)\n",
        "plt.title(\"Valores Atípicos del Dataframe\")\n",
        "plt.show()"
      ],
      "metadata": {
        "colab": {
          "base_uri": "https://localhost:8080/",
          "height": 0
        },
        "id": "CcixlleS6ByN",
        "outputId": "043a79d7-f950-42c7-bd9a-aa23ba4ebb51"
      },
      "execution_count": 89,
      "outputs": [
        {
          "output_type": "display_data",
          "data": {
            "text/plain": [
              "<Figure size 1500x800 with 0 Axes>"
            ]
          },
          "metadata": {}
        },
        {
          "output_type": "display_data",
          "data": {
            "text/plain": [
              "<Figure size 640x480 with 1 Axes>"
            ],
            "image/png": "[encoded data removed]"
          },
          "metadata": {}
        }
      ]
    },
    {
      "cell_type": "code",
      "source": [
        "y=numericas\n",
        "\n",
        "percentile25=y.quantile(0.25) #Q1\n",
        "percentile75=y.quantile(0.75) #Q3\n",
        "iqr= percentile75 - percentile25\n",
        "\n",
        "Limite_Superior_iqr= percentile75 + 1.5*iqr\n",
        "Limite_Inferior_iqr= percentile25 - 1.5*iqr\n",
        "print(\"Limite superior permitido\", Limite_Superior_iqr)\n",
        "print(\"Limite inferior permitido\", Limite_Inferior_iqr)"
      ],
      "metadata": {
        "colab": {
          "base_uri": "https://localhost:8080/"
        },
        "id": "6797ZJPp7Hoo",
        "outputId": "ce703df9-856f-4146-8e84-ddc217562a75"
      },
      "execution_count": 90,
      "outputs": [
        {
          "output_type": "stream",
          "name": "stdout",
          "text": [
            "Limite superior permitido scrape_id                                       2.020000e+13\n",
            "host_id                                         4.243084e+08\n",
            "host_listings_count                             3.850000e+01\n",
            "host_total_listings_count                       5.700000e+01\n",
            "latitude                                        3.783859e+01\n",
            "longitude                                      -1.223622e+02\n",
            "accommodates                                    7.000000e+00\n",
            "bedrooms                                        3.500000e+00\n",
            "beds                                            3.500000e+00\n",
            "minimum_nights                                  7.200000e+01\n",
            "maximum_nights                                  2.769000e+03\n",
            "minimum_minimum_nights                          7.200000e+01\n",
            "maximum_minimum_nights                          7.200000e+01\n",
            "minimum_maximum_nights                          2.677500e+03\n",
            "maximum_maximum_nights                          2.677500e+03\n",
            "minimum_nights_avg_ntm                          7.200000e+01\n",
            "maximum_nights_avg_ntm                          2.677500e+03\n",
            "availability_30                                 5.750000e+01\n",
            "availability_60                                 1.235000e+02\n",
            "availability_90                                 1.860000e+02\n",
            "availability_365                                6.593750e+02\n",
            "number_of_reviews                               1.185000e+02\n",
            "number_of_reviews_ltm                           2.500000e+01\n",
            "number_of_reviews_l30d                          2.500000e+00\n",
            "review_scores_rating                            5.345000e+00\n",
            "review_scores_accuracy                          5.300000e+00\n",
            "review_scores_cleanliness                       5.330000e+00\n",
            "review_scores_checkin                           5.150000e+00\n",
            "review_scores_communication                     5.150000e+00\n",
            "review_scores_location                          5.300000e+00\n",
            "review_scores_value                             5.175000e+00\n",
            "calculated_host_listings_count                  2.100000e+01\n",
            "calculated_host_listings_count_entire_homes     5.000000e+00\n",
            "calculated_host_listings_count_private_rooms    5.000000e+00\n",
            "calculated_host_listings_count_shared_rooms     0.000000e+00\n",
            "reviews_per_month                               2.950000e+00\n",
            "dtype: float64\n",
            "Limite inferior permitido scrape_id                                       2.020000e+13\n",
            "host_id                                        -2.452959e+08\n",
            "host_listings_count                            -2.150000e+01\n",
            "host_total_listings_count                      -3.100000e+01\n",
            "latitude                                        3.770181e+01\n",
            "longitude                                      -1.224912e+02\n",
            "accommodates                                   -1.000000e+00\n",
            "bedrooms                                       -5.000000e-01\n",
            "beds                                           -5.000000e-01\n",
            "minimum_nights                                 -4.000000e+01\n",
            "maximum_nights                                 -1.615000e+03\n",
            "minimum_minimum_nights                         -4.000000e+01\n",
            "maximum_minimum_nights                         -4.000000e+01\n",
            "minimum_maximum_nights                         -1.462500e+03\n",
            "maximum_maximum_nights                         -1.462500e+03\n",
            "minimum_nights_avg_ntm                         -4.000000e+01\n",
            "maximum_nights_avg_ntm                         -1.462500e+03\n",
            "availability_30                                -3.450000e+01\n",
            "availability_60                                -7.250000e+01\n",
            "availability_90                                -1.020000e+02\n",
            "availability_365                               -3.176250e+02\n",
            "number_of_reviews                              -6.950000e+01\n",
            "number_of_reviews_ltm                          -1.500000e+01\n",
            "number_of_reviews_l30d                         -1.500000e+00\n",
            "review_scores_rating                            4.425000e+00\n",
            "review_scores_accuracy                          4.500000e+00\n",
            "review_scores_cleanliness                       4.450000e+00\n",
            "review_scores_checkin                           4.750000e+00\n",
            "review_scores_communication                     4.750000e+00\n",
            "review_scores_location                          4.500000e+00\n",
            "review_scores_value                             4.335000e+00\n",
            "calculated_host_listings_count                 -1.100000e+01\n",
            "calculated_host_listings_count_entire_homes    -3.000000e+00\n",
            "calculated_host_listings_count_private_rooms   -3.000000e+00\n",
            "calculated_host_listings_count_shared_rooms     0.000000e+00\n",
            "reviews_per_month                              -1.370000e+00\n",
            "dtype: float64\n"
          ]
        }
      ]
    },
    {
      "cell_type": "code",
      "source": [
        "data4_iqr= numericas[(y<=Limite_Superior_iqr)&(y>=Limite_Inferior_iqr)]\n",
        "valores_nulos=data4_iqr.isnull().sum()\n",
        "valores_nulos"
      ],
      "metadata": {
        "colab": {
          "base_uri": "https://localhost:8080/"
        },
        "id": "yZ76kwLs7Uo-",
        "outputId": "2e2e835c-0660-415d-a38b-e50329c87a57"
      },
      "execution_count": 91,
      "outputs": [
        {
          "output_type": "execute_result",
          "data": {
            "text/plain": [
              "scrape_id                                          0\n",
              "host_id                                          413\n",
              "host_listings_count                             1128\n",
              "host_total_listings_count                       1196\n",
              "latitude                                           0\n",
              "longitude                                        327\n",
              "accommodates                                     279\n",
              "bedrooms                                         228\n",
              "beds                                             558\n",
              "minimum_nights                                   200\n",
              "maximum_nights                                     4\n",
              "minimum_minimum_nights                           231\n",
              "maximum_minimum_nights                           346\n",
              "minimum_maximum_nights                            21\n",
              "maximum_maximum_nights                            36\n",
              "minimum_nights_avg_ntm                           341\n",
              "maximum_nights_avg_ntm                            36\n",
              "availability_30                                    0\n",
              "availability_60                                    0\n",
              "availability_90                                    0\n",
              "availability_365                                   0\n",
              "number_of_reviews                                867\n",
              "number_of_reviews_ltm                            963\n",
              "number_of_reviews_l30d                           575\n",
              "review_scores_rating                             615\n",
              "review_scores_accuracy                           444\n",
              "review_scores_cleanliness                        613\n",
              "review_scores_checkin                            720\n",
              "review_scores_communication                      895\n",
              "review_scores_location                           545\n",
              "review_scores_value                              661\n",
              "calculated_host_listings_count                  1140\n",
              "calculated_host_listings_count_entire_homes     1078\n",
              "calculated_host_listings_count_private_rooms    1040\n",
              "calculated_host_listings_count_shared_rooms      114\n",
              "reviews_per_month                                832\n",
              "dtype: int64"
            ]
          },
          "metadata": {},
          "execution_count": 91
        }
      ]
    },
    {
      "cell_type": "code",
      "source": [
        "data5_iqr=data4_iqr.copy()\n",
        "data5_iqr=data5_iqr.fillna(round(data4_iqr.mean(),1))\n",
        "data5_iqr.isnull().sum()"
      ],
      "metadata": {
        "colab": {
          "base_uri": "https://localhost:8080/"
        },
        "id": "W6U9QU8F7iCF",
        "outputId": "da759cf8-4526-4a4c-f050-95f6ba1ea5eb"
      },
      "execution_count": 92,
      "outputs": [
        {
          "output_type": "execute_result",
          "data": {
            "text/plain": [
              "scrape_id                                       0\n",
              "host_id                                         0\n",
              "host_listings_count                             0\n",
              "host_total_listings_count                       0\n",
              "latitude                                        0\n",
              "longitude                                       0\n",
              "accommodates                                    0\n",
              "bedrooms                                        0\n",
              "beds                                            0\n",
              "minimum_nights                                  0\n",
              "maximum_nights                                  0\n",
              "minimum_minimum_nights                          0\n",
              "maximum_minimum_nights                          0\n",
              "minimum_maximum_nights                          0\n",
              "maximum_maximum_nights                          0\n",
              "minimum_nights_avg_ntm                          0\n",
              "maximum_nights_avg_ntm                          0\n",
              "availability_30                                 0\n",
              "availability_60                                 0\n",
              "availability_90                                 0\n",
              "availability_365                                0\n",
              "number_of_reviews                               0\n",
              "number_of_reviews_ltm                           0\n",
              "number_of_reviews_l30d                          0\n",
              "review_scores_rating                            0\n",
              "review_scores_accuracy                          0\n",
              "review_scores_cleanliness                       0\n",
              "review_scores_checkin                           0\n",
              "review_scores_communication                     0\n",
              "review_scores_location                          0\n",
              "review_scores_value                             0\n",
              "calculated_host_listings_count                  0\n",
              "calculated_host_listings_count_entire_homes     0\n",
              "calculated_host_listings_count_private_rooms    0\n",
              "calculated_host_listings_count_shared_rooms     0\n",
              "reviews_per_month                               0\n",
              "dtype: int64"
            ]
          },
          "metadata": {},
          "execution_count": 92
        }
      ]
    },
    {
      "cell_type": "code",
      "source": [
        "numericas = data5_iqr\n",
        "numericas.info()"
      ],
      "metadata": {
        "colab": {
          "base_uri": "https://localhost:8080/"
        },
        "id": "2EBOcKMs8WFX",
        "outputId": "a8a3c582-b30c-4d8f-cf58-576f46dd805e"
      },
      "execution_count": 93,
      "outputs": [
        {
          "output_type": "stream",
          "name": "stdout",
          "text": [
            "<class 'pandas.core.frame.DataFrame'>\n",
            "RangeIndex: 6936 entries, 0 to 6935\n",
            "Data columns (total 36 columns):\n",
            " #   Column                                        Non-Null Count  Dtype  \n",
            "---  ------                                        --------------  -----  \n",
            " 0   scrape_id                                     6936 non-null   float64\n",
            " 1   host_id                                       6936 non-null   float64\n",
            " 2   host_listings_count                           6936 non-null   float64\n",
            " 3   host_total_listings_count                     6936 non-null   float64\n",
            " 4   latitude                                      6936 non-null   float64\n",
            " 5   longitude                                     6936 non-null   float64\n",
            " 6   accommodates                                  6936 non-null   float64\n",
            " 7   bedrooms                                      6936 non-null   float64\n",
            " 8   beds                                          6936 non-null   float64\n",
            " 9   minimum_nights                                6936 non-null   float64\n",
            " 10  maximum_nights                                6936 non-null   float64\n",
            " 11  minimum_minimum_nights                        6936 non-null   float64\n",
            " 12  maximum_minimum_nights                        6936 non-null   float64\n",
            " 13  minimum_maximum_nights                        6936 non-null   float64\n",
            " 14  maximum_maximum_nights                        6936 non-null   float64\n",
            " 15  minimum_nights_avg_ntm                        6936 non-null   float64\n",
            " 16  maximum_nights_avg_ntm                        6936 non-null   float64\n",
            " 17  availability_30                               6936 non-null   int64  \n",
            " 18  availability_60                               6936 non-null   int64  \n",
            " 19  availability_90                               6936 non-null   int64  \n",
            " 20  availability_365                              6936 non-null   int64  \n",
            " 21  number_of_reviews                             6936 non-null   float64\n",
            " 22  number_of_reviews_ltm                         6936 non-null   float64\n",
            " 23  number_of_reviews_l30d                        6936 non-null   float64\n",
            " 24  review_scores_rating                          6936 non-null   float64\n",
            " 25  review_scores_accuracy                        6936 non-null   float64\n",
            " 26  review_scores_cleanliness                     6936 non-null   float64\n",
            " 27  review_scores_checkin                         6936 non-null   float64\n",
            " 28  review_scores_communication                   6936 non-null   float64\n",
            " 29  review_scores_location                        6936 non-null   float64\n",
            " 30  review_scores_value                           6936 non-null   float64\n",
            " 31  calculated_host_listings_count                6936 non-null   float64\n",
            " 32  calculated_host_listings_count_entire_homes   6936 non-null   float64\n",
            " 33  calculated_host_listings_count_private_rooms  6936 non-null   float64\n",
            " 34  calculated_host_listings_count_shared_rooms   6936 non-null   float64\n",
            " 35  reviews_per_month                             6936 non-null   float64\n",
            "dtypes: float64(32), int64(4)\n",
            "memory usage: 1.9 MB\n"
          ]
        }
      ]
    },
    {
      "cell_type": "markdown",
      "source": [
        "###**Limpieza de datos (Categóricos)**\n",
        "\n",
        "En el caso de la limpieza de datos nulos en las columnas categóricas, se aplicó un fillna mediante el método forward fill, en donde se completan los datos con el valor que tiene adelante del mismo. \n",
        "\n",
        "La razón por la que se aplicó este método es porque la columnas que está adelante del valor nulo es la que podría tener más sentido para poder complementar esa columnas sin tener que eliminar el valor, ya que de otra forma nos tendríamos que inventar el dato y eso dejaría de corresponder con la dispersión de los datos que tenemos. "
      ],
      "metadata": {
        "id": "YTjhk5GN8flO"
      }
    },
    {
      "cell_type": "code",
      "source": [
        "categoricas = categoricas.fillna(method=\"ffill\")\n",
        "categoricas.isnull().sum()"
      ],
      "metadata": {
        "colab": {
          "base_uri": "https://localhost:8080/"
        },
        "id": "Imo3L9q48uHx",
        "outputId": "b184a1fb-9a0e-49db-9d5a-0ccfe340ab95"
      },
      "execution_count": 94,
      "outputs": [
        {
          "output_type": "execute_result",
          "data": {
            "text/plain": [
              "listing_url               0\n",
              "last_scraped              0\n",
              "source                    0\n",
              "name                      0\n",
              "description               0\n",
              "neighborhood_overview     0\n",
              "picture_url               0\n",
              "host_url                  0\n",
              "host_name                 0\n",
              "host_since                0\n",
              "host_location             0\n",
              "host_about                0\n",
              "host_response_time        0\n",
              "host_response_rate        0\n",
              "host_acceptance_rate      0\n",
              "host_is_superhost         0\n",
              "host_thumbnail_url        0\n",
              "host_picture_url          0\n",
              "host_neighbourhood        0\n",
              "host_verifications        0\n",
              "host_has_profile_pic      0\n",
              "host_identity_verified    0\n",
              "neighbourhood             0\n",
              "neighbourhood_cleansed    0\n",
              "property_type             0\n",
              "room_type                 0\n",
              "bathrooms_text            0\n",
              "amenities                 0\n",
              "price                     0\n",
              "has_availability          0\n",
              "calendar_last_scraped     0\n",
              "first_review              0\n",
              "last_review               0\n",
              "license                   0\n",
              "instant_bookable          0\n",
              "dtype: int64"
            ]
          },
          "metadata": {},
          "execution_count": 94
        }
      ]
    },
    {
      "cell_type": "markdown",
      "source": [
        "###**Concatener Datos limpios**"
      ],
      "metadata": {
        "id": "T5barbu8-BjS"
      }
    },
    {
      "cell_type": "code",
      "source": [
        "Datos_limpios = pd.concat([EUA['ï»¿id'], categoricas, numericas], axis=1)\n",
        "Datos_limpios.info()"
      ],
      "metadata": {
        "colab": {
          "base_uri": "https://localhost:8080/"
        },
        "id": "t1v_onUB-FzK",
        "outputId": "d1a81607-dd6d-480b-f3d6-366cac6cf029"
      },
      "execution_count": 95,
      "outputs": [
        {
          "output_type": "stream",
          "name": "stdout",
          "text": [
            "<class 'pandas.core.frame.DataFrame'>\n",
            "RangeIndex: 6936 entries, 0 to 6935\n",
            "Data columns (total 72 columns):\n",
            " #   Column                                        Non-Null Count  Dtype  \n",
            "---  ------                                        --------------  -----  \n",
            " 0   ï»¿id                                         6936 non-null   float64\n",
            " 1   listing_url                                   6936 non-null   object \n",
            " 2   last_scraped                                  6936 non-null   object \n",
            " 3   source                                        6936 non-null   object \n",
            " 4   name                                          6936 non-null   object \n",
            " 5   description                                   6936 non-null   object \n",
            " 6   neighborhood_overview                         6936 non-null   object \n",
            " 7   picture_url                                   6936 non-null   object \n",
            " 8   host_url                                      6936 non-null   object \n",
            " 9   host_name                                     6936 non-null   object \n",
            " 10  host_since                                    6936 non-null   object \n",
            " 11  host_location                                 6936 non-null   object \n",
            " 12  host_about                                    6936 non-null   object \n",
            " 13  host_response_time                            6936 non-null   object \n",
            " 14  host_response_rate                            6936 non-null   object \n",
            " 15  host_acceptance_rate                          6936 non-null   object \n",
            " 16  host_is_superhost                             6936 non-null   object \n",
            " 17  host_thumbnail_url                            6936 non-null   object \n",
            " 18  host_picture_url                              6936 non-null   object \n",
            " 19  host_neighbourhood                            6936 non-null   object \n",
            " 20  host_verifications                            6936 non-null   object \n",
            " 21  host_has_profile_pic                          6936 non-null   object \n",
            " 22  host_identity_verified                        6936 non-null   object \n",
            " 23  neighbourhood                                 6936 non-null   object \n",
            " 24  neighbourhood_cleansed                        6936 non-null   object \n",
            " 25  property_type                                 6936 non-null   object \n",
            " 26  room_type                                     6936 non-null   object \n",
            " 27  bathrooms_text                                6936 non-null   object \n",
            " 28  amenities                                     6936 non-null   object \n",
            " 29  price                                         6936 non-null   object \n",
            " 30  has_availability                              6936 non-null   object \n",
            " 31  calendar_last_scraped                         6936 non-null   object \n",
            " 32  first_review                                  6936 non-null   object \n",
            " 33  last_review                                   6936 non-null   object \n",
            " 34  license                                       6936 non-null   object \n",
            " 35  instant_bookable                              6936 non-null   object \n",
            " 36  scrape_id                                     6936 non-null   float64\n",
            " 37  host_id                                       6936 non-null   float64\n",
            " 38  host_listings_count                           6936 non-null   float64\n",
            " 39  host_total_listings_count                     6936 non-null   float64\n",
            " 40  latitude                                      6936 non-null   float64\n",
            " 41  longitude                                     6936 non-null   float64\n",
            " 42  accommodates                                  6936 non-null   float64\n",
            " 43  bedrooms                                      6936 non-null   float64\n",
            " 44  beds                                          6936 non-null   float64\n",
            " 45  minimum_nights                                6936 non-null   float64\n",
            " 46  maximum_nights                                6936 non-null   float64\n",
            " 47  minimum_minimum_nights                        6936 non-null   float64\n",
            " 48  maximum_minimum_nights                        6936 non-null   float64\n",
            " 49  minimum_maximum_nights                        6936 non-null   float64\n",
            " 50  maximum_maximum_nights                        6936 non-null   float64\n",
            " 51  minimum_nights_avg_ntm                        6936 non-null   float64\n",
            " 52  maximum_nights_avg_ntm                        6936 non-null   float64\n",
            " 53  availability_30                               6936 non-null   int64  \n",
            " 54  availability_60                               6936 non-null   int64  \n",
            " 55  availability_90                               6936 non-null   int64  \n",
            " 56  availability_365                              6936 non-null   int64  \n",
            " 57  number_of_reviews                             6936 non-null   float64\n",
            " 58  number_of_reviews_ltm                         6936 non-null   float64\n",
            " 59  number_of_reviews_l30d                        6936 non-null   float64\n",
            " 60  review_scores_rating                          6936 non-null   float64\n",
            " 61  review_scores_accuracy                        6936 non-null   float64\n",
            " 62  review_scores_cleanliness                     6936 non-null   float64\n",
            " 63  review_scores_checkin                         6936 non-null   float64\n",
            " 64  review_scores_communication                   6936 non-null   float64\n",
            " 65  review_scores_location                        6936 non-null   float64\n",
            " 66  review_scores_value                           6936 non-null   float64\n",
            " 67  calculated_host_listings_count                6936 non-null   float64\n",
            " 68  calculated_host_listings_count_entire_homes   6936 non-null   float64\n",
            " 69  calculated_host_listings_count_private_rooms  6936 non-null   float64\n",
            " 70  calculated_host_listings_count_shared_rooms   6936 non-null   float64\n",
            " 71  reviews_per_month                             6936 non-null   float64\n",
            "dtypes: float64(33), int64(4), object(35)\n",
            "memory usage: 3.8+ MB\n"
          ]
        }
      ]
    },
    {
      "cell_type": "markdown",
      "source": [
        "###**Enviar a CSV**"
      ],
      "metadata": {
        "id": "OU3hOJiD__h5"
      }
    },
    {
      "cell_type": "code",
      "source": [
        "Datos_limpios.to_csv(\"California_EUA (Limpio).csv\")\n",
        "files.download(\"California_EUA (Limpio).csv\")"
      ],
      "metadata": {
        "colab": {
          "base_uri": "https://localhost:8080/",
          "height": 0
        },
        "id": "xP1qnsRLAB5P",
        "outputId": "2b1986e2-0747-485c-e1fd-ae3ea5dca4d3"
      },
      "execution_count": 96,
      "outputs": [
        {
          "output_type": "display_data",
          "data": {
            "text/plain": [
              "<IPython.core.display.Javascript object>"
            ],
            "application/javascript": [
              "\n",
              "    async function download(id, filename, size) {\n",
              "      if (!google.colab.kernel.accessAllowed) {\n",
              "        return;\n",
              "      }\n",
              "      const div = document.createElement('div');\n",
              "      const label = document.createElement('label');\n",
              "      label.textContent = `Downloading \"${filename}\": `;\n",
              "      div.appendChild(label);\n",
              "      const progress = document.createElement('progress');\n",
              "      progress.max = size;\n",
              "      div.appendChild(progress);\n",
              "      document.body.appendChild(div);\n",
              "\n",
              "      const buffers = [];\n",
              "      let downloaded = 0;\n",
              "\n",
              "      const channel = await google.colab.kernel.comms.open(id);\n",
              "      // Send a message to notify the kernel that we're ready.\n",
              "      channel.send({})\n",
              "\n",
              "      for await (const message of channel.messages) {\n",
              "        // Send a message to notify the kernel that we're ready.\n",
              "        channel.send({})\n",
              "        if (message.buffers) {\n",
              "          for (const buffer of message.buffers) {\n",
              "            buffers.push(buffer);\n",
              "            downloaded += buffer.byteLength;\n",
              "            progress.value = downloaded;\n",
              "          }\n",
              "        }\n",
              "      }\n",
              "      const blob = new Blob(buffers, {type: 'application/binary'});\n",
              "      const a = document.createElement('a');\n",
              "      a.href = window.URL.createObjectURL(blob);\n",
              "      a.download = filename;\n",
              "      div.appendChild(a);\n",
              "      a.click();\n",
              "      div.remove();\n",
              "    }\n",
              "  "
            ]
          },
          "metadata": {}
        },
        {
          "output_type": "display_data",
          "data": {
            "text/plain": [
              "<IPython.core.display.Javascript object>"
            ],
            "application/javascript": [
              "download(\"download_4fb9cf7c-2a8e-4f30-8ffb-ae44f79b848c\", \"California_EUA (Limpio).csv\", 22260650)"
            ]
          },
          "metadata": {}
        }
      ]
    },
    {
      "cell_type": "markdown",
      "source": [
        "##**México**"
      ],
      "metadata": {
        "id": "3JxuMUpqA9T8"
      }
    },
    {
      "cell_type": "markdown",
      "source": [
        "###**Exploración**\n",
        "\n",
        "En esta parte se empieza por eliminar las columnas en donde todos sus datos sean nulos, por lo que al final nos quedamos sin ninguna columna vacía. \n",
        "\n",
        "Posteriormente, se dividieron los datos en aquellos que tengan variables numéricas y aquellas que cuentan con variables categóricas. "
      ],
      "metadata": {
        "id": "IkRiK4jzA9UH"
      }
    },
    {
      "cell_type": "code",
      "source": [
        "Mexico.info()"
      ],
      "metadata": {
        "colab": {
          "base_uri": "https://localhost:8080/"
        },
        "outputId": "e865434f-b373-488b-d038-b2f62ba9d978",
        "id": "6iKa2plmA9UH"
      },
      "execution_count": 97,
      "outputs": [
        {
          "output_type": "stream",
          "name": "stdout",
          "text": [
            "<class 'pandas.core.frame.DataFrame'>\n",
            "RangeIndex: 24224 entries, 0 to 24223\n",
            "Data columns (total 75 columns):\n",
            " #   Column                                        Non-Null Count  Dtype  \n",
            "---  ------                                        --------------  -----  \n",
            " 0   id                                            24224 non-null  int64  \n",
            " 1   listing_url                                   24224 non-null  object \n",
            " 2   scrape_id                                     24224 non-null  int64  \n",
            " 3   last_scraped                                  24224 non-null  object \n",
            " 4   source                                        24224 non-null  object \n",
            " 5   name                                          24223 non-null  object \n",
            " 6   description                                   23296 non-null  object \n",
            " 7   neighborhood_overview                         15145 non-null  object \n",
            " 8   picture_url                                   24224 non-null  object \n",
            " 9   host_id                                       24224 non-null  int64  \n",
            " 10  host_url                                      24224 non-null  object \n",
            " 11  host_name                                     24224 non-null  object \n",
            " 12  host_since                                    24224 non-null  object \n",
            " 13  host_location                                 19052 non-null  object \n",
            " 14  host_about                                    13560 non-null  object \n",
            " 15  host_response_time                            21133 non-null  object \n",
            " 16  host_response_rate                            21133 non-null  object \n",
            " 17  host_acceptance_rate                          22181 non-null  object \n",
            " 18  host_is_superhost                             24219 non-null  object \n",
            " 19  host_thumbnail_url                            24224 non-null  object \n",
            " 20  host_picture_url                              24224 non-null  object \n",
            " 21  host_neighbourhood                            11823 non-null  object \n",
            " 22  host_listings_count                           24224 non-null  int64  \n",
            " 23  host_total_listings_count                     24224 non-null  int64  \n",
            " 24  host_verifications                            24224 non-null  object \n",
            " 25  host_has_profile_pic                          24224 non-null  object \n",
            " 26  host_identity_verified                        24224 non-null  object \n",
            " 27  neighbourhood                                 15145 non-null  object \n",
            " 28  neighbourhood_cleansed                        24224 non-null  object \n",
            " 29  neighbourhood_group_cleansed                  0 non-null      float64\n",
            " 30  latitude                                      24224 non-null  float64\n",
            " 31  longitude                                     24224 non-null  float64\n",
            " 32  property_type                                 24224 non-null  object \n",
            " 33  room_type                                     24224 non-null  object \n",
            " 34  accommodates                                  24224 non-null  int64  \n",
            " 35  bathrooms                                     0 non-null      float64\n",
            " 36  bathrooms_text                                24194 non-null  object \n",
            " 37  bedrooms                                      23669 non-null  float64\n",
            " 38  beds                                          23953 non-null  float64\n",
            " 39  amenities                                     24224 non-null  object \n",
            " 40  price                                         24224 non-null  object \n",
            " 41  minimum_nights                                24224 non-null  int64  \n",
            " 42  maximum_nights                                24224 non-null  int64  \n",
            " 43  minimum_minimum_nights                        24223 non-null  float64\n",
            " 44  maximum_minimum_nights                        24223 non-null  float64\n",
            " 45  minimum_maximum_nights                        24223 non-null  float64\n",
            " 46  maximum_maximum_nights                        24223 non-null  float64\n",
            " 47  minimum_nights_avg_ntm                        24223 non-null  float64\n",
            " 48  maximum_nights_avg_ntm                        24223 non-null  float64\n",
            " 49  calendar_updated                              0 non-null      float64\n",
            " 50  has_availability                              24224 non-null  object \n",
            " 51  availability_30                               24224 non-null  int64  \n",
            " 52  availability_60                               24224 non-null  int64  \n",
            " 53  availability_90                               24224 non-null  int64  \n",
            " 54  availability_365                              24224 non-null  int64  \n",
            " 55  calendar_last_scraped                         24224 non-null  object \n",
            " 56  number_of_reviews                             24224 non-null  int64  \n",
            " 57  number_of_reviews_ltm                         24224 non-null  int64  \n",
            " 58  number_of_reviews_l30d                        24224 non-null  int64  \n",
            " 59  first_review                                  20628 non-null  object \n",
            " 60  last_review                                   20628 non-null  object \n",
            " 61  review_scores_rating                          20628 non-null  float64\n",
            " 62  review_scores_accuracy                        20572 non-null  float64\n",
            " 63  review_scores_cleanliness                     20573 non-null  float64\n",
            " 64  review_scores_checkin                         20572 non-null  float64\n",
            " 65  review_scores_communication                   20572 non-null  float64\n",
            " 66  review_scores_location                        20571 non-null  float64\n",
            " 67  review_scores_value                           20571 non-null  float64\n",
            " 68  license                                       0 non-null      float64\n",
            " 69  instant_bookable                              24224 non-null  object \n",
            " 70  calculated_host_listings_count                24224 non-null  int64  \n",
            " 71  calculated_host_listings_count_entire_homes   24224 non-null  int64  \n",
            " 72  calculated_host_listings_count_private_rooms  24224 non-null  int64  \n",
            " 73  calculated_host_listings_count_shared_rooms   24224 non-null  int64  \n",
            " 74  reviews_per_month                             20628 non-null  float64\n",
            "dtypes: float64(22), int64(19), object(34)\n",
            "memory usage: 13.9+ MB\n"
          ]
        }
      ]
    },
    {
      "cell_type": "code",
      "source": [
        "Mexico = Mexico.dropna(axis = 1, how='all')\n",
        "Mexico.info()"
      ],
      "metadata": {
        "colab": {
          "base_uri": "https://localhost:8080/"
        },
        "outputId": "60982d44-4998-40cb-a46e-5db9d9521420",
        "id": "5VHIMc1XA9UI"
      },
      "execution_count": 98,
      "outputs": [
        {
          "output_type": "stream",
          "name": "stdout",
          "text": [
            "<class 'pandas.core.frame.DataFrame'>\n",
            "RangeIndex: 24224 entries, 0 to 24223\n",
            "Data columns (total 71 columns):\n",
            " #   Column                                        Non-Null Count  Dtype  \n",
            "---  ------                                        --------------  -----  \n",
            " 0   id                                            24224 non-null  int64  \n",
            " 1   listing_url                                   24224 non-null  object \n",
            " 2   scrape_id                                     24224 non-null  int64  \n",
            " 3   last_scraped                                  24224 non-null  object \n",
            " 4   source                                        24224 non-null  object \n",
            " 5   name                                          24223 non-null  object \n",
            " 6   description                                   23296 non-null  object \n",
            " 7   neighborhood_overview                         15145 non-null  object \n",
            " 8   picture_url                                   24224 non-null  object \n",
            " 9   host_id                                       24224 non-null  int64  \n",
            " 10  host_url                                      24224 non-null  object \n",
            " 11  host_name                                     24224 non-null  object \n",
            " 12  host_since                                    24224 non-null  object \n",
            " 13  host_location                                 19052 non-null  object \n",
            " 14  host_about                                    13560 non-null  object \n",
            " 15  host_response_time                            21133 non-null  object \n",
            " 16  host_response_rate                            21133 non-null  object \n",
            " 17  host_acceptance_rate                          22181 non-null  object \n",
            " 18  host_is_superhost                             24219 non-null  object \n",
            " 19  host_thumbnail_url                            24224 non-null  object \n",
            " 20  host_picture_url                              24224 non-null  object \n",
            " 21  host_neighbourhood                            11823 non-null  object \n",
            " 22  host_listings_count                           24224 non-null  int64  \n",
            " 23  host_total_listings_count                     24224 non-null  int64  \n",
            " 24  host_verifications                            24224 non-null  object \n",
            " 25  host_has_profile_pic                          24224 non-null  object \n",
            " 26  host_identity_verified                        24224 non-null  object \n",
            " 27  neighbourhood                                 15145 non-null  object \n",
            " 28  neighbourhood_cleansed                        24224 non-null  object \n",
            " 29  latitude                                      24224 non-null  float64\n",
            " 30  longitude                                     24224 non-null  float64\n",
            " 31  property_type                                 24224 non-null  object \n",
            " 32  room_type                                     24224 non-null  object \n",
            " 33  accommodates                                  24224 non-null  int64  \n",
            " 34  bathrooms_text                                24194 non-null  object \n",
            " 35  bedrooms                                      23669 non-null  float64\n",
            " 36  beds                                          23953 non-null  float64\n",
            " 37  amenities                                     24224 non-null  object \n",
            " 38  price                                         24224 non-null  object \n",
            " 39  minimum_nights                                24224 non-null  int64  \n",
            " 40  maximum_nights                                24224 non-null  int64  \n",
            " 41  minimum_minimum_nights                        24223 non-null  float64\n",
            " 42  maximum_minimum_nights                        24223 non-null  float64\n",
            " 43  minimum_maximum_nights                        24223 non-null  float64\n",
            " 44  maximum_maximum_nights                        24223 non-null  float64\n",
            " 45  minimum_nights_avg_ntm                        24223 non-null  float64\n",
            " 46  maximum_nights_avg_ntm                        24223 non-null  float64\n",
            " 47  has_availability                              24224 non-null  object \n",
            " 48  availability_30                               24224 non-null  int64  \n",
            " 49  availability_60                               24224 non-null  int64  \n",
            " 50  availability_90                               24224 non-null  int64  \n",
            " 51  availability_365                              24224 non-null  int64  \n",
            " 52  calendar_last_scraped                         24224 non-null  object \n",
            " 53  number_of_reviews                             24224 non-null  int64  \n",
            " 54  number_of_reviews_ltm                         24224 non-null  int64  \n",
            " 55  number_of_reviews_l30d                        24224 non-null  int64  \n",
            " 56  first_review                                  20628 non-null  object \n",
            " 57  last_review                                   20628 non-null  object \n",
            " 58  review_scores_rating                          20628 non-null  float64\n",
            " 59  review_scores_accuracy                        20572 non-null  float64\n",
            " 60  review_scores_cleanliness                     20573 non-null  float64\n",
            " 61  review_scores_checkin                         20572 non-null  float64\n",
            " 62  review_scores_communication                   20572 non-null  float64\n",
            " 63  review_scores_location                        20571 non-null  float64\n",
            " 64  review_scores_value                           20571 non-null  float64\n",
            " 65  instant_bookable                              24224 non-null  object \n",
            " 66  calculated_host_listings_count                24224 non-null  int64  \n",
            " 67  calculated_host_listings_count_entire_homes   24224 non-null  int64  \n",
            " 68  calculated_host_listings_count_private_rooms  24224 non-null  int64  \n",
            " 69  calculated_host_listings_count_shared_rooms   24224 non-null  int64  \n",
            " 70  reviews_per_month                             20628 non-null  float64\n",
            "dtypes: float64(18), int64(19), object(34)\n",
            "memory usage: 13.1+ MB\n"
          ]
        }
      ]
    },
    {
      "cell_type": "code",
      "source": [
        "Mexico.isnull().sum().sum()"
      ],
      "metadata": {
        "colab": {
          "base_uri": "https://localhost:8080/"
        },
        "outputId": "80524677-d86e-4fc4-fc16-ef87d0d4063a",
        "id": "rxkRqxY1A9UI"
      },
      "execution_count": 99,
      "outputs": [
        {
          "output_type": "execute_result",
          "data": {
            "text/plain": [
              "92713"
            ]
          },
          "metadata": {},
          "execution_count": 99
        }
      ]
    },
    {
      "cell_type": "code",
      "source": [
        "numericas = Mexico._get_numeric_data()\n",
        "categoricas = Mexico.drop(numericas, axis = 1)"
      ],
      "metadata": {
        "id": "N2j6XOsaA9UJ"
      },
      "execution_count": 100,
      "outputs": []
    },
    {
      "cell_type": "markdown",
      "source": [
        "###**Limpieza de datos (numéricos)**\n",
        "En este punto se aplicó la función fillna para que se completaran los datos nulos con el promedio de la fila, puesto que se consideró que de esa forma no iba a afectar en cuanto a la distribución de los datos y nos permitiría poder explorar la información mantiendo casi las mismas caraceterísticas. \n",
        "\n",
        "Posteriormente se aplicó el método de los cuartiles para poder eliminar los valores atípicos. La razón por la cual se aplicó este método es debido a que es mucho más estricto al momento de considerar cuales datos son y cuales no son outliers. "
      ],
      "metadata": {
        "id": "0D3wCzzgA9UJ"
      }
    },
    {
      "cell_type": "code",
      "source": [
        "numericas.info()"
      ],
      "metadata": {
        "colab": {
          "base_uri": "https://localhost:8080/"
        },
        "outputId": "207ec291-f3aa-456e-cef2-3d9e61e2919a",
        "id": "trxur9ZpA9UJ"
      },
      "execution_count": 101,
      "outputs": [
        {
          "output_type": "stream",
          "name": "stdout",
          "text": [
            "<class 'pandas.core.frame.DataFrame'>\n",
            "RangeIndex: 24224 entries, 0 to 24223\n",
            "Data columns (total 37 columns):\n",
            " #   Column                                        Non-Null Count  Dtype  \n",
            "---  ------                                        --------------  -----  \n",
            " 0   id                                            24224 non-null  int64  \n",
            " 1   scrape_id                                     24224 non-null  int64  \n",
            " 2   host_id                                       24224 non-null  int64  \n",
            " 3   host_listings_count                           24224 non-null  int64  \n",
            " 4   host_total_listings_count                     24224 non-null  int64  \n",
            " 5   latitude                                      24224 non-null  float64\n",
            " 6   longitude                                     24224 non-null  float64\n",
            " 7   accommodates                                  24224 non-null  int64  \n",
            " 8   bedrooms                                      23669 non-null  float64\n",
            " 9   beds                                          23953 non-null  float64\n",
            " 10  minimum_nights                                24224 non-null  int64  \n",
            " 11  maximum_nights                                24224 non-null  int64  \n",
            " 12  minimum_minimum_nights                        24223 non-null  float64\n",
            " 13  maximum_minimum_nights                        24223 non-null  float64\n",
            " 14  minimum_maximum_nights                        24223 non-null  float64\n",
            " 15  maximum_maximum_nights                        24223 non-null  float64\n",
            " 16  minimum_nights_avg_ntm                        24223 non-null  float64\n",
            " 17  maximum_nights_avg_ntm                        24223 non-null  float64\n",
            " 18  availability_30                               24224 non-null  int64  \n",
            " 19  availability_60                               24224 non-null  int64  \n",
            " 20  availability_90                               24224 non-null  int64  \n",
            " 21  availability_365                              24224 non-null  int64  \n",
            " 22  number_of_reviews                             24224 non-null  int64  \n",
            " 23  number_of_reviews_ltm                         24224 non-null  int64  \n",
            " 24  number_of_reviews_l30d                        24224 non-null  int64  \n",
            " 25  review_scores_rating                          20628 non-null  float64\n",
            " 26  review_scores_accuracy                        20572 non-null  float64\n",
            " 27  review_scores_cleanliness                     20573 non-null  float64\n",
            " 28  review_scores_checkin                         20572 non-null  float64\n",
            " 29  review_scores_communication                   20572 non-null  float64\n",
            " 30  review_scores_location                        20571 non-null  float64\n",
            " 31  review_scores_value                           20571 non-null  float64\n",
            " 32  calculated_host_listings_count                24224 non-null  int64  \n",
            " 33  calculated_host_listings_count_entire_homes   24224 non-null  int64  \n",
            " 34  calculated_host_listings_count_private_rooms  24224 non-null  int64  \n",
            " 35  calculated_host_listings_count_shared_rooms   24224 non-null  int64  \n",
            " 36  reviews_per_month                             20628 non-null  float64\n",
            "dtypes: float64(18), int64(19)\n",
            "memory usage: 6.8 MB\n"
          ]
        }
      ]
    },
    {
      "cell_type": "code",
      "source": [
        "data = numericas.copy()\n",
        "numericas = numericas.fillna(round(data.mean(),1))\n",
        "numericas.isnull().sum().sum()"
      ],
      "metadata": {
        "colab": {
          "base_uri": "https://localhost:8080/"
        },
        "outputId": "fdfa254f-ec46-4426-c749-38c5dab74532",
        "id": "6sFhxDh4A9UJ"
      },
      "execution_count": 102,
      "outputs": [
        {
          "output_type": "execute_result",
          "data": {
            "text/plain": [
              "0"
            ]
          },
          "metadata": {},
          "execution_count": 102
        }
      ]
    },
    {
      "cell_type": "code",
      "source": [
        "numericas = numericas.drop([\"id\"], axis=1)"
      ],
      "metadata": {
        "id": "ALe5dPX3A9UK"
      },
      "execution_count": 103,
      "outputs": []
    },
    {
      "cell_type": "code",
      "source": [
        "fig = plt.figure(figsize =(15, 8))\n",
        "numericas.plot(kind='box', vert=False)\n",
        "plt.title(\"Valores Atípicos del Dataframe\")\n",
        "plt.show()"
      ],
      "metadata": {
        "colab": {
          "base_uri": "https://localhost:8080/",
          "height": 0
        },
        "outputId": "e796bf04-753f-4d26-e67b-bc93b7c491a0",
        "id": "tR-gi_2NA9UK"
      },
      "execution_count": 104,
      "outputs": [
        {
          "output_type": "display_data",
          "data": {
            "text/plain": [
              "<Figure size 1500x800 with 0 Axes>"
            ]
          },
          "metadata": {}
        },
        {
          "output_type": "display_data",
          "data": {
            "text/plain": [
              "<Figure size 640x480 with 1 Axes>"
            ],
            "image/png": "[encoded data removed]"
          },
          "metadata": {}
        }
      ]
    },
    {
      "cell_type": "code",
      "source": [
        "y=numericas\n",
        "\n",
        "percentile25=y.quantile(0.25) #Q1\n",
        "percentile75=y.quantile(0.75) #Q3\n",
        "iqr= percentile75 - percentile25\n",
        "\n",
        "Limite_Superior_iqr= percentile75 + 1.5*iqr\n",
        "Limite_Inferior_iqr= percentile25 - 1.5*iqr\n",
        "print(\"Limite superior permitido\", Limite_Superior_iqr)\n",
        "print(\"Limite inferior permitido\", Limite_Inferior_iqr)"
      ],
      "metadata": {
        "colab": {
          "base_uri": "https://localhost:8080/"
        },
        "outputId": "90f97ddd-a7e5-4c8c-ed1a-00701bf83d55",
        "id": "0l_0pDH1A9UL"
      },
      "execution_count": 105,
      "outputs": [
        {
          "output_type": "stream",
          "name": "stdout",
          "text": [
            "Limite superior permitido scrape_id                                       2.023033e+13\n",
            "host_id                                         6.839189e+08\n",
            "host_listings_count                             2.850000e+01\n",
            "host_total_listings_count                       3.200000e+01\n",
            "latitude                                        1.949915e+01\n",
            "longitude                                      -9.911735e+01\n",
            "accommodates                                    7.000000e+00\n",
            "bedrooms                                        3.500000e+00\n",
            "beds                                            3.500000e+00\n",
            "minimum_nights                                  3.500000e+00\n",
            "maximum_nights                                  2.542500e+03\n",
            "minimum_minimum_nights                          3.500000e+00\n",
            "maximum_minimum_nights                          6.000000e+00\n",
            "minimum_maximum_nights                          2.265000e+03\n",
            "maximum_maximum_nights                          2.265000e+03\n",
            "minimum_nights_avg_ntm                          5.750000e+00\n",
            "maximum_nights_avg_ntm                          2.265000e+03\n",
            "availability_30                                 6.300000e+01\n",
            "availability_60                                 1.095000e+02\n",
            "availability_90                                 1.500000e+02\n",
            "availability_365                                6.740000e+02\n",
            "number_of_reviews                               1.045000e+02\n",
            "number_of_reviews_ltm                           4.750000e+01\n",
            "number_of_reviews_l30d                          5.000000e+00\n",
            "review_scores_rating                            5.325000e+00\n",
            "review_scores_accuracy                          5.265000e+00\n",
            "review_scores_cleanliness                       5.350000e+00\n",
            "review_scores_checkin                           5.300000e+00\n",
            "review_scores_communication                     5.300000e+00\n",
            "review_scores_location                          5.300000e+00\n",
            "review_scores_value                             5.265000e+00\n",
            "calculated_host_listings_count                  2.350000e+01\n",
            "calculated_host_listings_count_entire_homes     1.500000e+01\n",
            "calculated_host_listings_count_private_rooms    5.000000e+00\n",
            "calculated_host_listings_count_shared_rooms     0.000000e+00\n",
            "reviews_per_month                               4.481250e+00\n",
            "dtype: float64\n",
            "Limite inferior permitido scrape_id                                       2.023033e+13\n",
            "host_id                                        -3.333808e+08\n",
            "host_listings_count                            -1.550000e+01\n",
            "host_total_listings_count                      -1.600000e+01\n",
            "latitude                                        1.931817e+01\n",
            "longitude                                      -9.921716e+01\n",
            "accommodates                                   -1.000000e+00\n",
            "bedrooms                                       -5.000000e-01\n",
            "beds                                           -5.000000e-01\n",
            "minimum_nights                                 -5.000000e-01\n",
            "maximum_nights                                 -1.237500e+03\n",
            "minimum_minimum_nights                         -5.000000e-01\n",
            "maximum_minimum_nights                         -2.000000e+00\n",
            "minimum_maximum_nights                         -7.750000e+02\n",
            "maximum_maximum_nights                         -7.750000e+02\n",
            "minimum_nights_avg_ntm                         -1.850000e+00\n",
            "maximum_nights_avg_ntm                         -7.750000e+02\n",
            "availability_30                                -3.300000e+01\n",
            "availability_60                                -3.050000e+01\n",
            "availability_90                                -1.800000e+01\n",
            "availability_365                               -1.740000e+02\n",
            "number_of_reviews                              -5.950000e+01\n",
            "number_of_reviews_ltm                          -2.850000e+01\n",
            "number_of_reviews_l30d                         -3.000000e+00\n",
            "review_scores_rating                            4.325000e+00\n",
            "review_scores_accuracy                          4.505000e+00\n",
            "review_scores_cleanliness                       4.310000e+00\n",
            "review_scores_checkin                           4.500000e+00\n",
            "review_scores_communication                     4.500000e+00\n",
            "review_scores_location                          4.500000e+00\n",
            "review_scores_value                             4.345000e+00\n",
            "calculated_host_listings_count                 -1.250000e+01\n",
            "calculated_host_listings_count_entire_homes    -9.000000e+00\n",
            "calculated_host_listings_count_private_rooms   -3.000000e+00\n",
            "calculated_host_listings_count_shared_rooms     0.000000e+00\n",
            "reviews_per_month                              -1.808750e+00\n",
            "dtype: float64\n"
          ]
        }
      ]
    },
    {
      "cell_type": "code",
      "source": [
        "data4_iqr= numericas[(y<=Limite_Superior_iqr)&(y>=Limite_Inferior_iqr)]\n",
        "valores_nulos=data4_iqr.isnull().sum()\n",
        "valores_nulos"
      ],
      "metadata": {
        "colab": {
          "base_uri": "https://localhost:8080/"
        },
        "outputId": "bf43dcb7-10c4-45d2-9fc8-8f2b4215fccb",
        "id": "T3_kLkfOA9UL"
      },
      "execution_count": 106,
      "outputs": [
        {
          "output_type": "execute_result",
          "data": {
            "text/plain": [
              "scrape_id                                          0\n",
              "host_id                                            0\n",
              "host_listings_count                             3324\n",
              "host_total_listings_count                       3453\n",
              "latitude                                        1490\n",
              "longitude                                       2594\n",
              "accommodates                                    1090\n",
              "bedrooms                                         640\n",
              "beds                                            2347\n",
              "minimum_nights                                  3195\n",
              "maximum_nights                                     1\n",
              "minimum_minimum_nights                          3082\n",
              "maximum_minimum_nights                          1895\n",
              "minimum_maximum_nights                             5\n",
              "maximum_maximum_nights                             6\n",
              "minimum_nights_avg_ntm                          1929\n",
              "maximum_nights_avg_ntm                             6\n",
              "availability_30                                    0\n",
              "availability_60                                    0\n",
              "availability_90                                    0\n",
              "availability_365                                   0\n",
              "number_of_reviews                               2308\n",
              "number_of_reviews_ltm                           1519\n",
              "number_of_reviews_l30d                           784\n",
              "review_scores_rating                            1588\n",
              "review_scores_accuracy                          2150\n",
              "review_scores_cleanliness                       1510\n",
              "review_scores_checkin                           1226\n",
              "review_scores_communication                     1498\n",
              "review_scores_location                          1209\n",
              "review_scores_value                             1859\n",
              "calculated_host_listings_count                  3224\n",
              "calculated_host_listings_count_entire_homes     3444\n",
              "calculated_host_listings_count_private_rooms    3076\n",
              "calculated_host_listings_count_shared_rooms      576\n",
              "reviews_per_month                               1373\n",
              "dtype: int64"
            ]
          },
          "metadata": {},
          "execution_count": 106
        }
      ]
    },
    {
      "cell_type": "code",
      "source": [
        "data5_iqr=data4_iqr.copy()\n",
        "data5_iqr=data5_iqr.fillna(round(data4_iqr.mean(),1))\n",
        "data5_iqr.isnull().sum()"
      ],
      "metadata": {
        "colab": {
          "base_uri": "https://localhost:8080/"
        },
        "outputId": "82924be3-1605-477c-c80e-83f8de06ac97",
        "id": "gvLJ2A6SA9UN"
      },
      "execution_count": 107,
      "outputs": [
        {
          "output_type": "execute_result",
          "data": {
            "text/plain": [
              "scrape_id                                       0\n",
              "host_id                                         0\n",
              "host_listings_count                             0\n",
              "host_total_listings_count                       0\n",
              "latitude                                        0\n",
              "longitude                                       0\n",
              "accommodates                                    0\n",
              "bedrooms                                        0\n",
              "beds                                            0\n",
              "minimum_nights                                  0\n",
              "maximum_nights                                  0\n",
              "minimum_minimum_nights                          0\n",
              "maximum_minimum_nights                          0\n",
              "minimum_maximum_nights                          0\n",
              "maximum_maximum_nights                          0\n",
              "minimum_nights_avg_ntm                          0\n",
              "maximum_nights_avg_ntm                          0\n",
              "availability_30                                 0\n",
              "availability_60                                 0\n",
              "availability_90                                 0\n",
              "availability_365                                0\n",
              "number_of_reviews                               0\n",
              "number_of_reviews_ltm                           0\n",
              "number_of_reviews_l30d                          0\n",
              "review_scores_rating                            0\n",
              "review_scores_accuracy                          0\n",
              "review_scores_cleanliness                       0\n",
              "review_scores_checkin                           0\n",
              "review_scores_communication                     0\n",
              "review_scores_location                          0\n",
              "review_scores_value                             0\n",
              "calculated_host_listings_count                  0\n",
              "calculated_host_listings_count_entire_homes     0\n",
              "calculated_host_listings_count_private_rooms    0\n",
              "calculated_host_listings_count_shared_rooms     0\n",
              "reviews_per_month                               0\n",
              "dtype: int64"
            ]
          },
          "metadata": {},
          "execution_count": 107
        }
      ]
    },
    {
      "cell_type": "code",
      "source": [
        "numericas = data5_iqr\n",
        "numericas.info()"
      ],
      "metadata": {
        "colab": {
          "base_uri": "https://localhost:8080/"
        },
        "outputId": "4c8edb5f-7cba-495e-b160-f65699bf493b",
        "id": "SMbECucOA9UN"
      },
      "execution_count": 108,
      "outputs": [
        {
          "output_type": "stream",
          "name": "stdout",
          "text": [
            "<class 'pandas.core.frame.DataFrame'>\n",
            "RangeIndex: 24224 entries, 0 to 24223\n",
            "Data columns (total 36 columns):\n",
            " #   Column                                        Non-Null Count  Dtype  \n",
            "---  ------                                        --------------  -----  \n",
            " 0   scrape_id                                     24224 non-null  int64  \n",
            " 1   host_id                                       24224 non-null  int64  \n",
            " 2   host_listings_count                           24224 non-null  float64\n",
            " 3   host_total_listings_count                     24224 non-null  float64\n",
            " 4   latitude                                      24224 non-null  float64\n",
            " 5   longitude                                     24224 non-null  float64\n",
            " 6   accommodates                                  24224 non-null  float64\n",
            " 7   bedrooms                                      24224 non-null  float64\n",
            " 8   beds                                          24224 non-null  float64\n",
            " 9   minimum_nights                                24224 non-null  float64\n",
            " 10  maximum_nights                                24224 non-null  float64\n",
            " 11  minimum_minimum_nights                        24224 non-null  float64\n",
            " 12  maximum_minimum_nights                        24224 non-null  float64\n",
            " 13  minimum_maximum_nights                        24224 non-null  float64\n",
            " 14  maximum_maximum_nights                        24224 non-null  float64\n",
            " 15  minimum_nights_avg_ntm                        24224 non-null  float64\n",
            " 16  maximum_nights_avg_ntm                        24224 non-null  float64\n",
            " 17  availability_30                               24224 non-null  int64  \n",
            " 18  availability_60                               24224 non-null  int64  \n",
            " 19  availability_90                               24224 non-null  int64  \n",
            " 20  availability_365                              24224 non-null  int64  \n",
            " 21  number_of_reviews                             24224 non-null  float64\n",
            " 22  number_of_reviews_ltm                         24224 non-null  float64\n",
            " 23  number_of_reviews_l30d                        24224 non-null  float64\n",
            " 24  review_scores_rating                          24224 non-null  float64\n",
            " 25  review_scores_accuracy                        24224 non-null  float64\n",
            " 26  review_scores_cleanliness                     24224 non-null  float64\n",
            " 27  review_scores_checkin                         24224 non-null  float64\n",
            " 28  review_scores_communication                   24224 non-null  float64\n",
            " 29  review_scores_location                        24224 non-null  float64\n",
            " 30  review_scores_value                           24224 non-null  float64\n",
            " 31  calculated_host_listings_count                24224 non-null  float64\n",
            " 32  calculated_host_listings_count_entire_homes   24224 non-null  float64\n",
            " 33  calculated_host_listings_count_private_rooms  24224 non-null  float64\n",
            " 34  calculated_host_listings_count_shared_rooms   24224 non-null  float64\n",
            " 35  reviews_per_month                             24224 non-null  float64\n",
            "dtypes: float64(30), int64(6)\n",
            "memory usage: 6.7 MB\n"
          ]
        }
      ]
    },
    {
      "cell_type": "markdown",
      "source": [
        "###**Limpieza de datos (Categóricos)**\n",
        "\n",
        "En el caso de la limpieza de datos nulos en las columnas categóricas, se aplicó un fillna mediante el método forward fill, en donde se completan los datos con el valor que tiene adelante del mismo. Después como no se llenaron todos los datos nulos, se corrió otra vez un código similar, pero ahora usando backward fill. \n",
        "\n",
        "La razón por la que se aplicó este método es porque la columnas que está adelante del valor nulo es la que podría tener más sentido para poder complementar esa columnas sin tener que eliminar el valor, ya que de otra forma nos tendríamos que inventar el dato y eso dejaría de corresponder con la dispersión de los datos que tenemos. \n",
        "\n",
        "Y la razón por la cual se aplicó por segunda vez el método, es porque puede que algunos valores no tengan un valor antes del valor nulo, por lo que para rellenarlo debemos de usar el de después. "
      ],
      "metadata": {
        "id": "obbQ3zNaA9UO"
      }
    },
    {
      "cell_type": "code",
      "source": [
        "categoricas = categoricas.fillna(method=\"ffill\")\n",
        "categoricas = categoricas.fillna(method=\"bfill\")\n",
        "categoricas.isnull().sum()"
      ],
      "metadata": {
        "colab": {
          "base_uri": "https://localhost:8080/"
        },
        "outputId": "c9ad3239-7e42-4f87-ea66-09a12d6d20ee",
        "id": "s8rK4fIUA9UO"
      },
      "execution_count": 109,
      "outputs": [
        {
          "output_type": "execute_result",
          "data": {
            "text/plain": [
              "listing_url               0\n",
              "last_scraped              0\n",
              "source                    0\n",
              "name                      0\n",
              "description               0\n",
              "neighborhood_overview     0\n",
              "picture_url               0\n",
              "host_url                  0\n",
              "host_name                 0\n",
              "host_since                0\n",
              "host_location             0\n",
              "host_about                0\n",
              "host_response_time        0\n",
              "host_response_rate        0\n",
              "host_acceptance_rate      0\n",
              "host_is_superhost         0\n",
              "host_thumbnail_url        0\n",
              "host_picture_url          0\n",
              "host_neighbourhood        0\n",
              "host_verifications        0\n",
              "host_has_profile_pic      0\n",
              "host_identity_verified    0\n",
              "neighbourhood             0\n",
              "neighbourhood_cleansed    0\n",
              "property_type             0\n",
              "room_type                 0\n",
              "bathrooms_text            0\n",
              "amenities                 0\n",
              "price                     0\n",
              "has_availability          0\n",
              "calendar_last_scraped     0\n",
              "first_review              0\n",
              "last_review               0\n",
              "instant_bookable          0\n",
              "dtype: int64"
            ]
          },
          "metadata": {},
          "execution_count": 109
        }
      ]
    },
    {
      "cell_type": "markdown",
      "source": [
        "###**Concatener Datos limpios**"
      ],
      "metadata": {
        "id": "Rs_OdWhKA9UO"
      }
    },
    {
      "cell_type": "code",
      "source": [
        "Datos_limpios = pd.concat([Mexico['id'], categoricas, numericas], axis=1)\n",
        "Datos_limpios.info()"
      ],
      "metadata": {
        "colab": {
          "base_uri": "https://localhost:8080/"
        },
        "outputId": "62d51016-df58-4294-a2a0-5db6bae2f033",
        "id": "5lYibeF8A9UO"
      },
      "execution_count": 110,
      "outputs": [
        {
          "output_type": "stream",
          "name": "stdout",
          "text": [
            "<class 'pandas.core.frame.DataFrame'>\n",
            "RangeIndex: 24224 entries, 0 to 24223\n",
            "Data columns (total 71 columns):\n",
            " #   Column                                        Non-Null Count  Dtype  \n",
            "---  ------                                        --------------  -----  \n",
            " 0   id                                            24224 non-null  int64  \n",
            " 1   listing_url                                   24224 non-null  object \n",
            " 2   last_scraped                                  24224 non-null  object \n",
            " 3   source                                        24224 non-null  object \n",
            " 4   name                                          24224 non-null  object \n",
            " 5   description                                   24224 non-null  object \n",
            " 6   neighborhood_overview                         24224 non-null  object \n",
            " 7   picture_url                                   24224 non-null  object \n",
            " 8   host_url                                      24224 non-null  object \n",
            " 9   host_name                                     24224 non-null  object \n",
            " 10  host_since                                    24224 non-null  object \n",
            " 11  host_location                                 24224 non-null  object \n",
            " 12  host_about                                    24224 non-null  object \n",
            " 13  host_response_time                            24224 non-null  object \n",
            " 14  host_response_rate                            24224 non-null  object \n",
            " 15  host_acceptance_rate                          24224 non-null  object \n",
            " 16  host_is_superhost                             24224 non-null  object \n",
            " 17  host_thumbnail_url                            24224 non-null  object \n",
            " 18  host_picture_url                              24224 non-null  object \n",
            " 19  host_neighbourhood                            24224 non-null  object \n",
            " 20  host_verifications                            24224 non-null  object \n",
            " 21  host_has_profile_pic                          24224 non-null  object \n",
            " 22  host_identity_verified                        24224 non-null  object \n",
            " 23  neighbourhood                                 24224 non-null  object \n",
            " 24  neighbourhood_cleansed                        24224 non-null  object \n",
            " 25  property_type                                 24224 non-null  object \n",
            " 26  room_type                                     24224 non-null  object \n",
            " 27  bathrooms_text                                24224 non-null  object \n",
            " 28  amenities                                     24224 non-null  object \n",
            " 29  price                                         24224 non-null  object \n",
            " 30  has_availability                              24224 non-null  object \n",
            " 31  calendar_last_scraped                         24224 non-null  object \n",
            " 32  first_review                                  24224 non-null  object \n",
            " 33  last_review                                   24224 non-null  object \n",
            " 34  instant_bookable                              24224 non-null  object \n",
            " 35  scrape_id                                     24224 non-null  int64  \n",
            " 36  host_id                                       24224 non-null  int64  \n",
            " 37  host_listings_count                           24224 non-null  float64\n",
            " 38  host_total_listings_count                     24224 non-null  float64\n",
            " 39  latitude                                      24224 non-null  float64\n",
            " 40  longitude                                     24224 non-null  float64\n",
            " 41  accommodates                                  24224 non-null  float64\n",
            " 42  bedrooms                                      24224 non-null  float64\n",
            " 43  beds                                          24224 non-null  float64\n",
            " 44  minimum_nights                                24224 non-null  float64\n",
            " 45  maximum_nights                                24224 non-null  float64\n",
            " 46  minimum_minimum_nights                        24224 non-null  float64\n",
            " 47  maximum_minimum_nights                        24224 non-null  float64\n",
            " 48  minimum_maximum_nights                        24224 non-null  float64\n",
            " 49  maximum_maximum_nights                        24224 non-null  float64\n",
            " 50  minimum_nights_avg_ntm                        24224 non-null  float64\n",
            " 51  maximum_nights_avg_ntm                        24224 non-null  float64\n",
            " 52  availability_30                               24224 non-null  int64  \n",
            " 53  availability_60                               24224 non-null  int64  \n",
            " 54  availability_90                               24224 non-null  int64  \n",
            " 55  availability_365                              24224 non-null  int64  \n",
            " 56  number_of_reviews                             24224 non-null  float64\n",
            " 57  number_of_reviews_ltm                         24224 non-null  float64\n",
            " 58  number_of_reviews_l30d                        24224 non-null  float64\n",
            " 59  review_scores_rating                          24224 non-null  float64\n",
            " 60  review_scores_accuracy                        24224 non-null  float64\n",
            " 61  review_scores_cleanliness                     24224 non-null  float64\n",
            " 62  review_scores_checkin                         24224 non-null  float64\n",
            " 63  review_scores_communication                   24224 non-null  float64\n",
            " 64  review_scores_location                        24224 non-null  float64\n",
            " 65  review_scores_value                           24224 non-null  float64\n",
            " 66  calculated_host_listings_count                24224 non-null  float64\n",
            " 67  calculated_host_listings_count_entire_homes   24224 non-null  float64\n",
            " 68  calculated_host_listings_count_private_rooms  24224 non-null  float64\n",
            " 69  calculated_host_listings_count_shared_rooms   24224 non-null  float64\n",
            " 70  reviews_per_month                             24224 non-null  float64\n",
            "dtypes: float64(30), int64(7), object(34)\n",
            "memory usage: 13.1+ MB\n"
          ]
        }
      ]
    },
    {
      "cell_type": "markdown",
      "source": [
        "###**Enviar a CSV**"
      ],
      "metadata": {
        "id": "0NXSV17gA9UP"
      }
    },
    {
      "cell_type": "code",
      "source": [
        "Datos_limpios.to_csv(\"DF_Mexico (Limpio).csv\")\n",
        "files.download(\"DF_Mexico (Limpio).csv\")"
      ],
      "metadata": {
        "colab": {
          "base_uri": "https://localhost:8080/",
          "height": 0
        },
        "id": "4z5MIXbuA9UP",
        "outputId": "a597eb5a-5cf0-42ef-ecfe-4c037d47ccca"
      },
      "execution_count": 111,
      "outputs": [
        {
          "output_type": "display_data",
          "data": {
            "text/plain": [
              "<IPython.core.display.Javascript object>"
            ],
            "application/javascript": [
              "\n",
              "    async function download(id, filename, size) {\n",
              "      if (!google.colab.kernel.accessAllowed) {\n",
              "        return;\n",
              "      }\n",
              "      const div = document.createElement('div');\n",
              "      const label = document.createElement('label');\n",
              "      label.textContent = `Downloading \"${filename}\": `;\n",
              "      div.appendChild(label);\n",
              "      const progress = document.createElement('progress');\n",
              "      progress.max = size;\n",
              "      div.appendChild(progress);\n",
              "      document.body.appendChild(div);\n",
              "\n",
              "      const buffers = [];\n",
              "      let downloaded = 0;\n",
              "\n",
              "      const channel = await google.colab.kernel.comms.open(id);\n",
              "      // Send a message to notify the kernel that we're ready.\n",
              "      channel.send({})\n",
              "\n",
              "      for await (const message of channel.messages) {\n",
              "        // Send a message to notify the kernel that we're ready.\n",
              "        channel.send({})\n",
              "        if (message.buffers) {\n",
              "          for (const buffer of message.buffers) {\n",
              "            buffers.push(buffer);\n",
              "            downloaded += buffer.byteLength;\n",
              "            progress.value = downloaded;\n",
              "          }\n",
              "        }\n",
              "      }\n",
              "      const blob = new Blob(buffers, {type: 'application/binary'});\n",
              "      const a = document.createElement('a');\n",
              "      a.href = window.URL.createObjectURL(blob);\n",
              "      a.download = filename;\n",
              "      div.appendChild(a);\n",
              "      a.click();\n",
              "      div.remove();\n",
              "    }\n",
              "  "
            ]
          },
          "metadata": {}
        },
        {
          "output_type": "display_data",
          "data": {
            "text/plain": [
              "<IPython.core.display.Javascript object>"
            ],
            "application/javascript": [
              "download(\"download_075b58e4-0371-4b67-8021-5a4ad1e5c249\", \"DF_Mexico (Limpio).csv\", 69460221)"
            ]
          },
          "metadata": {}
        }
      ]
    },
    {
      "cell_type": "markdown",
      "source": [
        "##**España**"
      ],
      "metadata": {
        "id": "hhyeI46gCaRi"
      }
    },
    {
      "cell_type": "markdown",
      "source": [
        "###**Exploración**\n",
        "\n",
        "En esta parte se empieza por eliminar las columnas en donde todos sus datos sean nulos, por lo que al final nos quedamos sin ninguna columna vacía. \n",
        "\n",
        "Posteriormente, se dividieron los datos en aquellos que tengan variables numéricas y aquellas que cuentan con variables categóricas. "
      ],
      "metadata": {
        "id": "0lPnLsV7CaRj"
      }
    },
    {
      "cell_type": "code",
      "source": [
        "Espana.info()"
      ],
      "metadata": {
        "colab": {
          "base_uri": "https://localhost:8080/"
        },
        "outputId": "a99684d0-989f-4ad1-d7c5-5ab75945c31d",
        "id": "It-25-hfCaRj"
      },
      "execution_count": 112,
      "outputs": [
        {
          "output_type": "stream",
          "name": "stdout",
          "text": [
            "<class 'pandas.core.frame.DataFrame'>\n",
            "RangeIndex: 19655 entries, 0 to 19654\n",
            "Data columns (total 75 columns):\n",
            " #   Column                                        Non-Null Count  Dtype  \n",
            "---  ------                                        --------------  -----  \n",
            " 0   id                                            19655 non-null  float64\n",
            " 1   listing_url                                   19655 non-null  object \n",
            " 2   scrape_id                                     19655 non-null  float64\n",
            " 3   last_scraped                                  19655 non-null  object \n",
            " 4   source                                        19655 non-null  object \n",
            " 5   name                                          19655 non-null  object \n",
            " 6   description                                   19632 non-null  object \n",
            " 7   neighborhood_overview                         8342 non-null   object \n",
            " 8   picture_url                                   19655 non-null  object \n",
            " 9   host_id                                       19655 non-null  int64  \n",
            " 10  host_url                                      19655 non-null  object \n",
            " 11  host_name                                     19538 non-null  object \n",
            " 12  host_since                                    19538 non-null  object \n",
            " 13  host_location                                 14096 non-null  object \n",
            " 14  host_about                                    11231 non-null  object \n",
            " 15  host_response_time                            17567 non-null  object \n",
            " 16  host_response_rate                            17567 non-null  object \n",
            " 17  host_acceptance_rate                          18502 non-null  object \n",
            " 18  host_is_superhost                             19640 non-null  object \n",
            " 19  host_thumbnail_url                            19538 non-null  object \n",
            " 20  host_picture_url                              19538 non-null  object \n",
            " 21  host_neighbourhood                            1269 non-null   object \n",
            " 22  host_listings_count                           19538 non-null  float64\n",
            " 23  host_total_listings_count                     19538 non-null  float64\n",
            " 24  host_verifications                            19655 non-null  object \n",
            " 25  host_has_profile_pic                          19538 non-null  object \n",
            " 26  host_identity_verified                        19538 non-null  object \n",
            " 27  neighbourhood                                 8342 non-null   object \n",
            " 28  neighbourhood_cleansed                        19655 non-null  object \n",
            " 29  neighbourhood_group_cleansed                  0 non-null      float64\n",
            " 30  latitude                                      19655 non-null  float64\n",
            " 31  longitude                                     19655 non-null  float64\n",
            " 32  property_type                                 19655 non-null  object \n",
            " 33  room_type                                     19655 non-null  object \n",
            " 34  accommodates                                  19655 non-null  int64  \n",
            " 35  bathrooms                                     0 non-null      float64\n",
            " 36  bathrooms_text                                19639 non-null  object \n",
            " 37  bedrooms                                      19152 non-null  float64\n",
            " 38  beds                                          19562 non-null  float64\n",
            " 39  amenities                                     19655 non-null  object \n",
            " 40  price                                         19655 non-null  object \n",
            " 41  minimum_nights                                19655 non-null  int64  \n",
            " 42  maximum_nights                                19655 non-null  int64  \n",
            " 43  minimum_minimum_nights                        19654 non-null  float64\n",
            " 44  maximum_minimum_nights                        19654 non-null  float64\n",
            " 45  minimum_maximum_nights                        19654 non-null  float64\n",
            " 46  maximum_maximum_nights                        19654 non-null  float64\n",
            " 47  minimum_nights_avg_ntm                        19654 non-null  float64\n",
            " 48  maximum_nights_avg_ntm                        19654 non-null  float64\n",
            " 49  calendar_updated                              0 non-null      float64\n",
            " 50  has_availability                              19655 non-null  object \n",
            " 51  availability_30                               19655 non-null  int64  \n",
            " 52  availability_60                               19655 non-null  int64  \n",
            " 53  availability_90                               19655 non-null  int64  \n",
            " 54  availability_365                              19655 non-null  int64  \n",
            " 55  calendar_last_scraped                         19655 non-null  object \n",
            " 56  number_of_reviews                             19655 non-null  int64  \n",
            " 57  number_of_reviews_ltm                         19655 non-null  int64  \n",
            " 58  number_of_reviews_l30d                        19655 non-null  int64  \n",
            " 59  first_review                                  14428 non-null  object \n",
            " 60  last_review                                   14428 non-null  object \n",
            " 61  review_scores_rating                          14428 non-null  float64\n",
            " 62  review_scores_accuracy                        14370 non-null  float64\n",
            " 63  review_scores_cleanliness                     14372 non-null  float64\n",
            " 64  review_scores_checkin                         14371 non-null  float64\n",
            " 65  review_scores_communication                   14370 non-null  float64\n",
            " 66  review_scores_location                        14371 non-null  float64\n",
            " 67  review_scores_value                           14370 non-null  float64\n",
            " 68  license                                       18520 non-null  object \n",
            " 69  instant_bookable                              19655 non-null  object \n",
            " 70  calculated_host_listings_count                19655 non-null  int64  \n",
            " 71  calculated_host_listings_count_entire_homes   19655 non-null  int64  \n",
            " 72  calculated_host_listings_count_private_rooms  19655 non-null  int64  \n",
            " 73  calculated_host_listings_count_shared_rooms   19655 non-null  int64  \n",
            " 74  reviews_per_month                             14428 non-null  float64\n",
            "dtypes: float64(25), int64(15), object(35)\n",
            "memory usage: 11.2+ MB\n"
          ]
        }
      ]
    },
    {
      "cell_type": "code",
      "source": [
        "Espana = Espana.dropna(axis = 1, how='all')\n",
        "Espana.info()"
      ],
      "metadata": {
        "colab": {
          "base_uri": "https://localhost:8080/"
        },
        "outputId": "91a9518c-ef87-4794-e3b3-ac14eba9bafa",
        "id": "s7x4ORonCaRj"
      },
      "execution_count": 113,
      "outputs": [
        {
          "output_type": "stream",
          "name": "stdout",
          "text": [
            "<class 'pandas.core.frame.DataFrame'>\n",
            "RangeIndex: 19655 entries, 0 to 19654\n",
            "Data columns (total 72 columns):\n",
            " #   Column                                        Non-Null Count  Dtype  \n",
            "---  ------                                        --------------  -----  \n",
            " 0   id                                            19655 non-null  float64\n",
            " 1   listing_url                                   19655 non-null  object \n",
            " 2   scrape_id                                     19655 non-null  float64\n",
            " 3   last_scraped                                  19655 non-null  object \n",
            " 4   source                                        19655 non-null  object \n",
            " 5   name                                          19655 non-null  object \n",
            " 6   description                                   19632 non-null  object \n",
            " 7   neighborhood_overview                         8342 non-null   object \n",
            " 8   picture_url                                   19655 non-null  object \n",
            " 9   host_id                                       19655 non-null  int64  \n",
            " 10  host_url                                      19655 non-null  object \n",
            " 11  host_name                                     19538 non-null  object \n",
            " 12  host_since                                    19538 non-null  object \n",
            " 13  host_location                                 14096 non-null  object \n",
            " 14  host_about                                    11231 non-null  object \n",
            " 15  host_response_time                            17567 non-null  object \n",
            " 16  host_response_rate                            17567 non-null  object \n",
            " 17  host_acceptance_rate                          18502 non-null  object \n",
            " 18  host_is_superhost                             19640 non-null  object \n",
            " 19  host_thumbnail_url                            19538 non-null  object \n",
            " 20  host_picture_url                              19538 non-null  object \n",
            " 21  host_neighbourhood                            1269 non-null   object \n",
            " 22  host_listings_count                           19538 non-null  float64\n",
            " 23  host_total_listings_count                     19538 non-null  float64\n",
            " 24  host_verifications                            19655 non-null  object \n",
            " 25  host_has_profile_pic                          19538 non-null  object \n",
            " 26  host_identity_verified                        19538 non-null  object \n",
            " 27  neighbourhood                                 8342 non-null   object \n",
            " 28  neighbourhood_cleansed                        19655 non-null  object \n",
            " 29  latitude                                      19655 non-null  float64\n",
            " 30  longitude                                     19655 non-null  float64\n",
            " 31  property_type                                 19655 non-null  object \n",
            " 32  room_type                                     19655 non-null  object \n",
            " 33  accommodates                                  19655 non-null  int64  \n",
            " 34  bathrooms_text                                19639 non-null  object \n",
            " 35  bedrooms                                      19152 non-null  float64\n",
            " 36  beds                                          19562 non-null  float64\n",
            " 37  amenities                                     19655 non-null  object \n",
            " 38  price                                         19655 non-null  object \n",
            " 39  minimum_nights                                19655 non-null  int64  \n",
            " 40  maximum_nights                                19655 non-null  int64  \n",
            " 41  minimum_minimum_nights                        19654 non-null  float64\n",
            " 42  maximum_minimum_nights                        19654 non-null  float64\n",
            " 43  minimum_maximum_nights                        19654 non-null  float64\n",
            " 44  maximum_maximum_nights                        19654 non-null  float64\n",
            " 45  minimum_nights_avg_ntm                        19654 non-null  float64\n",
            " 46  maximum_nights_avg_ntm                        19654 non-null  float64\n",
            " 47  has_availability                              19655 non-null  object \n",
            " 48  availability_30                               19655 non-null  int64  \n",
            " 49  availability_60                               19655 non-null  int64  \n",
            " 50  availability_90                               19655 non-null  int64  \n",
            " 51  availability_365                              19655 non-null  int64  \n",
            " 52  calendar_last_scraped                         19655 non-null  object \n",
            " 53  number_of_reviews                             19655 non-null  int64  \n",
            " 54  number_of_reviews_ltm                         19655 non-null  int64  \n",
            " 55  number_of_reviews_l30d                        19655 non-null  int64  \n",
            " 56  first_review                                  14428 non-null  object \n",
            " 57  last_review                                   14428 non-null  object \n",
            " 58  review_scores_rating                          14428 non-null  float64\n",
            " 59  review_scores_accuracy                        14370 non-null  float64\n",
            " 60  review_scores_cleanliness                     14372 non-null  float64\n",
            " 61  review_scores_checkin                         14371 non-null  float64\n",
            " 62  review_scores_communication                   14370 non-null  float64\n",
            " 63  review_scores_location                        14371 non-null  float64\n",
            " 64  review_scores_value                           14370 non-null  float64\n",
            " 65  license                                       18520 non-null  object \n",
            " 66  instant_bookable                              19655 non-null  object \n",
            " 67  calculated_host_listings_count                19655 non-null  int64  \n",
            " 68  calculated_host_listings_count_entire_homes   19655 non-null  int64  \n",
            " 69  calculated_host_listings_count_private_rooms  19655 non-null  int64  \n",
            " 70  calculated_host_listings_count_shared_rooms   19655 non-null  int64  \n",
            " 71  reviews_per_month                             14428 non-null  float64\n",
            "dtypes: float64(22), int64(15), object(35)\n",
            "memory usage: 10.8+ MB\n"
          ]
        }
      ]
    },
    {
      "cell_type": "code",
      "source": [
        "Espana.isnull().sum().sum()"
      ],
      "metadata": {
        "colab": {
          "base_uri": "https://localhost:8080/"
        },
        "outputId": "0029e3cc-458b-4279-9ecf-ca6d135353d2",
        "id": "UYisu7-HCaRj"
      },
      "execution_count": 114,
      "outputs": [
        {
          "output_type": "execute_result",
          "data": {
            "text/plain": [
              "115665"
            ]
          },
          "metadata": {},
          "execution_count": 114
        }
      ]
    },
    {
      "cell_type": "code",
      "source": [
        "numericas = Espana._get_numeric_data()\n",
        "categoricas = Espana.drop(numericas, axis = 1)"
      ],
      "metadata": {
        "id": "p8FrtSP0CaRk"
      },
      "execution_count": 115,
      "outputs": []
    },
    {
      "cell_type": "markdown",
      "source": [
        "###**Limpieza de datos (numéricos)**\n",
        "En este punto se aplicó la función fillna para que se completaran los datos nulos con el promedio de la fila, puesto que se consideró que de esa forma no iba a afectar en cuanto a la distribución de los datos y nos permitiría poder explorar la información mantiendo casi las mismas caraceterísticas. \n",
        "\n",
        "Posteriormente se aplicó el método de los cuartiles para poder eliminar los valores atípicos. La razón por la cual se aplicó este método es debido a que es mucho más estricto al momento de considerar cuales datos son y cuales no son outliers. "
      ],
      "metadata": {
        "id": "39yLg0inCaRk"
      }
    },
    {
      "cell_type": "code",
      "source": [
        "numericas.info()"
      ],
      "metadata": {
        "colab": {
          "base_uri": "https://localhost:8080/"
        },
        "outputId": "b347f0fd-b0e1-40dc-f9b4-f391ec15ea0d",
        "id": "rye2aJEUCaRk"
      },
      "execution_count": 116,
      "outputs": [
        {
          "output_type": "stream",
          "name": "stdout",
          "text": [
            "<class 'pandas.core.frame.DataFrame'>\n",
            "RangeIndex: 19655 entries, 0 to 19654\n",
            "Data columns (total 37 columns):\n",
            " #   Column                                        Non-Null Count  Dtype  \n",
            "---  ------                                        --------------  -----  \n",
            " 0   id                                            19655 non-null  float64\n",
            " 1   scrape_id                                     19655 non-null  float64\n",
            " 2   host_id                                       19655 non-null  int64  \n",
            " 3   host_listings_count                           19538 non-null  float64\n",
            " 4   host_total_listings_count                     19538 non-null  float64\n",
            " 5   latitude                                      19655 non-null  float64\n",
            " 6   longitude                                     19655 non-null  float64\n",
            " 7   accommodates                                  19655 non-null  int64  \n",
            " 8   bedrooms                                      19152 non-null  float64\n",
            " 9   beds                                          19562 non-null  float64\n",
            " 10  minimum_nights                                19655 non-null  int64  \n",
            " 11  maximum_nights                                19655 non-null  int64  \n",
            " 12  minimum_minimum_nights                        19654 non-null  float64\n",
            " 13  maximum_minimum_nights                        19654 non-null  float64\n",
            " 14  minimum_maximum_nights                        19654 non-null  float64\n",
            " 15  maximum_maximum_nights                        19654 non-null  float64\n",
            " 16  minimum_nights_avg_ntm                        19654 non-null  float64\n",
            " 17  maximum_nights_avg_ntm                        19654 non-null  float64\n",
            " 18  availability_30                               19655 non-null  int64  \n",
            " 19  availability_60                               19655 non-null  int64  \n",
            " 20  availability_90                               19655 non-null  int64  \n",
            " 21  availability_365                              19655 non-null  int64  \n",
            " 22  number_of_reviews                             19655 non-null  int64  \n",
            " 23  number_of_reviews_ltm                         19655 non-null  int64  \n",
            " 24  number_of_reviews_l30d                        19655 non-null  int64  \n",
            " 25  review_scores_rating                          14428 non-null  float64\n",
            " 26  review_scores_accuracy                        14370 non-null  float64\n",
            " 27  review_scores_cleanliness                     14372 non-null  float64\n",
            " 28  review_scores_checkin                         14371 non-null  float64\n",
            " 29  review_scores_communication                   14370 non-null  float64\n",
            " 30  review_scores_location                        14371 non-null  float64\n",
            " 31  review_scores_value                           14370 non-null  float64\n",
            " 32  calculated_host_listings_count                19655 non-null  int64  \n",
            " 33  calculated_host_listings_count_entire_homes   19655 non-null  int64  \n",
            " 34  calculated_host_listings_count_private_rooms  19655 non-null  int64  \n",
            " 35  calculated_host_listings_count_shared_rooms   19655 non-null  int64  \n",
            " 36  reviews_per_month                             14428 non-null  float64\n",
            "dtypes: float64(22), int64(15)\n",
            "memory usage: 5.5 MB\n"
          ]
        }
      ]
    },
    {
      "cell_type": "code",
      "source": [
        "data = numericas.copy()\n",
        "numericas = numericas.fillna(round(data.mean(),1))\n",
        "numericas.isnull().sum().sum()"
      ],
      "metadata": {
        "colab": {
          "base_uri": "https://localhost:8080/"
        },
        "outputId": "8d60b483-2c20-4536-8a16-9880271ad1cf",
        "id": "hMvQgF_DCaRk"
      },
      "execution_count": 117,
      "outputs": [
        {
          "output_type": "execute_result",
          "data": {
            "text/plain": [
              "0"
            ]
          },
          "metadata": {},
          "execution_count": 117
        }
      ]
    },
    {
      "cell_type": "code",
      "source": [
        "numericas = numericas.drop([\"id\"], axis=1)"
      ],
      "metadata": {
        "id": "9Ft-pf_gCaRk"
      },
      "execution_count": 118,
      "outputs": []
    },
    {
      "cell_type": "code",
      "source": [
        "fig = plt.figure(figsize =(15, 8))\n",
        "numericas.plot(kind='box', vert=False)\n",
        "plt.title(\"Valores Atípicos del Dataframe\")\n",
        "plt.show()"
      ],
      "metadata": {
        "colab": {
          "base_uri": "https://localhost:8080/",
          "height": 427
        },
        "outputId": "2293b9de-3d34-419d-eecb-4b7b0e06d8d4",
        "id": "SNGRiUbaCaRk"
      },
      "execution_count": 119,
      "outputs": [
        {
          "output_type": "display_data",
          "data": {
            "text/plain": [
              "<Figure size 1500x800 with 0 Axes>"
            ]
          },
          "metadata": {}
        },
        {
          "output_type": "display_data",
          "data": {
            "text/plain": [
              "<Figure size 640x480 with 1 Axes>"
            ],
            "image/png": "[encoded data removed]"
          },
          "metadata": {}
        }
      ]
    },
    {
      "cell_type": "code",
      "source": [
        "y=numericas\n",
        "\n",
        "percentile25=y.quantile(0.25) #Q1\n",
        "percentile75=y.quantile(0.75) #Q3\n",
        "iqr= percentile75 - percentile25\n",
        "\n",
        "Limite_Superior_iqr= percentile75 + 1.5*iqr\n",
        "Limite_Inferior_iqr= percentile25 - 1.5*iqr\n",
        "print(\"Limite superior permitido\", Limite_Superior_iqr)\n",
        "print(\"Limite inferior permitido\", Limite_Inferior_iqr)"
      ],
      "metadata": {
        "colab": {
          "base_uri": "https://localhost:8080/"
        },
        "outputId": "c33160c2-7266-4b40-ae90-8b6c88073f57",
        "id": "b3UMep9xCaRl"
      },
      "execution_count": 120,
      "outputs": [
        {
          "output_type": "stream",
          "name": "stdout",
          "text": [
            "Limite superior permitido scrape_id                                       2.023030e+13\n",
            "host_id                                         5.298792e+08\n",
            "host_listings_count                             1.560000e+02\n",
            "host_total_listings_count                       2.270000e+02\n",
            "latitude                                        4.288548e+01\n",
            "longitude                                       3.623007e+00\n",
            "accommodates                                    9.000000e+00\n",
            "bedrooms                                        4.500000e+00\n",
            "beds                                            9.500000e+00\n",
            "minimum_nights                                  1.100000e+01\n",
            "maximum_nights                                  2.722500e+03\n",
            "minimum_minimum_nights                          8.500000e+00\n",
            "maximum_minimum_nights                          1.300000e+01\n",
            "minimum_maximum_nights                          2.767500e+03\n",
            "maximum_maximum_nights                          2.265000e+03\n",
            "minimum_nights_avg_ntm                          9.500000e+00\n",
            "maximum_nights_avg_ntm                          2.265000e+03\n",
            "availability_30                                 6.750000e+01\n",
            "availability_60                                 1.270000e+02\n",
            "availability_90                                 1.700000e+02\n",
            "availability_365                                5.805000e+02\n",
            "number_of_reviews                               3.500000e+01\n",
            "number_of_reviews_ltm                           1.250000e+01\n",
            "number_of_reviews_l30d                          0.000000e+00\n",
            "review_scores_rating                            5.365000e+00\n",
            "review_scores_accuracy                          5.425000e+00\n",
            "review_scores_cleanliness                       5.475000e+00\n",
            "review_scores_checkin                           5.450000e+00\n",
            "review_scores_communication                     5.450000e+00\n",
            "review_scores_location                          5.375000e+00\n",
            "review_scores_value                             5.275000e+00\n",
            "calculated_host_listings_count                  1.285000e+02\n",
            "calculated_host_listings_count_entire_homes     1.285000e+02\n",
            "calculated_host_listings_count_private_rooms    0.000000e+00\n",
            "calculated_host_listings_count_shared_rooms     0.000000e+00\n",
            "reviews_per_month                               1.025000e+00\n",
            "dtype: float64\n",
            "Limite inferior permitido scrape_id                                       2.023030e+13\n",
            "host_id                                        -2.560745e+08\n",
            "host_listings_count                            -9.200000e+01\n",
            "host_total_listings_count                      -1.330000e+02\n",
            "latitude                                        4.118752e+01\n",
            "longitude                                       2.429620e+00\n",
            "accommodates                                    1.000000e+00\n",
            "bedrooms                                        5.000000e-01\n",
            "beds                                           -2.500000e+00\n",
            "minimum_nights                                 -5.000000e+00\n",
            "maximum_nights                                 -1.537500e+03\n",
            "minimum_minimum_nights                         -3.500000e+00\n",
            "maximum_minimum_nights                         -3.000000e+00\n",
            "minimum_maximum_nights                         -1.612500e+03\n",
            "maximum_maximum_nights                         -7.750000e+02\n",
            "minimum_nights_avg_ntm                         -2.500000e+00\n",
            "maximum_nights_avg_ntm                         -7.750000e+02\n",
            "availability_30                                -4.050000e+01\n",
            "availability_60                                -6.500000e+01\n",
            "availability_90                                -6.200000e+01\n",
            "availability_365                               -1.915000e+02\n",
            "number_of_reviews                              -2.100000e+01\n",
            "number_of_reviews_ltm                          -7.500000e+00\n",
            "number_of_reviews_l30d                          0.000000e+00\n",
            "review_scores_rating                            4.045000e+00\n",
            "review_scores_accuracy                          4.105000e+00\n",
            "review_scores_cleanliness                       3.915000e+00\n",
            "review_scores_checkin                           4.250000e+00\n",
            "review_scores_communication                     4.250000e+00\n",
            "review_scores_location                          4.295000e+00\n",
            "review_scores_value                             3.875000e+00\n",
            "calculated_host_listings_count                 -7.550000e+01\n",
            "calculated_host_listings_count_entire_homes    -7.550000e+01\n",
            "calculated_host_listings_count_private_rooms    0.000000e+00\n",
            "calculated_host_listings_count_shared_rooms     0.000000e+00\n",
            "reviews_per_month                              -3.750000e-01\n",
            "dtype: float64\n"
          ]
        }
      ]
    },
    {
      "cell_type": "code",
      "source": [
        "data4_iqr= numericas[(y<=Limite_Superior_iqr)&(y>=Limite_Inferior_iqr)]\n",
        "valores_nulos=data4_iqr.isnull().sum()\n",
        "valores_nulos"
      ],
      "metadata": {
        "colab": {
          "base_uri": "https://localhost:8080/"
        },
        "outputId": "2c0c45b2-7eb2-449d-ac7a-4dd6024dc474",
        "id": "M4aKPHJ3CaRl"
      },
      "execution_count": 121,
      "outputs": [
        {
          "output_type": "execute_result",
          "data": {
            "text/plain": [
              "scrape_id                                          0\n",
              "host_id                                            0\n",
              "host_listings_count                             1682\n",
              "host_total_listings_count                       2447\n",
              "latitude                                           0\n",
              "longitude                                        926\n",
              "accommodates                                    1616\n",
              "bedrooms                                        1355\n",
              "beds                                             565\n",
              "minimum_nights                                   449\n",
              "maximum_nights                                     0\n",
              "minimum_minimum_nights                           434\n",
              "maximum_minimum_nights                          1009\n",
              "minimum_maximum_nights                             0\n",
              "maximum_maximum_nights                             0\n",
              "minimum_nights_avg_ntm                           607\n",
              "maximum_nights_avg_ntm                             0\n",
              "availability_30                                    0\n",
              "availability_60                                    0\n",
              "availability_90                                    0\n",
              "availability_365                                   0\n",
              "number_of_reviews                               2247\n",
              "number_of_reviews_ltm                           1855\n",
              "number_of_reviews_l30d                          1575\n",
              "review_scores_rating                            2229\n",
              "review_scores_accuracy                          1751\n",
              "review_scores_cleanliness                       1359\n",
              "review_scores_checkin                           1627\n",
              "review_scores_communication                     1590\n",
              "review_scores_location                          1502\n",
              "review_scores_value                             1482\n",
              "calculated_host_listings_count                  1679\n",
              "calculated_host_listings_count_entire_homes     1549\n",
              "calculated_host_listings_count_private_rooms    2881\n",
              "calculated_host_listings_count_shared_rooms      181\n",
              "reviews_per_month                               1887\n",
              "dtype: int64"
            ]
          },
          "metadata": {},
          "execution_count": 121
        }
      ]
    },
    {
      "cell_type": "code",
      "source": [
        "data5_iqr=data4_iqr.copy()\n",
        "data5_iqr=data5_iqr.fillna(round(data4_iqr.mean(),1))\n",
        "data5_iqr.isnull().sum()"
      ],
      "metadata": {
        "colab": {
          "base_uri": "https://localhost:8080/"
        },
        "outputId": "e9ccf9d7-9528-4dee-b491-20a95142a620",
        "id": "R0YipE86CaRl"
      },
      "execution_count": 122,
      "outputs": [
        {
          "output_type": "execute_result",
          "data": {
            "text/plain": [
              "scrape_id                                       0\n",
              "host_id                                         0\n",
              "host_listings_count                             0\n",
              "host_total_listings_count                       0\n",
              "latitude                                        0\n",
              "longitude                                       0\n",
              "accommodates                                    0\n",
              "bedrooms                                        0\n",
              "beds                                            0\n",
              "minimum_nights                                  0\n",
              "maximum_nights                                  0\n",
              "minimum_minimum_nights                          0\n",
              "maximum_minimum_nights                          0\n",
              "minimum_maximum_nights                          0\n",
              "maximum_maximum_nights                          0\n",
              "minimum_nights_avg_ntm                          0\n",
              "maximum_nights_avg_ntm                          0\n",
              "availability_30                                 0\n",
              "availability_60                                 0\n",
              "availability_90                                 0\n",
              "availability_365                                0\n",
              "number_of_reviews                               0\n",
              "number_of_reviews_ltm                           0\n",
              "number_of_reviews_l30d                          0\n",
              "review_scores_rating                            0\n",
              "review_scores_accuracy                          0\n",
              "review_scores_cleanliness                       0\n",
              "review_scores_checkin                           0\n",
              "review_scores_communication                     0\n",
              "review_scores_location                          0\n",
              "review_scores_value                             0\n",
              "calculated_host_listings_count                  0\n",
              "calculated_host_listings_count_entire_homes     0\n",
              "calculated_host_listings_count_private_rooms    0\n",
              "calculated_host_listings_count_shared_rooms     0\n",
              "reviews_per_month                               0\n",
              "dtype: int64"
            ]
          },
          "metadata": {},
          "execution_count": 122
        }
      ]
    },
    {
      "cell_type": "code",
      "source": [
        "numericas = data5_iqr\n",
        "numericas.info()"
      ],
      "metadata": {
        "colab": {
          "base_uri": "https://localhost:8080/"
        },
        "outputId": "c6130e11-32db-4c8e-ff1b-85f2e727ecc5",
        "id": "sBmRMg9gCaRl"
      },
      "execution_count": 123,
      "outputs": [
        {
          "output_type": "stream",
          "name": "stdout",
          "text": [
            "<class 'pandas.core.frame.DataFrame'>\n",
            "RangeIndex: 19655 entries, 0 to 19654\n",
            "Data columns (total 36 columns):\n",
            " #   Column                                        Non-Null Count  Dtype  \n",
            "---  ------                                        --------------  -----  \n",
            " 0   scrape_id                                     19655 non-null  float64\n",
            " 1   host_id                                       19655 non-null  int64  \n",
            " 2   host_listings_count                           19655 non-null  float64\n",
            " 3   host_total_listings_count                     19655 non-null  float64\n",
            " 4   latitude                                      19655 non-null  float64\n",
            " 5   longitude                                     19655 non-null  float64\n",
            " 6   accommodates                                  19655 non-null  float64\n",
            " 7   bedrooms                                      19655 non-null  float64\n",
            " 8   beds                                          19655 non-null  float64\n",
            " 9   minimum_nights                                19655 non-null  float64\n",
            " 10  maximum_nights                                19655 non-null  int64  \n",
            " 11  minimum_minimum_nights                        19655 non-null  float64\n",
            " 12  maximum_minimum_nights                        19655 non-null  float64\n",
            " 13  minimum_maximum_nights                        19655 non-null  float64\n",
            " 14  maximum_maximum_nights                        19655 non-null  float64\n",
            " 15  minimum_nights_avg_ntm                        19655 non-null  float64\n",
            " 16  maximum_nights_avg_ntm                        19655 non-null  float64\n",
            " 17  availability_30                               19655 non-null  int64  \n",
            " 18  availability_60                               19655 non-null  int64  \n",
            " 19  availability_90                               19655 non-null  int64  \n",
            " 20  availability_365                              19655 non-null  int64  \n",
            " 21  number_of_reviews                             19655 non-null  float64\n",
            " 22  number_of_reviews_ltm                         19655 non-null  float64\n",
            " 23  number_of_reviews_l30d                        19655 non-null  float64\n",
            " 24  review_scores_rating                          19655 non-null  float64\n",
            " 25  review_scores_accuracy                        19655 non-null  float64\n",
            " 26  review_scores_cleanliness                     19655 non-null  float64\n",
            " 27  review_scores_checkin                         19655 non-null  float64\n",
            " 28  review_scores_communication                   19655 non-null  float64\n",
            " 29  review_scores_location                        19655 non-null  float64\n",
            " 30  review_scores_value                           19655 non-null  float64\n",
            " 31  calculated_host_listings_count                19655 non-null  float64\n",
            " 32  calculated_host_listings_count_entire_homes   19655 non-null  float64\n",
            " 33  calculated_host_listings_count_private_rooms  19655 non-null  float64\n",
            " 34  calculated_host_listings_count_shared_rooms   19655 non-null  float64\n",
            " 35  reviews_per_month                             19655 non-null  float64\n",
            "dtypes: float64(30), int64(6)\n",
            "memory usage: 5.4 MB\n"
          ]
        }
      ]
    },
    {
      "cell_type": "markdown",
      "source": [
        "###**Limpieza de datos (Categóricos)**\n",
        "\n",
        "En el caso de la limpieza de datos nulos en las columnas categóricas, se aplicó un fillna mediante el método forward fill, en donde se completan los datos con el valor que tiene adelante del mismo. Después como no se llenaron todos los datos nulos, se corrió otra vez un código similar, pero ahora usando backward fill. \n",
        "\n",
        "La razón por la que se aplicó este método es porque la columnas que está adelante del valor nulo es la que podría tener más sentido para poder complementar esa columnas sin tener que eliminar el valor, ya que de otra forma nos tendríamos que inventar el dato y eso dejaría de corresponder con la dispersión de los datos que tenemos. \n",
        "\n",
        "Y la razón por la cual se aplicó por segunda vez el método, es porque puede que algunos valores no tengan un valor antes del valor nulo, por lo que para rellenarlo debemos de usar el de después. "
      ],
      "metadata": {
        "id": "kmsAL1G_CaRl"
      }
    },
    {
      "cell_type": "code",
      "source": [
        "categoricas = categoricas.fillna(method=\"ffill\")\n",
        "categoricas = categoricas.fillna(method=\"bfill\")\n",
        "categoricas.isnull().sum()"
      ],
      "metadata": {
        "colab": {
          "base_uri": "https://localhost:8080/"
        },
        "outputId": "0a1f8b28-669c-4911-af69-e5311b71cd94",
        "id": "c-2I7CZwCaRm"
      },
      "execution_count": 124,
      "outputs": [
        {
          "output_type": "execute_result",
          "data": {
            "text/plain": [
              "listing_url               0\n",
              "last_scraped              0\n",
              "source                    0\n",
              "name                      0\n",
              "description               0\n",
              "neighborhood_overview     0\n",
              "picture_url               0\n",
              "host_url                  0\n",
              "host_name                 0\n",
              "host_since                0\n",
              "host_location             0\n",
              "host_about                0\n",
              "host_response_time        0\n",
              "host_response_rate        0\n",
              "host_acceptance_rate      0\n",
              "host_is_superhost         0\n",
              "host_thumbnail_url        0\n",
              "host_picture_url          0\n",
              "host_neighbourhood        0\n",
              "host_verifications        0\n",
              "host_has_profile_pic      0\n",
              "host_identity_verified    0\n",
              "neighbourhood             0\n",
              "neighbourhood_cleansed    0\n",
              "property_type             0\n",
              "room_type                 0\n",
              "bathrooms_text            0\n",
              "amenities                 0\n",
              "price                     0\n",
              "has_availability          0\n",
              "calendar_last_scraped     0\n",
              "first_review              0\n",
              "last_review               0\n",
              "license                   0\n",
              "instant_bookable          0\n",
              "dtype: int64"
            ]
          },
          "metadata": {},
          "execution_count": 124
        }
      ]
    },
    {
      "cell_type": "markdown",
      "source": [
        "###**Concatener Datos limpios**"
      ],
      "metadata": {
        "id": "WMeZw-ttCaRm"
      }
    },
    {
      "cell_type": "code",
      "source": [
        "Datos_limpios = pd.concat([Espana['id'], categoricas, numericas], axis=1)\n",
        "Datos_limpios.info()"
      ],
      "metadata": {
        "colab": {
          "base_uri": "https://localhost:8080/"
        },
        "outputId": "72849540-132a-443e-c50e-d0194d5a1cdd",
        "id": "v00EUJdpCaRm"
      },
      "execution_count": 125,
      "outputs": [
        {
          "output_type": "stream",
          "name": "stdout",
          "text": [
            "<class 'pandas.core.frame.DataFrame'>\n",
            "RangeIndex: 19655 entries, 0 to 19654\n",
            "Data columns (total 72 columns):\n",
            " #   Column                                        Non-Null Count  Dtype  \n",
            "---  ------                                        --------------  -----  \n",
            " 0   id                                            19655 non-null  float64\n",
            " 1   listing_url                                   19655 non-null  object \n",
            " 2   last_scraped                                  19655 non-null  object \n",
            " 3   source                                        19655 non-null  object \n",
            " 4   name                                          19655 non-null  object \n",
            " 5   description                                   19655 non-null  object \n",
            " 6   neighborhood_overview                         19655 non-null  object \n",
            " 7   picture_url                                   19655 non-null  object \n",
            " 8   host_url                                      19655 non-null  object \n",
            " 9   host_name                                     19655 non-null  object \n",
            " 10  host_since                                    19655 non-null  object \n",
            " 11  host_location                                 19655 non-null  object \n",
            " 12  host_about                                    19655 non-null  object \n",
            " 13  host_response_time                            19655 non-null  object \n",
            " 14  host_response_rate                            19655 non-null  object \n",
            " 15  host_acceptance_rate                          19655 non-null  object \n",
            " 16  host_is_superhost                             19655 non-null  object \n",
            " 17  host_thumbnail_url                            19655 non-null  object \n",
            " 18  host_picture_url                              19655 non-null  object \n",
            " 19  host_neighbourhood                            19655 non-null  object \n",
            " 20  host_verifications                            19655 non-null  object \n",
            " 21  host_has_profile_pic                          19655 non-null  object \n",
            " 22  host_identity_verified                        19655 non-null  object \n",
            " 23  neighbourhood                                 19655 non-null  object \n",
            " 24  neighbourhood_cleansed                        19655 non-null  object \n",
            " 25  property_type                                 19655 non-null  object \n",
            " 26  room_type                                     19655 non-null  object \n",
            " 27  bathrooms_text                                19655 non-null  object \n",
            " 28  amenities                                     19655 non-null  object \n",
            " 29  price                                         19655 non-null  object \n",
            " 30  has_availability                              19655 non-null  object \n",
            " 31  calendar_last_scraped                         19655 non-null  object \n",
            " 32  first_review                                  19655 non-null  object \n",
            " 33  last_review                                   19655 non-null  object \n",
            " 34  license                                       19655 non-null  object \n",
            " 35  instant_bookable                              19655 non-null  object \n",
            " 36  scrape_id                                     19655 non-null  float64\n",
            " 37  host_id                                       19655 non-null  int64  \n",
            " 38  host_listings_count                           19655 non-null  float64\n",
            " 39  host_total_listings_count                     19655 non-null  float64\n",
            " 40  latitude                                      19655 non-null  float64\n",
            " 41  longitude                                     19655 non-null  float64\n",
            " 42  accommodates                                  19655 non-null  float64\n",
            " 43  bedrooms                                      19655 non-null  float64\n",
            " 44  beds                                          19655 non-null  float64\n",
            " 45  minimum_nights                                19655 non-null  float64\n",
            " 46  maximum_nights                                19655 non-null  int64  \n",
            " 47  minimum_minimum_nights                        19655 non-null  float64\n",
            " 48  maximum_minimum_nights                        19655 non-null  float64\n",
            " 49  minimum_maximum_nights                        19655 non-null  float64\n",
            " 50  maximum_maximum_nights                        19655 non-null  float64\n",
            " 51  minimum_nights_avg_ntm                        19655 non-null  float64\n",
            " 52  maximum_nights_avg_ntm                        19655 non-null  float64\n",
            " 53  availability_30                               19655 non-null  int64  \n",
            " 54  availability_60                               19655 non-null  int64  \n",
            " 55  availability_90                               19655 non-null  int64  \n",
            " 56  availability_365                              19655 non-null  int64  \n",
            " 57  number_of_reviews                             19655 non-null  float64\n",
            " 58  number_of_reviews_ltm                         19655 non-null  float64\n",
            " 59  number_of_reviews_l30d                        19655 non-null  float64\n",
            " 60  review_scores_rating                          19655 non-null  float64\n",
            " 61  review_scores_accuracy                        19655 non-null  float64\n",
            " 62  review_scores_cleanliness                     19655 non-null  float64\n",
            " 63  review_scores_checkin                         19655 non-null  float64\n",
            " 64  review_scores_communication                   19655 non-null  float64\n",
            " 65  review_scores_location                        19655 non-null  float64\n",
            " 66  review_scores_value                           19655 non-null  float64\n",
            " 67  calculated_host_listings_count                19655 non-null  float64\n",
            " 68  calculated_host_listings_count_entire_homes   19655 non-null  float64\n",
            " 69  calculated_host_listings_count_private_rooms  19655 non-null  float64\n",
            " 70  calculated_host_listings_count_shared_rooms   19655 non-null  float64\n",
            " 71  reviews_per_month                             19655 non-null  float64\n",
            "dtypes: float64(31), int64(6), object(35)\n",
            "memory usage: 10.8+ MB\n"
          ]
        }
      ]
    },
    {
      "cell_type": "markdown",
      "source": [
        "###**Enviar a CSV**"
      ],
      "metadata": {
        "id": "LpVXyog_CaRm"
      }
    },
    {
      "cell_type": "code",
      "source": [
        "Datos_limpios.to_csv(\"Girona_España (Limpio).csv\")\n",
        "files.download(\"Girona_España (Limpio).csv\")"
      ],
      "metadata": {
        "colab": {
          "base_uri": "https://localhost:8080/",
          "height": 0
        },
        "id": "tdAQaHcdCaRm",
        "outputId": "156f0f2a-729f-4fe2-ce71-6ca8bb79d7f8"
      },
      "execution_count": 126,
      "outputs": [
        {
          "output_type": "display_data",
          "data": {
            "text/plain": [
              "<IPython.core.display.Javascript object>"
            ],
            "application/javascript": [
              "\n",
              "    async function download(id, filename, size) {\n",
              "      if (!google.colab.kernel.accessAllowed) {\n",
              "        return;\n",
              "      }\n",
              "      const div = document.createElement('div');\n",
              "      const label = document.createElement('label');\n",
              "      label.textContent = `Downloading \"${filename}\": `;\n",
              "      div.appendChild(label);\n",
              "      const progress = document.createElement('progress');\n",
              "      progress.max = size;\n",
              "      div.appendChild(progress);\n",
              "      document.body.appendChild(div);\n",
              "\n",
              "      const buffers = [];\n",
              "      let downloaded = 0;\n",
              "\n",
              "      const channel = await google.colab.kernel.comms.open(id);\n",
              "      // Send a message to notify the kernel that we're ready.\n",
              "      channel.send({})\n",
              "\n",
              "      for await (const message of channel.messages) {\n",
              "        // Send a message to notify the kernel that we're ready.\n",
              "        channel.send({})\n",
              "        if (message.buffers) {\n",
              "          for (const buffer of message.buffers) {\n",
              "            buffers.push(buffer);\n",
              "            downloaded += buffer.byteLength;\n",
              "            progress.value = downloaded;\n",
              "          }\n",
              "        }\n",
              "      }\n",
              "      const blob = new Blob(buffers, {type: 'application/binary'});\n",
              "      const a = document.createElement('a');\n",
              "      a.href = window.URL.createObjectURL(blob);\n",
              "      a.download = filename;\n",
              "      div.appendChild(a);\n",
              "      a.click();\n",
              "      div.remove();\n",
              "    }\n",
              "  "
            ]
          },
          "metadata": {}
        },
        {
          "output_type": "display_data",
          "data": {
            "text/plain": [
              "<IPython.core.display.Javascript object>"
            ],
            "application/javascript": [
              "download(\"download_fbb5f95d-679b-4293-be92-d44d30d1dcaf\", \"Girona_Espa\\u00f1a (Limpio).csv\", 63816167)"
            ]
          },
          "metadata": {}
        }
      ]
    }
  ]
}